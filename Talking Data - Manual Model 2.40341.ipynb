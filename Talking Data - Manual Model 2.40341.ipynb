{
 "cells": [
  {
   "cell_type": "code",
   "execution_count": 9,
   "metadata": {
    "collapsed": true
   },
   "outputs": [],
   "source": [
    "import pandas as pd\n",
    "import numpy as np\n",
    "import matplotlib.pyplot as plt\n",
    "%matplotlib inline\n",
    "import os\n",
    "from sklearn.preprocessing import LabelEncoder\n",
    "from sklearn.metrics import log_loss\n",
    "from sklearn.cross_validation import train_test_split, StratifiedKFold, KFold"
   ]
  },
  {
   "cell_type": "code",
   "execution_count": 18,
   "metadata": {
    "collapsed": true
   },
   "outputs": [],
   "source": [
    "file_path = 'C:\\\\hudsondata\\\\Machine Learning\\\\TalkingData'\n",
    "train = pd.read_csv(os.path.join(file_path,'gender_age_train.csv'))\n",
    "test = pd.read_csv(os.path.join(file_path,'gender_age_test.csv'))\n",
    "phone = pd.read_csv(os.path.join(file_path,'phone_brand_device_model.csv'))"
   ]
  },
  {
   "cell_type": "code",
   "execution_count": 19,
   "metadata": {
    "collapsed": false
   },
   "outputs": [
    {
     "name": "stdout",
     "output_type": "stream",
     "text": [
      "The shape of train is  (74645, 4) the shape for test is (112071, 1) the shape for phone is (186716, 3)\n"
     ]
    }
   ],
   "source": [
    "phone = phone.drop_duplicates('device_id', keep='last')\n",
    "print 'The shape of train is ', train.shape, 'the shape for test is', test.shape, 'the shape for phone is', phone.shape"
   ]
  },
  {
   "cell_type": "code",
   "execution_count": 20,
   "metadata": {
    "collapsed": true
   },
   "outputs": [],
   "source": [
    "brandencoder = LabelEncoder().fit(phone['phone_brand'])\n",
    "modelencoder = LabelEncoder().fit(phone['phone_brand'].map(str)+phone['device_model'])\n",
    "groupencoder = LabelEncoder().fit(train['group'])\n",
    "phone['brand'] = brandencoder.transform(phone['phone_brand'])\n",
    "phone['model'] = modelencoder.transform(phone['phone_brand'].map(str)+phone['device_model'])\n",
    "phone = phone.drop(['phone_brand','device_model'],axis=1)\n",
    "train['classes'] = groupencoder.transform(train['group'])\n",
    "train = train.drop(['group'],axis=1)"
   ]
  },
  {
   "cell_type": "code",
   "execution_count": 21,
   "metadata": {
    "collapsed": false
   },
   "outputs": [
    {
     "name": "stdout",
     "output_type": "stream",
     "text": [
      "The shape of train is (74645, 6) the shape of test is (112071, 3)\n"
     ]
    }
   ],
   "source": [
    "train = pd.merge(train, phone, on='device_id', how='left')\n",
    "test = pd.merge(test, phone, on='device_id', how='left')\n",
    "print 'The shape of train is', train.shape, 'the shape of test is', test.shape"
   ]
  },
  {
   "cell_type": "code",
   "execution_count": 22,
   "metadata": {
    "collapsed": false
   },
   "outputs": [
    {
     "name": "stdout",
     "output_type": "stream",
     "text": [
      "The shape of train2 is (74645, 4)\n"
     ]
    }
   ],
   "source": [
    "train2 = train.drop(['gender','age'], axis=1)\n",
    "print 'The shape of train2 is', train2.shape"
   ]
  },
  {
   "cell_type": "code",
   "execution_count": 23,
   "metadata": {
    "collapsed": true
   },
   "outputs": [],
   "source": [
    "y=train2['classes']\n",
    "train2 =train2[['device_id','brand','model','classes']]"
   ]
  },
  {
   "cell_type": "code",
   "execution_count": 39,
   "metadata": {
    "collapsed": true
   },
   "outputs": [],
   "source": [
    "def model(joined, testy, ytest, num):    #joined is train_merge, X_test is test_merge\n",
    "\n",
    "    groupj = joined.groupby(['model','classes']).size().unstack().fillna(0)\n",
    "    priorj = pd.DataFrame((pd.DataFrame(joined['classes'].value_counts().sort_index()/len(joined))).as_matrix().reshape(1,12))\n",
    "    groupjsum = groupj.copy()\n",
    "    groupjsum['sum'] = groupjsum.sum(axis=1)\n",
    "    groupjsum['weight'] = [ 29 if x<10 else num for x in groupjsum['sum']]\n",
    "    groupjsum['weightandsum'] = groupjsum['sum']+groupjsum['weight']\n",
    "    model_weight = groupjsum['weight']\n",
    "    priorjmult = priorj.append([priorj]*((groupjsum.shape[0]-1))).set_index(groupjsum.index)\n",
    "    priorjweight = priorjmult.mul(model_weight,axis=0)\n",
    "    groupjsum2 = groupjsum.drop(['sum','weight','weightandsum'],axis=1)\n",
    "    groupjsum3 = groupjsum2.add(priorjweight)\n",
    "    weight_sum = groupjsum['weightandsum']\n",
    "    groupjsum3 = groupjsum3.div(weight_sum,axis=0)\n",
    "    \n",
    "    groupj2 = joined.groupby(['brand','classes']).size().unstack().fillna(0)\n",
    "    groupj2sum = groupj2.copy()\n",
    "    groupj2sum['sum'] = groupj2sum.sum(axis=1)\n",
    "    groupj2sum['weight'] = [ 40 if x<10 else 30 for x in groupj2sum['sum']]\n",
    "    groupj2sum['weightandsum'] = groupj2sum['sum']+groupj2sum['weight']\n",
    "    model_weight2 = groupj2sum['weight']\n",
    "    priorj2mult = priorj.append([priorj]*((groupj2sum.shape[0]-1))).set_index(groupj2sum.index)\n",
    "    priorj2weight = priorj2mult.mul(model_weight2,axis=0)\n",
    "    groupj2sum2 = groupj2sum.drop(['sum','weight','weightandsum'],axis=1)\n",
    "    groupj2sum3 = groupj2sum2.add(priorj2weight)\n",
    "    weight_sum2 = groupj2sum['weightandsum']\n",
    "    groupj2sum3 = groupj2sum3.div(weight_sum2,axis=0)\n",
    "    \n",
    "    merged = pd.merge(testy,groupjsum3.reset_index(), how ='left', on='model').set_index(testy.index)\n",
    "    nanvalues = merged[pd.isnull(merged).any(axis=1)].drop((np.arange(0,12)),axis=1)\n",
    "    merged = merged.dropna()\n",
    "    \n",
    "    nanvalues2 = nanvalues.merge(groupj2sum3.reset_index(), how=\"left\").set_index(nanvalues.index)\n",
    "    merged = merged.append(nanvalues2)\n",
    "    benchmark = merged[pd.isnull(merged).any(axis=1)].fillna(0).add(priorj.ix[0])\n",
    "    benchmark2 = benchmark.drop(['brand','device_id','model'],axis=1)\n",
    "    benchmark2 = benchmark2.join(test) #to add the device ids back\n",
    "    merged= merged.dropna()\n",
    "    merged = merged.append(benchmark2).sort_index()\n",
    "    merged = merged.drop(['brand','device_id','model','classes'],axis=1).sort_index()\n",
    "    return merged.as_matrix()"
   ]
  },
  {
   "cell_type": "code",
   "execution_count": 40,
   "metadata": {
    "collapsed": false
   },
   "outputs": [
    {
     "name": "stdout",
     "output_type": "stream",
     "text": [
      "[2.4191292207570601, 2.4180961392025009, 2.4180004148070817, 2.4180451417213438, 2.4181134399969455, 2.4181802405511696, 2.4182399800217125, 2.4182920945449071, 2.4183373279136813, 2.4183766741509345]\n"
     ]
    }
   ],
   "source": [
    "mean_list=[]\n",
    "kf = StratifiedKFold(y,n_folds=10,random_state=0)\n",
    "weights = [10,20,30,40,50,60,70,80,90,100]\n",
    "for num in weights:\n",
    "    for itrain, itest in kf:\n",
    "        accuracy_list=[]\n",
    "        trainy = train2.iloc[itrain,:]\n",
    "        testy = train2.iloc[itest,:]\n",
    "        ytrain, ytest = y[itrain],y[itest]\n",
    "        merged = model(trainy,testy,ytest,num)\n",
    "        accuracy = log_loss(ytest,merged)\n",
    "        accuracy_list.append(accuracy)\n",
    "    mean_list.append(np.mean(accuracy_list))\n",
    "print mean_list"
   ]
  },
  {
   "cell_type": "code",
   "execution_count": 41,
   "metadata": {
    "collapsed": false
   },
   "outputs": [
    {
     "data": {
      "text/plain": [
       "[<matplotlib.lines.Line2D at 0xcafa630>]"
      ]
     },
     "execution_count": 41,
     "metadata": {},
     "output_type": "execute_result"
    },
    {
     "data": {
      "image/png": "[encoded data removed]",
      "text/plain": [
       "<matplotlib.figure.Figure at 0xa627cc0>"
      ]
     },
     "metadata": {},
     "output_type": "display_data"
    }
   ],
   "source": [
    "plt.plot(weights,mean_list)"
   ]
  },
  {
   "cell_type": "code",
   "execution_count": 42,
   "metadata": {
    "collapsed": false
   },
   "outputs": [
    {
     "name": "stdout",
     "output_type": "stream",
     "text": [
      "[2.4180137811737965, 2.4180073781093436, 2.4180031527992512, 2.4180007657314961, 2.4179999327029553, 2.4180004148070817, 2.4180020104393716, 2.418004548871846, 2.4180078850568023, 2.4180118954004777, 2.4180164743070387]\n"
     ]
    }
   ],
   "source": [
    "mean_list=[]\n",
    "kf = StratifiedKFold(y,n_folds=10,random_state=0)\n",
    "weights = [25,26,27,28,29,30,31,32,33,34,35]\n",
    "for num in weights:\n",
    "    for itrain, itest in kf:\n",
    "        accuracy_list=[]\n",
    "        trainy = train2.iloc[itrain,:]\n",
    "        testy = train2.iloc[itest,:]\n",
    "        ytrain, ytest = y[itrain],y[itest]\n",
    "        merged = model(trainy,testy,ytest,num)\n",
    "        accuracy = log_loss(ytest,merged)\n",
    "        accuracy_list.append(accuracy)\n",
    "    mean_list.append(np.mean(accuracy_list))\n",
    "print mean_list"
   ]
  },
  {
   "cell_type": "code",
   "execution_count": 43,
   "metadata": {
    "collapsed": false
   },
   "outputs": [
    {
     "data": {
      "text/plain": [
       "[<matplotlib.lines.Line2D at 0xcb75860>]"
      ]
     },
     "execution_count": 43,
     "metadata": {},
     "output_type": "execute_result"
    },
    {
     "data": {
      "image/png": "[encoded data removed]",
      "text/plain": [
       "<matplotlib.figure.Figure at 0xcafa6a0>"
      ]
     },
     "metadata": {},
     "output_type": "display_data"
    }
   ],
   "source": [
    "plt.plot(weights,mean_list)"
   ]
  },
  {
   "cell_type": "code",
   "execution_count": 44,
   "metadata": {
    "collapsed": false
   },
   "outputs": [
    {
     "name": "stdout",
     "output_type": "stream",
     "text": [
      "[2.4191292207570601, 2.4180961392025009, 2.4180004148070817, 2.4180451417213438, 2.4181134399969455, 2.4181802405511696, 2.4182399800217125, 2.4182920945449071, 2.4183373279136813, 2.4183766741509345]\n"
     ]
    }
   ],
   "source": [
    "mean_list=[]\n",
    "kf = StratifiedKFold(y,n_folds=10,random_state=0)\n",
    "weights = [10,20,30,40,50,60,70,80,90,100]\n",
    "for num in weights:\n",
    "    for itrain, itest in kf:\n",
    "        accuracy_list=[]\n",
    "        trainy = train2.iloc[itrain,:]\n",
    "        testy = train2.iloc[itest,:]\n",
    "        ytrain, ytest = y[itrain],y[itest]\n",
    "        merged = model(trainy,testy,ytest,num)\n",
    "        accuracy = log_loss(ytest,merged)\n",
    "        accuracy_list.append(accuracy)\n",
    "    mean_list.append(np.mean(accuracy_list))\n",
    "print mean_list"
   ]
  },
  {
   "cell_type": "code",
   "execution_count": null,
   "metadata": {
    "collapsed": true
   },
   "outputs": [],
   "source": []
  },
  {
   "cell_type": "code",
   "execution_count": 45,
   "metadata": {
    "collapsed": false
   },
   "outputs": [
    {
     "data": {
      "text/plain": [
       "[<matplotlib.lines.Line2D at 0xc834240>]"
      ]
     },
     "execution_count": 45,
     "metadata": {},
     "output_type": "execute_result"
    },
    {
     "data": {
      "image/png": "[encoded data removed]",
      "text/plain": [
       "<matplotlib.figure.Figure at 0xc735f28>"
      ]
     },
     "metadata": {},
     "output_type": "display_data"
    }
   ],
   "source": [
    "plt.plot(weights,mean_list)"
   ]
  },
  {
   "cell_type": "code",
   "execution_count": 46,
   "metadata": {
    "collapsed": false
   },
   "outputs": [
    {
     "name": "stdout",
     "output_type": "stream",
     "text": [
      "[2.4180137811737965, 2.4180073781093436, 2.4180031527992512, 2.4180007657314961, 2.4179999327029553, 2.4180004148070817, 2.4180020104393716, 2.418004548871846, 2.4180078850568023, 2.4180118954004777, 2.4180164743070387]\n"
     ]
    }
   ],
   "source": [
    "mean_list=[]\n",
    "kf = StratifiedKFold(y,n_folds=10,random_state=0)\n",
    "weights = [25,26,27,28,29,30,31,32,33,34,35]\n",
    "for num in weights:\n",
    "    for itrain, itest in kf:\n",
    "        accuracy_list=[]\n",
    "        trainy = train2.iloc[itrain,:]\n",
    "        testy = train2.iloc[itest,:]\n",
    "        ytrain, ytest = y[itrain],y[itest]\n",
    "        merged = model(trainy,testy,ytest,num)\n",
    "        accuracy = log_loss(ytest,merged)\n",
    "        accuracy_list.append(accuracy)\n",
    "    mean_list.append(np.mean(accuracy_list))\n",
    "print mean_list"
   ]
  },
  {
   "cell_type": "code",
   "execution_count": 47,
   "metadata": {
    "collapsed": false
   },
   "outputs": [
    {
     "data": {
      "text/plain": [
       "[<matplotlib.lines.Line2D at 0xca57940>]"
      ]
     },
     "execution_count": 47,
     "metadata": {},
     "output_type": "execute_result"
    },
    {
     "data": {
      "image/png": "[encoded data removed]",
      "text/plain": [
       "<matplotlib.figure.Figure at 0xcc0a2b0>"
      ]
     },
     "metadata": {},
     "output_type": "display_data"
    }
   ],
   "source": [
    "plt.plot(weights,mean_list)"
   ]
  },
  {
   "cell_type": "code",
   "execution_count": 53,
   "metadata": {
    "collapsed": false
   },
   "outputs": [],
   "source": [
    "def brand(joined, testy, ytest, num):    #joined is train_merge, X_test is test_merge\n",
    "\n",
    "    groupj = joined.groupby(['brand','classes']).size().unstack().fillna(0)\n",
    "    priorj = pd.DataFrame((pd.DataFrame(joined['classes'].value_counts().sort_index()/len(joined))).as_matrix().reshape(1,12))\n",
    "    groupjsum = groupj.copy()\n",
    "    groupjsum['sum'] = groupjsum.sum(axis=1)\n",
    "    groupjsum['weight'] = [100 if x<10 else num for x in groupjsum['sum']]\n",
    "    groupjsum['weightandsum'] = groupjsum['sum']+groupjsum['weight']\n",
    "    model_weight = groupjsum['weight']\n",
    "    priorjmult = priorj.append([priorj]*((groupjsum.shape[0]-1))).set_index(groupjsum.index)\n",
    "    priorjweight = priorjmult.mul(model_weight,axis=0)\n",
    "    groupjsum2 = groupjsum.drop(['sum','weight','weightandsum'],axis=1)\n",
    "    groupjsum3 = groupjsum2.add(priorjweight)\n",
    "    weight_sum = groupjsum['weightandsum']\n",
    "    groupjsum3 = groupjsum3.div(weight_sum,axis=0)\n",
    "    \n",
    "    groupj2 = joined.groupby(['model','classes']).size().unstack().fillna(0)\n",
    "    groupj2sum = groupj2.copy()\n",
    "    groupj2sum['sum'] = groupj2sum.sum(axis=1)\n",
    "    groupj2sum['weight'] = [ 40 if x<10 else 30 for x in groupj2sum['sum']]\n",
    "    groupj2sum['weightandsum'] = groupj2sum['sum']+groupj2sum['weight']\n",
    "    model_weight2 = groupj2sum['weight']\n",
    "    priorj2mult = priorj.append([priorj]*((groupj2sum.shape[0]-1))).set_index(groupj2sum.index)\n",
    "    priorj2weight = priorj2mult.mul(model_weight2,axis=0)\n",
    "    groupj2sum2 = groupj2sum.drop(['sum','weight','weightandsum'],axis=1)\n",
    "    groupj2sum3 = groupj2sum2.add(priorj2weight)\n",
    "    weight_sum2 = groupj2sum['weightandsum']\n",
    "    groupj2sum3 = groupj2sum3.div(weight_sum2,axis=0)\n",
    "    \n",
    "    merged = pd.merge(testy,groupjsum3.reset_index(), how ='left', on='brand').set_index(testy.index)\n",
    "    nanvalues = merged[pd.isnull(merged).any(axis=1)].drop((np.arange(0,12)),axis=1)\n",
    "    merged = merged.dropna()\n",
    "    \n",
    "    nanvalues2 = nanvalues.merge(groupj2sum3.reset_index(), how=\"left\").set_index(nanvalues.index)\n",
    "    merged = merged.append(nanvalues2)\n",
    "    benchmark = merged[pd.isnull(merged).any(axis=1)].fillna(0).add(priorj.ix[0])\n",
    "    benchmark2 = benchmark.drop(['brand','device_id','model'],axis=1)\n",
    "    benchmark2 = benchmark2.join(test) #to add the device ids back\n",
    "    merged= merged.dropna()\n",
    "    merged = merged.append(benchmark2).sort_index()\n",
    "    merged = merged.drop(['brand','device_id','model','classes'],axis=1).sort_index()\n",
    "    return merged.as_matrix()"
   ]
  },
  {
   "cell_type": "code",
   "execution_count": 51,
   "metadata": {
    "collapsed": false
   },
   "outputs": [
    {
     "name": "stdout",
     "output_type": "stream",
     "text": [
      "[2.408105767509118, 2.4076176161360783, 2.4073545884079621, 2.4071780353312877, 2.4070464978076629, 2.4069423713501044, 2.4068566437158694, 2.4067841123424585, 2.4067215095554548, 2.4066666506665988]\n"
     ]
    }
   ],
   "source": [
    "mean_list=[]\n",
    "kf = StratifiedKFold(y,n_folds=10,random_state=0)\n",
    "weights = [10,20,30,40,50,60,70,80,90,100]\n",
    "for num in weights:\n",
    "    for itrain, itest in kf:\n",
    "        accuracy_list=[]\n",
    "        trainy = train2.iloc[itrain,:]\n",
    "        testy = train2.iloc[itest,:]\n",
    "        ytrain, ytest = y[itrain],y[itest]\n",
    "        merged = brand(trainy,testy,ytest,num)\n",
    "        accuracy = log_loss(ytest,merged)\n",
    "        accuracy_list.append(accuracy)\n",
    "    mean_list.append(np.mean(accuracy_list))\n",
    "print mean_list"
   ]
  },
  {
   "cell_type": "code",
   "execution_count": 52,
   "metadata": {
    "collapsed": false
   },
   "outputs": [
    {
     "data": {
      "text/plain": [
       "[<matplotlib.lines.Line2D at 0xc539f28>]"
      ]
     },
     "execution_count": 52,
     "metadata": {},
     "output_type": "execute_result"
    },
    {
     "data": {
      "image/png": "[encoded data removed]",
      "text/plain": [
       "<matplotlib.figure.Figure at 0xcaeef98>"
      ]
     },
     "metadata": {},
     "output_type": "display_data"
    }
   ],
   "source": [
    "plt.plot(weights,mean_list)"
   ]
  },
  {
   "cell_type": "code",
   "execution_count": 54,
   "metadata": {
    "collapsed": false
   },
   "outputs": [
    {
     "name": "stdout",
     "output_type": "stream",
     "text": [
      "[2.4069596274589915, 2.4067402408177299, 2.4066611058524892, 2.4066205763078168, 2.406596025633855, 2.4065795903639722, 2.4065678297450521, 2.406559003428633, 2.4065521379369454, 2.4065466467428736]\n"
     ]
    }
   ],
   "source": [
    "mean_list=[]\n",
    "kf = StratifiedKFold(y,n_folds=10,random_state=0)\n",
    "weights = [10,20,30,40,50,60,70,80,90,100]\n",
    "for num in weights:\n",
    "    for itrain, itest in kf:\n",
    "        accuracy_list=[]\n",
    "        trainy = train2.iloc[itrain,:]\n",
    "        testy = train2.iloc[itest,:]\n",
    "        ytrain, ytest = y[itrain],y[itest]\n",
    "        merged = brand(trainy,testy,ytest,num)\n",
    "        accuracy = log_loss(ytest,merged)\n",
    "        accuracy_list.append(accuracy)\n",
    "    mean_list.append(np.mean(accuracy_list))\n",
    "print mean_list"
   ]
  },
  {
   "cell_type": "code",
   "execution_count": 55,
   "metadata": {
    "collapsed": false
   },
   "outputs": [
    {
     "data": {
      "text/plain": [
       "[<matplotlib.lines.Line2D at 0xcafac18>]"
      ]
     },
     "execution_count": 55,
     "metadata": {},
     "output_type": "execute_result"
    },
    {
     "data": {
      "image/png": "[encoded data removed]",
      "text/plain": [
       "<matplotlib.figure.Figure at 0xaa1e7f0>"
      ]
     },
     "metadata": {},
     "output_type": "display_data"
    }
   ],
   "source": [
    "plt.plot(weights,mean_list)"
   ]
  },
  {
   "cell_type": "code",
   "execution_count": 66,
   "metadata": {
    "collapsed": false
   },
   "outputs": [
    {
     "name": "stdout",
     "output_type": "stream",
     "text": [
      "[2.4138535985357761, 2.4104745496679842, 2.4077971537262419, 2.4057772615603286, 2.404385528224005, 2.4036039553291246, 2.4034241248069153, 2.4038465172713761, 2.4048807234852472]\n"
     ]
    }
   ],
   "source": [
    "mean_list=[]\n",
    "kf = StratifiedKFold(y,n_folds=10,random_state=0)\n",
    "a=np.arange(0.1,1,0.1)\n",
    "b=np.arange(0.9,0,-0.1)\n",
    "for a,b in zip(a,b):\n",
    "    for itrain, itest in kf:\n",
    "        accuracy_list=[]\n",
    "        trainy = train2.iloc[itrain,:]\n",
    "        testy = train2.iloc[itest,:]\n",
    "        ytrain, ytest = y[itrain],y[itest]\n",
    "        mergedbrand = brand(trainy,testy,ytest,100)\n",
    "        mergedmodel = model(trainy,testy,ytest,29)\n",
    "        supermerged = (pd.DataFrame(mergedbrand).mul(a)).add(pd.DataFrame(mergedmodel).mul(b))\n",
    "        supermerged = supermerged.as_matrix()\n",
    "        accuracy = log_loss(ytest,supermerged)\n",
    "        accuracy_list.append(accuracy)\n",
    "    mean_list.append(np.mean(accuracy_list))\n",
    "print mean_list"
   ]
  },
  {
   "cell_type": "code",
   "execution_count": 68,
   "metadata": {
    "collapsed": false
   },
   "outputs": [
    {
     "data": {
      "text/plain": [
       "[<matplotlib.lines.Line2D at 0xc5985f8>]"
      ]
     },
     "execution_count": 68,
     "metadata": {},
     "output_type": "execute_result"
    },
    {
     "data": {
      "image/png": "[encoded data removed]",
      "text/plain": [
       "<matplotlib.figure.Figure at 0xcabf9b0>"
      ]
     },
     "metadata": {},
     "output_type": "display_data"
    }
   ],
   "source": [
    "plt.plot(mean_list)"
   ]
  },
  {
   "cell_type": "code",
   "execution_count": 69,
   "metadata": {
    "collapsed": false
   },
   "outputs": [
    {
     "name": "stdout",
     "output_type": "stream",
     "text": [
      "This means that the merge model should be 0.7 and the brand model should 0.3x\n"
     ]
    }
   ],
   "source": [
    "print \"This means that the merge model should be 0.7 and the brand model should 0.3x\""
   ]
  },
  {
   "cell_type": "code",
   "execution_count": 72,
   "metadata": {
    "collapsed": false
   },
   "outputs": [
    {
     "name": "stdout",
     "output_type": "stream",
     "text": [
      "[2.4034389989795732, 2.403424014861705, 2.4034150331732773, 2.4034120556857337, 2.4034150850512725, 2.4034241248069153, 2.4034391793794581, 2.4034602540913039, 2.4034873551672171]\n"
     ]
    }
   ],
   "source": [
    "mean_list=[]\n",
    "kf = StratifiedKFold(y,n_folds=10,random_state=0)\n",
    "a=np.arange(0.65,0.75,0.01)\n",
    "b=np.arange(0.35,0.26,-0.01)\n",
    "for a,b in zip(a,b):\n",
    "    for itrain, itest in kf:\n",
    "        accuracy_list=[]\n",
    "        trainy = train2.iloc[itrain,:]\n",
    "        testy = train2.iloc[itest,:]\n",
    "        ytrain, ytest = y[itrain],y[itest]\n",
    "        mergedbrand = brand(trainy,testy,ytest,100)\n",
    "        mergedmodel = model(trainy,testy,ytest,29)\n",
    "        supermerged = (pd.DataFrame(mergedbrand).mul(a)).add(pd.DataFrame(mergedmodel).mul(b))\n",
    "        supermerged = supermerged.as_matrix()\n",
    "        accuracy = log_loss(ytest,supermerged)\n",
    "        accuracy_list.append(accuracy)\n",
    "    mean_list.append(np.mean(accuracy_list))\n",
    "print mean_list"
   ]
  },
  {
   "cell_type": "code",
   "execution_count": 73,
   "metadata": {
    "collapsed": false
   },
   "outputs": [
    {
     "data": {
      "text/plain": [
       "[<matplotlib.lines.Line2D at 0xc8d5390>]"
      ]
     },
     "execution_count": 73,
     "metadata": {},
     "output_type": "execute_result"
    },
    {
     "data": {
      "image/png": "[encoded data removed]",
      "text/plain": [
       "<matplotlib.figure.Figure at 0xa9525c0>"
      ]
     },
     "metadata": {},
     "output_type": "display_data"
    }
   ],
   "source": [
    "plt.plot(mean_list)"
   ]
  },
  {
   "cell_type": "code",
   "execution_count": 75,
   "metadata": {
    "collapsed": false
   },
   "outputs": [
    {
     "name": "stdout",
     "output_type": "stream",
     "text": [
      "The ideal mix is model at 0.68 and brand at 0.32 at 2.403412\n"
     ]
    }
   ],
   "source": [
    "print 'The ideal mix is model at 0.68 and brand at 0.32 at 2.403412'"
   ]
  },
  {
   "cell_type": "code",
   "execution_count": null,
   "metadata": {
    "collapsed": true
   },
   "outputs": [],
   "source": []
  }
 ],
 "metadata": {
  "kernelspec": {
   "display_name": "Python 2",
   "language": "python",
   "name": "python2"
  },
  "language_info": {
   "codemirror_mode": {
    "name": "ipython",
    "version": 2
   },
   "file_extension": ".py",
   "mimetype": "text/x-python",
   "name": "python",
   "nbconvert_exporter": "python",
   "pygments_lexer": "ipython2",
   "version": "2.7.11"
  }
 },
 "nbformat": 4,
 "nbformat_minor": 0
}
