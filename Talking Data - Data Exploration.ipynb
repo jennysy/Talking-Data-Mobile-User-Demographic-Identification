{
 "cells": [
  {
   "cell_type": "code",
   "execution_count": 1,
   "metadata": {
    "collapsed": true
   },
   "outputs": [],
   "source": [
    "import pandas as pd\n",
    "import numpy as np\n",
    "\n",
    "import matplotlib.pyplot as plt\n",
    "%matplotlib inline"
   ]
  },
  {
   "cell_type": "code",
   "execution_count": 2,
   "metadata": {
    "collapsed": true
   },
   "outputs": [],
   "source": [
    "file_path = 'C:\\\\hudsondata\\\\Machine Learning\\\\TalkingData\\\\gender_age_train.csv'"
   ]
  },
  {
   "cell_type": "code",
   "execution_count": 4,
   "metadata": {
    "collapsed": false
   },
   "outputs": [],
   "source": [
    "train_data = pd.read_csv(file_path)"
   ]
  },
  {
   "cell_type": "code",
   "execution_count": 8,
   "metadata": {
    "collapsed": false
   },
   "outputs": [],
   "source": [
    "file_path = 'C:\\\\hudsondata\\\\Machine Learning\\\\TalkingData\\\\gender_age_test.csv'"
   ]
  },
  {
   "cell_type": "code",
   "execution_count": 9,
   "metadata": {
    "collapsed": true
   },
   "outputs": [],
   "source": [
    "test_data = pd.read_csv(file_path)"
   ]
  },
  {
   "cell_type": "code",
   "execution_count": 21,
   "metadata": {
    "collapsed": false
   },
   "outputs": [
    {
     "name": "stdout",
     "output_type": "stream",
     "text": [
      "The train data has 74645 samples with the columns Index([u'device_id', u'gender', u'age', u'group'], dtype='object')  with the target variable being group, while the test data has 112071 samples with only the device ID\n"
     ]
    }
   ],
   "source": [
    "print \"The train data has\", len(train_data), \"samples with the columns\", str(train_data.columns), \" with the target \\\n",
    "variable being group, while the test data has\", len(test_data), 'samples with only the device ID'"
   ]
  },
  {
   "cell_type": "code",
   "execution_count": 25,
   "metadata": {
    "collapsed": false
   },
   "outputs": [
    {
     "data": {
      "text/plain": [
       "M23-26    9605\n",
       "M32-38    9476\n",
       "M39+      8581\n",
       "M22-      7488\n",
       "M29-31    7309\n",
       "F33-42    5561\n",
       "M27-28    5445\n",
       "F23-      5050\n",
       "F29-32    4628\n",
       "F43+      4194\n",
       "F24-26    4190\n",
       "F27-28    3118\n",
       "Name: group, dtype: int64"
      ]
     },
     "execution_count": 25,
     "metadata": {},
     "output_type": "execute_result"
    }
   ],
   "source": [
    "train_data['group'].value_counts()"
   ]
  },
  {
   "cell_type": "code",
   "execution_count": 26,
   "metadata": {
    "collapsed": true
   },
   "outputs": [],
   "source": [
    "file_path = 'C:\\\\hudsondata\\\\Machine Learning\\\\TalkingData\\\\sample_submission.csv'"
   ]
  },
  {
   "cell_type": "code",
   "execution_count": 27,
   "metadata": {
    "collapsed": true
   },
   "outputs": [],
   "source": [
    "sample_submission = pd.read_csv (file_path)"
   ]
  },
  {
   "cell_type": "code",
   "execution_count": 32,
   "metadata": {
    "collapsed": false
   },
   "outputs": [
    {
     "data": {
      "text/plain": [
       "1.0020799437289393e+18"
      ]
     },
     "execution_count": 32,
     "metadata": {},
     "output_type": "execute_result"
    }
   ],
   "source": [
    "sample_submission.iloc[0].sum()"
   ]
  },
  {
   "cell_type": "code",
   "execution_count": 34,
   "metadata": {
    "collapsed": false
   },
   "outputs": [
    {
     "data": {
      "text/html": [
       "<div>\n",
       "<table border=\"1\" class=\"dataframe\">\n",
       "  <thead>\n",
       "    <tr style=\"text-align: right;\">\n",
       "      <th></th>\n",
       "      <th>device_id</th>\n",
       "      <th>F23-</th>\n",
       "      <th>F24-26</th>\n",
       "      <th>F27-28</th>\n",
       "      <th>F29-32</th>\n",
       "      <th>F33-42</th>\n",
       "      <th>F43+</th>\n",
       "      <th>M22-</th>\n",
       "      <th>M23-26</th>\n",
       "      <th>M27-28</th>\n",
       "      <th>M29-31</th>\n",
       "      <th>M32-38</th>\n",
       "      <th>M39+</th>\n",
       "    </tr>\n",
       "  </thead>\n",
       "  <tbody>\n",
       "    <tr>\n",
       "      <th>0</th>\n",
       "      <td>1002079943728939269</td>\n",
       "      <td>0.0833</td>\n",
       "      <td>0.0833</td>\n",
       "      <td>0.0833</td>\n",
       "      <td>0.0833</td>\n",
       "      <td>0.0833</td>\n",
       "      <td>0.0833</td>\n",
       "      <td>0.0833</td>\n",
       "      <td>0.0833</td>\n",
       "      <td>0.0833</td>\n",
       "      <td>0.0833</td>\n",
       "      <td>0.0833</td>\n",
       "      <td>0.0833</td>\n",
       "    </tr>\n",
       "    <tr>\n",
       "      <th>1</th>\n",
       "      <td>-1547860181818787117</td>\n",
       "      <td>0.0833</td>\n",
       "      <td>0.0833</td>\n",
       "      <td>0.0833</td>\n",
       "      <td>0.0833</td>\n",
       "      <td>0.0833</td>\n",
       "      <td>0.0833</td>\n",
       "      <td>0.0833</td>\n",
       "      <td>0.0833</td>\n",
       "      <td>0.0833</td>\n",
       "      <td>0.0833</td>\n",
       "      <td>0.0833</td>\n",
       "      <td>0.0833</td>\n",
       "    </tr>\n",
       "    <tr>\n",
       "      <th>2</th>\n",
       "      <td>7374582448058474277</td>\n",
       "      <td>0.0833</td>\n",
       "      <td>0.0833</td>\n",
       "      <td>0.0833</td>\n",
       "      <td>0.0833</td>\n",
       "      <td>0.0833</td>\n",
       "      <td>0.0833</td>\n",
       "      <td>0.0833</td>\n",
       "      <td>0.0833</td>\n",
       "      <td>0.0833</td>\n",
       "      <td>0.0833</td>\n",
       "      <td>0.0833</td>\n",
       "      <td>0.0833</td>\n",
       "    </tr>\n",
       "    <tr>\n",
       "      <th>3</th>\n",
       "      <td>-6220210354783429585</td>\n",
       "      <td>0.0833</td>\n",
       "      <td>0.0833</td>\n",
       "      <td>0.0833</td>\n",
       "      <td>0.0833</td>\n",
       "      <td>0.0833</td>\n",
       "      <td>0.0833</td>\n",
       "      <td>0.0833</td>\n",
       "      <td>0.0833</td>\n",
       "      <td>0.0833</td>\n",
       "      <td>0.0833</td>\n",
       "      <td>0.0833</td>\n",
       "      <td>0.0833</td>\n",
       "    </tr>\n",
       "    <tr>\n",
       "      <th>4</th>\n",
       "      <td>-5893464122623104785</td>\n",
       "      <td>0.0833</td>\n",
       "      <td>0.0833</td>\n",
       "      <td>0.0833</td>\n",
       "      <td>0.0833</td>\n",
       "      <td>0.0833</td>\n",
       "      <td>0.0833</td>\n",
       "      <td>0.0833</td>\n",
       "      <td>0.0833</td>\n",
       "      <td>0.0833</td>\n",
       "      <td>0.0833</td>\n",
       "      <td>0.0833</td>\n",
       "      <td>0.0833</td>\n",
       "    </tr>\n",
       "  </tbody>\n",
       "</table>\n",
       "</div>"
      ],
      "text/plain": [
       "             device_id    F23-  F24-26  F27-28  F29-32  F33-42    F43+  \\\n",
       "0  1002079943728939269  0.0833  0.0833  0.0833  0.0833  0.0833  0.0833   \n",
       "1 -1547860181818787117  0.0833  0.0833  0.0833  0.0833  0.0833  0.0833   \n",
       "2  7374582448058474277  0.0833  0.0833  0.0833  0.0833  0.0833  0.0833   \n",
       "3 -6220210354783429585  0.0833  0.0833  0.0833  0.0833  0.0833  0.0833   \n",
       "4 -5893464122623104785  0.0833  0.0833  0.0833  0.0833  0.0833  0.0833   \n",
       "\n",
       "     M22-  M23-26  M27-28  M29-31  M32-38    M39+  \n",
       "0  0.0833  0.0833  0.0833  0.0833  0.0833  0.0833  \n",
       "1  0.0833  0.0833  0.0833  0.0833  0.0833  0.0833  \n",
       "2  0.0833  0.0833  0.0833  0.0833  0.0833  0.0833  \n",
       "3  0.0833  0.0833  0.0833  0.0833  0.0833  0.0833  \n",
       "4  0.0833  0.0833  0.0833  0.0833  0.0833  0.0833  "
      ]
     },
     "execution_count": 34,
     "metadata": {},
     "output_type": "execute_result"
    }
   ],
   "source": [
    "sample_submission.head()"
   ]
  },
  {
   "cell_type": "code",
   "execution_count": 41,
   "metadata": {
    "collapsed": false
   },
   "outputs": [
    {
     "data": {
      "text/plain": [
       "False    112071\n",
       "Name: device_id, dtype: int64"
      ]
     },
     "execution_count": 41,
     "metadata": {},
     "output_type": "execute_result"
    }
   ],
   "source": [
    "test_data['device_id'].isin(train_data['device_id']).value_counts()"
   ]
  },
  {
   "cell_type": "code",
   "execution_count": 43,
   "metadata": {
    "collapsed": false
   },
   "outputs": [
    {
     "name": "stdout",
     "output_type": "stream",
     "text": [
      "All of the device ID's in the train and test data are unique, so basically you are going to use the app information and model type to determine how the train data got to the groups and use that to do the same to the test data\n"
     ]
    }
   ],
   "source": [
    "print \"All of the device ID's in the train and test data are unique, so basically you are going to use the app information and model type \\\n",
    "to determine how the train data got to the groups and use that to do the same to the test data\""
   ]
  },
  {
   "cell_type": "code",
   "execution_count": 51,
   "metadata": {
    "collapsed": true
   },
   "outputs": [],
   "source": [
    "fp_app_labels = 'C:\\\\hudsondata\\\\Machine Learning\\\\TalkingData\\\\app_labels.csv'\n",
    "fp_events = 'C:\\\\hudsondata\\\\Machine Learning\\\\TalkingData\\\\events.csv'\n",
    "fp_label_categories = 'C:\\\\hudsondata\\\\Machine Learning\\\\TalkingData\\\\label_categories.csv'\n",
    "fp_phone_brand_device_model = 'C:\\\\hudsondata\\\\Machine Learning\\\\TalkingData\\\\phone_brand_device_model.csv'\n",
    "fp_app_events = 'C:\\\\hudsondata\\\\Machine Learning\\\\TalkingData\\\\app_events.csv'"
   ]
  },
  {
   "cell_type": "code",
   "execution_count": 46,
   "metadata": {
    "collapsed": true
   },
   "outputs": [],
   "source": [
    "app_labels = pd.read_csv(fp_app_labels)\n",
    "events = pd.read_csv(fp_events)\n",
    "label_categories = pd.read_csv(fp_label_categories)\n",
    "phone = pd.read_csv(fp_phone_brand_device_model)"
   ]
  },
  {
   "cell_type": "code",
   "execution_count": 52,
   "metadata": {
    "collapsed": false
   },
   "outputs": [],
   "source": [
    "app_events = pd.read_csv(fp_app_events)"
   ]
  },
  {
   "cell_type": "code",
   "execution_count": 68,
   "metadata": {
    "collapsed": false
   },
   "outputs": [
    {
     "data": {
      "text/plain": [
       "(187245, 3)"
      ]
     },
     "execution_count": 68,
     "metadata": {},
     "output_type": "execute_result"
    }
   ],
   "source": [
    "phone.shape"
   ]
  },
  {
   "cell_type": "code",
   "execution_count": 69,
   "metadata": {
    "collapsed": false
   },
   "outputs": [
    {
     "data": {
      "text/plain": [
       "(3252950, 5)"
      ]
     },
     "execution_count": 69,
     "metadata": {},
     "output_type": "execute_result"
    }
   ],
   "source": [
    "events.shape"
   ]
  },
  {
   "cell_type": "code",
   "execution_count": 70,
   "metadata": {
    "collapsed": false
   },
   "outputs": [
    {
     "data": {
      "text/plain": [
       "(459943, 2)"
      ]
     },
     "execution_count": 70,
     "metadata": {},
     "output_type": "execute_result"
    }
   ],
   "source": [
    "app_labels.shape"
   ]
  },
  {
   "cell_type": "code",
   "execution_count": 71,
   "metadata": {
    "collapsed": false
   },
   "outputs": [
    {
     "data": {
      "text/plain": [
       "(930, 2)"
      ]
     },
     "execution_count": 71,
     "metadata": {},
     "output_type": "execute_result"
    }
   ],
   "source": [
    "label_categories.shape"
   ]
  },
  {
   "cell_type": "code",
   "execution_count": 80,
   "metadata": {
    "collapsed": false
   },
   "outputs": [
    {
     "ename": "TypeError",
     "evalue": "'DataFrame' object is not callable",
     "output_type": "error",
     "traceback": [
      "\u001b[1;31m---------------------------------------------------------------------------\u001b[0m",
      "\u001b[1;31mTypeError\u001b[0m                                 Traceback (most recent call last)",
      "\u001b[1;32m<ipython-input-80-545e1771f932>\u001b[0m in \u001b[0;36m<module>\u001b[1;34m()\u001b[0m\n\u001b[1;32m----> 1\u001b[1;33m \u001b[0mapp_labels\u001b[0m\u001b[1;33m(\u001b[0m\u001b[0mapp_labels\u001b[0m\u001b[1;33m[\u001b[0m\u001b[1;34m'app_id'\u001b[0m\u001b[1;33m]\u001b[0m \u001b[1;33m==\u001b[0m \u001b[1;36m6792270137491452041\u001b[0m\u001b[1;33m)\u001b[0m\u001b[1;33m\u001b[0m\u001b[0m\n\u001b[0m",
      "\u001b[1;31mTypeError\u001b[0m: 'DataFrame' object is not callable"
     ]
    }
   ],
   "source": [
    "app_labels(app_labels['app_id'] == 6792270137491452041)"
   ]
  },
  {
   "cell_type": "code",
   "execution_count": 82,
   "metadata": {
    "collapsed": false
   },
   "outputs": [
    {
     "data": {
      "text/plain": [
       "app_id      int64\n",
       "label_id    int64\n",
       "dtype: object"
      ]
     },
     "execution_count": 82,
     "metadata": {},
     "output_type": "execute_result"
    }
   ],
   "source": [
    "app_labels.dtypes"
   ]
  },
  {
   "cell_type": "code",
   "execution_count": 91,
   "metadata": {
    "collapsed": false
   },
   "outputs": [
    {
     "data": {
      "text/plain": [
       "252     2\n",
       "959     1\n",
       "777     1\n",
       "162     1\n",
       "960     1\n",
       "549     1\n",
       "260     1\n",
       "775     1\n",
       "713     1\n",
       "779     1\n",
       "782     1\n",
       "783     1\n",
       "405     1\n",
       "787     1\n",
       "1007    1\n",
       "756     1\n",
       "757     1\n",
       "406     1\n",
       "407     1\n",
       "548     1\n",
       "761     1\n",
       "730     1\n",
       "251     1\n",
       "253     1\n",
       "704     1\n",
       "Name: label_id, dtype: int64"
      ]
     },
     "execution_count": 91,
     "metadata": {},
     "output_type": "execute_result"
    }
   ],
   "source": [
    "app_labels[app_labels['app_id']==6792270137491452041]['label_id'].value_counts()"
   ]
  },
  {
   "cell_type": "code",
   "execution_count": 109,
   "metadata": {
    "collapsed": false
   },
   "outputs": [],
   "source": [
    "app_labels['app_id'] = app_labels['app_id'].astype('category')\n",
    "app_labels['label_id'] = app_labels['label_id'].astype('category')"
   ]
  },
  {
   "cell_type": "code",
   "execution_count": 124,
   "metadata": {
    "collapsed": false
   },
   "outputs": [],
   "source": [
    "app_labels = app_labels.drop_duplicates()"
   ]
  },
  {
   "cell_type": "code",
   "execution_count": 110,
   "metadata": {
    "collapsed": false
   },
   "outputs": [
    {
     "data": {
      "text/plain": [
       "(459943, 3)"
      ]
     },
     "execution_count": 110,
     "metadata": {},
     "output_type": "execute_result"
    }
   ],
   "source": [
    "app_labels.shape"
   ]
  },
  {
   "cell_type": "code",
   "execution_count": 112,
   "metadata": {
    "collapsed": false
   },
   "outputs": [],
   "source": [
    "del app_labels['concat']"
   ]
  },
  {
   "cell_type": "code",
   "execution_count": 114,
   "metadata": {
    "collapsed": false
   },
   "outputs": [],
   "source": [
    "app_labels = pd.read_csv(fp_app_labels)"
   ]
  },
  {
   "cell_type": "code",
   "execution_count": 125,
   "metadata": {
    "collapsed": false
   },
   "outputs": [
    {
     "data": {
      "text/plain": [
       "(459452, 2)"
      ]
     },
     "execution_count": 125,
     "metadata": {},
     "output_type": "execute_result"
    }
   ],
   "source": [
    "app_labels.shape"
   ]
  },
  {
   "cell_type": "code",
   "execution_count": 126,
   "metadata": {
    "collapsed": false
   },
   "outputs": [
    {
     "data": {
      "text/plain": [
       "959     1\n",
       "777     1\n",
       "162     1\n",
       "960     1\n",
       "549     1\n",
       "260     1\n",
       "775     1\n",
       "713     1\n",
       "779     1\n",
       "782     1\n",
       "783     1\n",
       "405     1\n",
       "787     1\n",
       "1007    1\n",
       "756     1\n",
       "757     1\n",
       "406     1\n",
       "407     1\n",
       "548     1\n",
       "761     1\n",
       "730     1\n",
       "251     1\n",
       "252     1\n",
       "253     1\n",
       "704     1\n",
       "Name: label_id, dtype: int64"
      ]
     },
     "execution_count": 126,
     "metadata": {},
     "output_type": "execute_result"
    }
   ],
   "source": [
    "app_labels[app_labels['app_id']==6792270137491452041]['label_id'].value_counts()"
   ]
  },
  {
   "cell_type": "code",
   "execution_count": 123,
   "metadata": {
    "collapsed": true
   },
   "outputs": [],
   "source": [
    "app_labels = pd.read_csv(fp_app_labels)"
   ]
  },
  {
   "cell_type": "code",
   "execution_count": 127,
   "metadata": {
    "collapsed": true
   },
   "outputs": [],
   "source": [
    "def drop_duplicates(dataframe):\n",
    "    dataframe = dataframe.drop_duplicates()\n",
    "    return dataframe"
   ]
  },
  {
   "cell_type": "code",
   "execution_count": 142,
   "metadata": {
    "collapsed": false
   },
   "outputs": [
    {
     "data": {
      "text/plain": [
       "835"
      ]
     },
     "execution_count": 142,
     "metadata": {},
     "output_type": "execute_result"
    }
   ],
   "source": [
    "len(label_categories['category'].value_counts())"
   ]
  },
  {
   "cell_type": "code",
   "execution_count": 140,
   "metadata": {
    "collapsed": false
   },
   "outputs": [
    {
     "data": {
      "text/html": [
       "<div>\n",
       "<table border=\"1\" class=\"dataframe\">\n",
       "  <thead>\n",
       "    <tr style=\"text-align: right;\">\n",
       "      <th></th>\n",
       "      <th>label_id</th>\n",
       "      <th>category</th>\n",
       "    </tr>\n",
       "  </thead>\n",
       "  <tbody>\n",
       "  </tbody>\n",
       "</table>\n",
       "</div>"
      ],
      "text/plain": [
       "Empty DataFrame\n",
       "Columns: [label_id, category]\n",
       "Index: []"
      ]
     },
     "execution_count": 140,
     "metadata": {},
     "output_type": "execute_result"
    }
   ],
   "source": [
    "label_categories[label_categories['category'] == 'N']"
   ]
  },
  {
   "cell_type": "code",
   "execution_count": 162,
   "metadata": {
    "collapsed": false
   },
   "outputs": [
    {
     "ename": "SyntaxError",
     "evalue": "invalid syntax (<ipython-input-162-63424f388d83>, line 1)",
     "output_type": "error",
     "traceback": [
      "\u001b[1;36m  File \u001b[1;32m\"<ipython-input-162-63424f388d83>\"\u001b[1;36m, line \u001b[1;32m1\u001b[0m\n\u001b[1;33m    list(label_categories.isnull()].index)\u001b[0m\n\u001b[1;37m                                  ^\u001b[0m\n\u001b[1;31mSyntaxError\u001b[0m\u001b[1;31m:\u001b[0m invalid syntax\n"
     ]
    }
   ],
   "source": [
    "list(label_categories.isnull()].index)"
   ]
  },
  {
   "cell_type": "code",
   "execution_count": 155,
   "metadata": {
    "collapsed": false
   },
   "outputs": [],
   "source": [
    "label_categories = label_categories.drop(label_categories.index[[0,229,245]])"
   ]
  },
  {
   "cell_type": "code",
   "execution_count": 156,
   "metadata": {
    "collapsed": false
   },
   "outputs": [
    {
     "data": {
      "text/plain": [
       "(927, 2)"
      ]
     },
     "execution_count": 156,
     "metadata": {},
     "output_type": "execute_result"
    }
   ],
   "source": [
    "label_categories.shape"
   ]
  },
  {
   "cell_type": "code",
   "execution_count": 171,
   "metadata": {
    "collapsed": true
   },
   "outputs": [],
   "source": [
    "def drop_Nan_rows(dataframe):\n",
    "    dataframe = dataframe.dropna()\n",
    "    return dataframe"
   ]
  },
  {
   "cell_type": "code",
   "execution_count": 158,
   "metadata": {
    "collapsed": true
   },
   "outputs": [],
   "source": [
    "label_categories = pd.read_csv(fp_label_categories)"
   ]
  },
  {
   "cell_type": "code",
   "execution_count": 165,
   "metadata": {
    "collapsed": false
   },
   "outputs": [
    {
     "data": {
      "text/plain": [
       "RangeIndex(start=0, stop=930, step=1)"
      ]
     },
     "execution_count": 165,
     "metadata": {},
     "output_type": "execute_result"
    }
   ],
   "source": [
    "label_categories.isnull().index"
   ]
  },
  {
   "cell_type": "code",
   "execution_count": 168,
   "metadata": {
    "collapsed": false
   },
   "outputs": [],
   "source": [
    "label_categories = label_categories.dropna()"
   ]
  },
  {
   "cell_type": "code",
   "execution_count": 170,
   "metadata": {
    "collapsed": false
   },
   "outputs": [
    {
     "data": {
      "text/plain": [
       "(927, 2)"
      ]
     },
     "execution_count": 170,
     "metadata": {},
     "output_type": "execute_result"
    }
   ],
   "source": [
    "label_categories.shape"
   ]
  },
  {
   "cell_type": "code",
   "execution_count": 177,
   "metadata": {
    "collapsed": false
   },
   "outputs": [],
   "source": [
    "label_categories['category'] = label_categories['category'].astype('string')"
   ]
  },
  {
   "cell_type": "code",
   "execution_count": 187,
   "metadata": {
    "collapsed": false
   },
   "outputs": [],
   "source": [
    "withdash = label_categories[label_categories['category'].str.contains('-')]"
   ]
  },
  {
   "cell_type": "code",
   "execution_count": 189,
   "metadata": {
    "collapsed": false
   },
   "outputs": [
    {
     "data": {
      "text/plain": [
       "4.5-3.1 inches                                                           1\n",
       "High-end brand                                                           1\n",
       "dotal-lol                                                                1\n",
       "game-Business simulation                                                 1\n",
       "High-end hotel                                                           1\n",
       "game-aircraft                                                            1\n",
       "game-Music and Dance                                                     1\n",
       "game-3D                                                                  1\n",
       "Closed-end funds                                                         1\n",
       "Non-guaranteed income                                                    1\n",
       "game-tank                                                                1\n",
       "Third-party card management                                              1\n",
       "8-core chips                                                             1\n",
       "game-Fishing                                                             1\n",
       "game-Leisure time                                                        1\n",
       "game-gem                                                                 1\n",
       "game-Finding fault                                                       1\n",
       "He slightly - Family Life Cycle                                          1\n",
       "game-Zuma                                                                1\n",
       "game-Role -playing games                                                 1\n",
       "game-Puzzle                                                              1\n",
       "game-Bobble                                                              1\n",
       "game-Parkour                                                             1\n",
       "game-Racing                                                              1\n",
       "Active in (nearly 30 days played 3-7 games)                              1\n",
       "High-end business aviation                                               1\n",
       "game-Competitive action                                                  1\n",
       "Low installation (only 1-2 games)                                        1\n",
       "game-Game themes                                                         1\n",
       "game-Art Style                                                           1\n",
       "                                                                        ..\n",
       "game-Rowing                                                              1\n",
       "High-speed rail train reservation                                        1\n",
       "The installation (3-7 games)                                             1\n",
       "game-Box                                                                 1\n",
       "game-card                                                                1\n",
       "game-Motorcycle                                                          1\n",
       "game-flight                                                              1\n",
       "game-Adventure puzzle                                                    1\n",
       "Peace - Search                                                           1\n",
       "Cost-effective mobile                                                    1\n",
       "game-Action Shooting                                                     1\n",
       "game-game type                                                           1\n",
       "game-shooting                                                            1\n",
       "game-Answer                                                              1\n",
       "6.0-5.6 inches                                                           1\n",
       "Four five-star hotel                                                     1\n",
       "game-Snipe                                                               1\n",
       "Non-standard accommodation                                               1\n",
       "game-Parkour Racing                                                      1\n",
       "Make-up application                                                      1\n",
       "game-Horizontal version                                                  1\n",
       "game-Tactics                                                             1\n",
       "Parent-child's play                                                      1\n",
       "game-Online game                                                         1\n",
       "game-Cutting things                                                      1\n",
       "5.0-4.6 inches                                                           1\n",
       "Ultra-high frequency (more than seven consecutive days game behavior)    1\n",
       "game-Cartoon                                                             1\n",
       "game-Lianliankan                                                         1\n",
       "5.5-5.1 inches                                                           1\n",
       "Name: category, dtype: int64"
      ]
     },
     "execution_count": 189,
     "metadata": {},
     "output_type": "execute_result"
    }
   ],
   "source": [
    "withdash['category'].value_counts()"
   ]
  },
  {
   "cell_type": "code",
   "execution_count": 194,
   "metadata": {
    "collapsed": false
   },
   "outputs": [
    {
     "data": {
      "text/plain": [
       "True     1944822\n",
       "False    1308128\n",
       "Name: device_id, dtype: int64"
      ]
     },
     "execution_count": 194,
     "metadata": {},
     "output_type": "execute_result"
    }
   ],
   "source": [
    "events['device_id'].isin(test_data['device_id']).value_counts()"
   ]
  },
  {
   "cell_type": "code",
   "execution_count": 193,
   "metadata": {
    "collapsed": false
   },
   "outputs": [
    {
     "data": {
      "text/plain": [
       "60865"
      ]
     },
     "execution_count": 193,
     "metadata": {},
     "output_type": "execute_result"
    }
   ],
   "source": [
    "len(np.unique(events['device_id']))"
   ]
  },
  {
   "cell_type": "code",
   "execution_count": 197,
   "metadata": {
    "collapsed": false
   },
   "outputs": [
    {
     "data": {
      "text/plain": [
       "35194"
      ]
     },
     "execution_count": 197,
     "metadata": {},
     "output_type": "execute_result"
    }
   ],
   "source": [
    "len(test_data[test_data['device_id'].isin(events['device_id'])])"
   ]
  },
  {
   "cell_type": "code",
   "execution_count": 198,
   "metadata": {
    "collapsed": false
   },
   "outputs": [
    {
     "name": "stdout",
     "output_type": "stream",
     "text": [
      "There are 35,194 device id's in the test data out of the 112071 that are in the events table\n"
     ]
    }
   ],
   "source": [
    "print \"There are 35,194 device id's in the test data out of the 112071 that are in the events table or 31.4%\""
   ]
  },
  {
   "cell_type": "code",
   "execution_count": 200,
   "metadata": {
    "collapsed": false
   },
   "outputs": [
    {
     "data": {
      "text/plain": [
       "23309"
      ]
     },
     "execution_count": 200,
     "metadata": {},
     "output_type": "execute_result"
    }
   ],
   "source": [
    "len(train_data[train_data['device_id'].isin(events['device_id'])])"
   ]
  },
  {
   "cell_type": "code",
   "execution_count": 201,
   "metadata": {
    "collapsed": false
   },
   "outputs": [
    {
     "name": "stdout",
     "output_type": "stream",
     "text": [
      "There are 23,309 device id's in the train data out of the 74,645 that are in the events\n"
     ]
    }
   ],
   "source": [
    "print \"There are 23,309 device id's in the train data out of the 74,645 that are in the events or 31.22%\""
   ]
  },
  {
   "cell_type": "code",
   "execution_count": 216,
   "metadata": {
    "collapsed": false
   },
   "outputs": [],
   "source": [
    "traininevents = train_data[train_data['device_id'].isin(events['device_id'])]"
   ]
  },
  {
   "cell_type": "code",
   "execution_count": 217,
   "metadata": {
    "collapsed": false
   },
   "outputs": [],
   "source": [
    "testinevents = test_data[test_data['device_id'].isin(events['device_id'])]"
   ]
  },
  {
   "cell_type": "code",
   "execution_count": 222,
   "metadata": {
    "collapsed": false
   },
   "outputs": [],
   "source": [
    "trainineventsdev = np.asarray(traininevents['device_id'])"
   ]
  },
  {
   "cell_type": "code",
   "execution_count": 223,
   "metadata": {
    "collapsed": true
   },
   "outputs": [],
   "source": [
    "testineventsdev = np.asarray(testinevents['device_id'])"
   ]
  },
  {
   "cell_type": "code",
   "execution_count": 230,
   "metadata": {
    "collapsed": false
   },
   "outputs": [
    {
     "data": {
      "text/plain": [
       "(187245, 3)"
      ]
     },
     "execution_count": 230,
     "metadata": {},
     "output_type": "execute_result"
    }
   ],
   "source": [
    "phone.shape"
   ]
  },
  {
   "cell_type": "code",
   "execution_count": 231,
   "metadata": {
    "collapsed": true
   },
   "outputs": [],
   "source": [
    "phone = phone.drop_duplicates()"
   ]
  },
  {
   "cell_type": "code",
   "execution_count": 239,
   "metadata": {
    "collapsed": false
   },
   "outputs": [
    {
     "data": {
      "text/html": [
       "<div>\n",
       "<table border=\"1\" class=\"dataframe\">\n",
       "  <thead>\n",
       "    <tr style=\"text-align: right;\">\n",
       "      <th></th>\n",
       "      <th>device_id</th>\n",
       "      <th>phone_brand</th>\n",
       "      <th>device_model</th>\n",
       "    </tr>\n",
       "  </thead>\n",
       "  <tbody>\n",
       "    <tr>\n",
       "      <th>106025</th>\n",
       "      <td>5245428108336915020</td>\n",
       "      <td>魅族</td>\n",
       "      <td>MX4</td>\n",
       "    </tr>\n",
       "    <tr>\n",
       "      <th>116686</th>\n",
       "      <td>5245428108336915020</td>\n",
       "      <td>小米</td>\n",
       "      <td>MI One Plus</td>\n",
       "    </tr>\n",
       "  </tbody>\n",
       "</table>\n",
       "</div>"
      ],
      "text/plain": [
       "                  device_id phone_brand device_model\n",
       "106025  5245428108336915020          魅族          MX4\n",
       "116686  5245428108336915020          小米  MI One Plus"
      ]
     },
     "execution_count": 239,
     "metadata": {},
     "output_type": "execute_result"
    }
   ],
   "source": [
    "phone[phone['device_id']==5245428108336915020]"
   ]
  },
  {
   "cell_type": "code",
   "execution_count": 247,
   "metadata": {
    "collapsed": false
   },
   "outputs": [
    {
     "data": {
      "text/html": [
       "<div>\n",
       "<table border=\"1\" class=\"dataframe\">\n",
       "  <thead>\n",
       "    <tr style=\"text-align: right;\">\n",
       "      <th></th>\n",
       "      <th>device_id</th>\n",
       "      <th>phone_brand</th>\n",
       "      <th>device_model</th>\n",
       "    </tr>\n",
       "  </thead>\n",
       "  <tbody>\n",
       "    <tr>\n",
       "      <th>45947</th>\n",
       "      <td>-7297178577997113203</td>\n",
       "      <td>华为</td>\n",
       "      <td>荣耀畅玩5X</td>\n",
       "    </tr>\n",
       "    <tr>\n",
       "      <th>112903</th>\n",
       "      <td>-7297178577997113203</td>\n",
       "      <td>华为</td>\n",
       "      <td>荣耀3C</td>\n",
       "    </tr>\n",
       "  </tbody>\n",
       "</table>\n",
       "</div>"
      ],
      "text/plain": [
       "                  device_id phone_brand device_model\n",
       "45947  -7297178577997113203          华为       荣耀畅玩5X\n",
       "112903 -7297178577997113203          华为         荣耀3C"
      ]
     },
     "execution_count": 247,
     "metadata": {},
     "output_type": "execute_result"
    }
   ],
   "source": [
    "phone[phone['device_id']==-7297178577997113203]"
   ]
  },
  {
   "cell_type": "code",
   "execution_count": 243,
   "metadata": {
    "collapsed": false
   },
   "outputs": [
    {
     "data": {
      "text/html": [
       "<div>\n",
       "<table border=\"1\" class=\"dataframe\">\n",
       "  <thead>\n",
       "    <tr style=\"text-align: right;\">\n",
       "      <th></th>\n",
       "      <th>device_id</th>\n",
       "      <th>phone_brand</th>\n",
       "      <th>device_model</th>\n",
       "    </tr>\n",
       "  </thead>\n",
       "  <tbody>\n",
       "    <tr>\n",
       "      <th>69302</th>\n",
       "      <td>-6590454305031525112</td>\n",
       "      <td>小米</td>\n",
       "      <td>MI 3</td>\n",
       "    </tr>\n",
       "    <tr>\n",
       "      <th>140520</th>\n",
       "      <td>-6590454305031525112</td>\n",
       "      <td>华为</td>\n",
       "      <td>荣耀6 Plus</td>\n",
       "    </tr>\n",
       "  </tbody>\n",
       "</table>\n",
       "</div>"
      ],
      "text/plain": [
       "                  device_id phone_brand device_model\n",
       "69302  -6590454305031525112          小米         MI 3\n",
       "140520 -6590454305031525112          华为     荣耀6 Plus"
      ]
     },
     "execution_count": 243,
     "metadata": {},
     "output_type": "execute_result"
    }
   ],
   "source": [
    "phone[phone['device_id']==-6590454305031525112]"
   ]
  },
  {
   "cell_type": "code",
   "execution_count": null,
   "metadata": {
    "collapsed": true
   },
   "outputs": [],
   "source": [
    "-7297178577997113203 -6590454305031525112 -7059081542575379359 -3004353610608679970 -5269721363279128080 "
   ]
  },
  {
   "cell_type": "code",
   "execution_count": 244,
   "metadata": {
    "collapsed": false
   },
   "outputs": [
    {
     "data": {
      "text/html": [
       "<div>\n",
       "<table border=\"1\" class=\"dataframe\">\n",
       "  <thead>\n",
       "    <tr style=\"text-align: right;\">\n",
       "      <th></th>\n",
       "      <th>device_id</th>\n",
       "      <th>phone_brand</th>\n",
       "      <th>device_model</th>\n",
       "    </tr>\n",
       "  </thead>\n",
       "  <tbody>\n",
       "    <tr>\n",
       "      <th>81222</th>\n",
       "      <td>-7059081542575379359</td>\n",
       "      <td>LG</td>\n",
       "      <td>Nexus 5</td>\n",
       "    </tr>\n",
       "    <tr>\n",
       "      <th>93035</th>\n",
       "      <td>-7059081542575379359</td>\n",
       "      <td>魅族</td>\n",
       "      <td>魅蓝Note 2</td>\n",
       "    </tr>\n",
       "  </tbody>\n",
       "</table>\n",
       "</div>"
      ],
      "text/plain": [
       "                 device_id phone_brand device_model\n",
       "81222 -7059081542575379359          LG      Nexus 5\n",
       "93035 -7059081542575379359          魅族     魅蓝Note 2"
      ]
     },
     "execution_count": 244,
     "metadata": {},
     "output_type": "execute_result"
    }
   ],
   "source": [
    "phone[phone['device_id']==-7059081542575379359]"
   ]
  },
  {
   "cell_type": "code",
   "execution_count": 245,
   "metadata": {
    "collapsed": false
   },
   "outputs": [
    {
     "data": {
      "text/html": [
       "<div>\n",
       "<table border=\"1\" class=\"dataframe\">\n",
       "  <thead>\n",
       "    <tr style=\"text-align: right;\">\n",
       "      <th></th>\n",
       "      <th>device_id</th>\n",
       "      <th>phone_brand</th>\n",
       "      <th>device_model</th>\n",
       "    </tr>\n",
       "  </thead>\n",
       "  <tbody>\n",
       "    <tr>\n",
       "      <th>93020</th>\n",
       "      <td>-3004353610608679970</td>\n",
       "      <td>酷派</td>\n",
       "      <td>5891</td>\n",
       "    </tr>\n",
       "    <tr>\n",
       "      <th>128599</th>\n",
       "      <td>-3004353610608679970</td>\n",
       "      <td>酷派</td>\n",
       "      <td>7296</td>\n",
       "    </tr>\n",
       "  </tbody>\n",
       "</table>\n",
       "</div>"
      ],
      "text/plain": [
       "                  device_id phone_brand device_model\n",
       "93020  -3004353610608679970          酷派         5891\n",
       "128599 -3004353610608679970          酷派         7296"
      ]
     },
     "execution_count": 245,
     "metadata": {},
     "output_type": "execute_result"
    }
   ],
   "source": [
    "phone[phone['device_id']==-3004353610608679970]"
   ]
  },
  {
   "cell_type": "code",
   "execution_count": 246,
   "metadata": {
    "collapsed": false
   },
   "outputs": [
    {
     "data": {
      "text/html": [
       "<div>\n",
       "<table border=\"1\" class=\"dataframe\">\n",
       "  <thead>\n",
       "    <tr style=\"text-align: right;\">\n",
       "      <th></th>\n",
       "      <th>device_id</th>\n",
       "      <th>phone_brand</th>\n",
       "      <th>device_model</th>\n",
       "    </tr>\n",
       "  </thead>\n",
       "  <tbody>\n",
       "    <tr>\n",
       "      <th>140501</th>\n",
       "      <td>-5269721363279128080</td>\n",
       "      <td>三星</td>\n",
       "      <td>Galaxy Core Advance</td>\n",
       "    </tr>\n",
       "    <tr>\n",
       "      <th>185896</th>\n",
       "      <td>-5269721363279128080</td>\n",
       "      <td>小米</td>\n",
       "      <td>MI 3</td>\n",
       "    </tr>\n",
       "  </tbody>\n",
       "</table>\n",
       "</div>"
      ],
      "text/plain": [
       "                  device_id phone_brand         device_model\n",
       "140501 -5269721363279128080          三星  Galaxy Core Advance\n",
       "185896 -5269721363279128080          小米                 MI 3"
      ]
     },
     "execution_count": 246,
     "metadata": {},
     "output_type": "execute_result"
    }
   ],
   "source": [
    "phone[phone['device_id']==-5269721363279128080 ]"
   ]
  },
  {
   "cell_type": "code",
   "execution_count": 248,
   "metadata": {
    "collapsed": false
   },
   "outputs": [
    {
     "data": {
      "text/plain": [
       "array([1002079943728939269, -1547860181818787117, 7374582448058474277, ...,\n",
       "       -4419117093047158915, 2160204780761637517, 7583643168012624381], dtype=int64)"
      ]
     },
     "execution_count": 248,
     "metadata": {},
     "output_type": "execute_result"
    }
   ],
   "source": [
    "testinevents['device_id'].isin()"
   ]
  },
  {
   "cell_type": "code",
   "execution_count": 251,
   "metadata": {
    "collapsed": false
   },
   "outputs": [
    {
     "data": {
      "text/plain": [
       "True    112071\n",
       "Name: device_id, dtype: int64"
      ]
     },
     "execution_count": 251,
     "metadata": {},
     "output_type": "execute_result"
    }
   ],
   "source": [
    "test_data['device_id'].isin(phone['device_id']).value_counts()"
   ]
  },
  {
   "cell_type": "code",
   "execution_count": 252,
   "metadata": {
    "collapsed": false
   },
   "outputs": [
    {
     "ename": "CalledProcessError",
     "evalue": "Command '['ls', '../input']' returned non-zero exit status 2",
     "output_type": "error",
     "traceback": [
      "\u001b[1;31m---------------------------------------------------------------------------\u001b[0m",
      "\u001b[1;31mCalledProcessError\u001b[0m                        Traceback (most recent call last)",
      "\u001b[1;32m<ipython-input-252-e6e4ece1e780>\u001b[0m in \u001b[0;36m<module>\u001b[1;34m()\u001b[0m\n\u001b[0;32m      1\u001b[0m \u001b[1;32mfrom\u001b[0m \u001b[0msubprocess\u001b[0m \u001b[1;32mimport\u001b[0m \u001b[0mcheck_output\u001b[0m\u001b[1;33m\u001b[0m\u001b[0m\n\u001b[1;32m----> 2\u001b[1;33m \u001b[1;32mprint\u001b[0m\u001b[1;33m(\u001b[0m\u001b[0mcheck_output\u001b[0m\u001b[1;33m(\u001b[0m\u001b[1;33m[\u001b[0m\u001b[1;34m\"ls\"\u001b[0m\u001b[1;33m,\u001b[0m \u001b[1;34m\"../input\"\u001b[0m\u001b[1;33m]\u001b[0m\u001b[1;33m)\u001b[0m\u001b[1;33m.\u001b[0m\u001b[0mdecode\u001b[0m\u001b[1;33m(\u001b[0m\u001b[1;34m\"utf8\"\u001b[0m\u001b[1;33m)\u001b[0m\u001b[1;33m)\u001b[0m\u001b[1;33m\u001b[0m\u001b[0m\n\u001b[0m",
      "\u001b[1;32mC:\\Users\\Jenny\\Anaconda2\\lib\\subprocess.pyc\u001b[0m in \u001b[0;36mcheck_output\u001b[1;34m(*popenargs, **kwargs)\u001b[0m\n\u001b[0;32m    572\u001b[0m         \u001b[1;32mif\u001b[0m \u001b[0mcmd\u001b[0m \u001b[1;32mis\u001b[0m \u001b[0mNone\u001b[0m\u001b[1;33m:\u001b[0m\u001b[1;33m\u001b[0m\u001b[0m\n\u001b[0;32m    573\u001b[0m             \u001b[0mcmd\u001b[0m \u001b[1;33m=\u001b[0m \u001b[0mpopenargs\u001b[0m\u001b[1;33m[\u001b[0m\u001b[1;36m0\u001b[0m\u001b[1;33m]\u001b[0m\u001b[1;33m\u001b[0m\u001b[0m\n\u001b[1;32m--> 574\u001b[1;33m         \u001b[1;32mraise\u001b[0m \u001b[0mCalledProcessError\u001b[0m\u001b[1;33m(\u001b[0m\u001b[0mretcode\u001b[0m\u001b[1;33m,\u001b[0m \u001b[0mcmd\u001b[0m\u001b[1;33m,\u001b[0m \u001b[0moutput\u001b[0m\u001b[1;33m=\u001b[0m\u001b[0moutput\u001b[0m\u001b[1;33m)\u001b[0m\u001b[1;33m\u001b[0m\u001b[0m\n\u001b[0m\u001b[0;32m    575\u001b[0m     \u001b[1;32mreturn\u001b[0m \u001b[0moutput\u001b[0m\u001b[1;33m\u001b[0m\u001b[0m\n\u001b[0;32m    576\u001b[0m \u001b[1;33m\u001b[0m\u001b[0m\n",
      "\u001b[1;31mCalledProcessError\u001b[0m: Command '['ls', '../input']' returned non-zero exit status 2"
     ]
    }
   ],
   "source": [
    "from subprocess import check_output\n",
    "print(check_output([\"ls\", \"../input\"]).decode(\"utf8\"))"
   ]
  },
  {
   "cell_type": "code",
   "execution_count": 253,
   "metadata": {
    "collapsed": true
   },
   "outputs": [],
   "source": [
    "mapping = {\n",
    "    \"三星\": \"samsung\",\n",
    "    \"天语\": \"Ktouch\",\n",
    "    \"海信\": \"hisense\",\n",
    "    \"联想\": \"lenovo\",\n",
    "    \"欧比\": \"obi\",\n",
    "    \"爱派尔\": \"ipair\",\n",
    "    \"努比亚\": \"nubia\",\n",
    "    \"优米\": \"youmi\",\n",
    "    \"朵唯\": \"dowe\",\n",
    "    \"黑米\": \"heymi\",\n",
    "    \"锤子\": \"hammer\",\n",
    "    \"酷比魔方\": \"koobee\",\n",
    "    \"美图\": \"meitu\",\n",
    "    \"尼比鲁\": \"nibilu\",\n",
    "    \"一加\": \"oneplus\",\n",
    "    \"优购\": \"yougo\",\n",
    "    \"诺基亚\": \"nokia\",\n",
    "    \"糖葫芦\": \"candy\",\n",
    "    \"中国移动\": \"ccmc\",\n",
    "    \"语信\": \"yuxin\",\n",
    "    \"基伍\": \"kiwu\",\n",
    "    \"青橙\": \"greeno\",\n",
    "    \"华硕\": \"asus\",\n",
    "    \"夏新\": \"panosonic\",\n",
    "    \"维图\": \"weitu\",\n",
    "    \"艾优尼\": \"aiyouni\",\n",
    "    \"摩托罗拉\": \"moto\",\n",
    "    \"乡米\": \"xiangmi\",\n",
    "    \"米奇\": \"micky\",\n",
    "    \"大可乐\": \"bigcola\",\n",
    "    \"沃普丰\": \"wpf\",\n",
    "    \"神舟\": \"hasse\",\n",
    "    \"摩乐\": \"mole\",\n",
    "    \"飞秒\": \"fs\",\n",
    "    \"米歌\": \"mige\",\n",
    "    \"富可视\": \"fks\",\n",
    "    \"德赛\": \"desci\",\n",
    "    \"梦米\": \"mengmi\",\n",
    "    \"乐视\": \"lshi\",\n",
    "    \"小杨树\": \"smallt\",\n",
    "    \"纽曼\": \"newman\",\n",
    "    \"邦华\": \"banghua\",\n",
    "    \"E派\": \"epai\",\n",
    "    \"易派\": \"epai\",\n",
    "    \"普耐尔\": \"pner\",\n",
    "    \"欧新\": \"ouxin\",\n",
    "    \"西米\": \"ximi\",\n",
    "    \"海尔\": \"haier\",\n",
    "    \"波导\": \"bodao\",\n",
    "    \"糯米\": \"nuomi\",\n",
    "    \"唯米\": \"weimi\",\n",
    "    \"酷珀\": \"kupo\",\n",
    "    \"谷歌\": \"google\",\n",
    "    \"昂达\": \"ada\",\n",
    "    \"聆韵\": \"lingyun\",\n",
    "    \"小米\": \"Xiaomi\",\n",
    "    \"华为\": \"Huawei\",\n",
    "    \"魅族\": \"Meizu\",\n",
    "    \"中兴\": \"ZTE\",\n",
    "    \"酷派\": \"Coolpad\",\n",
    "    \"金立\": \"Gionee\",\n",
    "    \"SUGAR\": \"SUGAR\",\n",
    "    \"OPPO\": \"OPPO\",\n",
    "    \"vivo\": \"vivo\",\n",
    "    \"HTC\": \"HTC\",\n",
    "    \"LG\": \"LG\",\n",
    "    \"ZUK\": \"ZUK\",\n",
    "    \"TCL\": \"TCL\",\n",
    "    \"LOGO\": \"LOGO\",\n",
    "    \"SUGAR\": \"SUGAR\",\n",
    "    \"Lovme\": \"Lovme\",\n",
    "    \"PPTV\": \"PPTV\",\n",
    "    \"ZOYE\": \"ZOYE\",\n",
    "    \"MIL\": \"MIL\",\n",
    "    \"索尼\" : \"Sony\",\n",
    "    \"欧博信\" : \"Opssom\",\n",
    "    \"奇酷\" : \"Qiku\",\n",
    "    \"酷比\" : \"CUBE\",\n",
    "    \"康佳\" : \"Konka\",\n",
    "    \"亿通\" : \"Yitong\",\n",
    "    \"金星数码\" : \"JXD\",\n",
    "    \"至尊宝\" : \"Monkey King\",\n",
    "    \"百立丰\" : \"Hundred Li Feng\",\n",
    "    \"贝尔丰\" : \"Bifer\",\n",
    "    \"百加\" : \"Bacardi\",\n",
    "    \"诺亚信\" : \"Noain\",\n",
    "    \"广信\" : \"Kingsun\",\n",
    "    \"世纪天元\" : \"Ctyon\",\n",
    "    \"青葱\" : \"Cong\",\n",
    "    \"果米\" : \"Taobao\",\n",
    "    \"斐讯\" : \"Phicomm\",\n",
    "    \"长虹\" : \"Changhong\",\n",
    "    \"欧奇\" : \"Oukimobile\",\n",
    "    \"先锋\" : \"XFPLAY\",\n",
    "    \"台电\" : \"Teclast\",\n",
    "    \"大Q\" : \"Daq\",\n",
    "    \"蓝魔\" : \"Ramos\",\n",
    "    \"奥克斯\" : \"AUX\"\n",
    "}"
   ]
  },
  {
   "cell_type": "code",
   "execution_count": 257,
   "metadata": {
    "collapsed": false
   },
   "outputs": [
    {
     "name": "stderr",
     "output_type": "stream",
     "text": [
      "C:\\Users\\Jenny\\Anaconda2\\lib\\site-packages\\ipykernel\\__main__.py:1: SettingWithCopyWarning: \n",
      "A value is trying to be set on a copy of a slice from a DataFrame.\n",
      "Try using .loc[row_indexer,col_indexer] = value instead\n",
      "\n",
      "See the caveats in the documentation: http://pandas.pydata.org/pandas-docs/stable/indexing.html#indexing-view-versus-copy\n",
      "  if __name__ == '__main__':\n"
     ]
    }
   ],
   "source": [
    "phone['phone_brand'] = phone['phone_brand'].map(mapping)"
   ]
  },
  {
   "cell_type": "code",
   "execution_count": 263,
   "metadata": {
    "collapsed": false
   },
   "outputs": [
    {
     "data": {
      "text/plain": [
       "493"
      ]
     },
     "execution_count": 263,
     "metadata": {},
     "output_type": "execute_result"
    }
   ],
   "source": [
    "len(phone[phone['device_model']=='荣耀畅玩5X'])"
   ]
  },
  {
   "cell_type": "code",
   "execution_count": 264,
   "metadata": {
    "collapsed": false
   },
   "outputs": [
    {
     "data": {
      "text/plain": [
       "2597"
      ]
     },
     "execution_count": 264,
     "metadata": {},
     "output_type": "execute_result"
    }
   ],
   "source": [
    "len(phone[phone['device_model']=='荣耀3C'])"
   ]
  },
  {
   "cell_type": "code",
   "execution_count": null,
   "metadata": {
    "collapsed": true
   },
   "outputs": [],
   "source": [
    "#drop - 45947, 93020, 140501"
   ]
  },
  {
   "cell_type": "code",
   "execution_count": 266,
   "metadata": {
    "collapsed": false
   },
   "outputs": [
    {
     "data": {
      "text/plain": [
       "71"
      ]
     },
     "execution_count": 266,
     "metadata": {},
     "output_type": "execute_result"
    }
   ],
   "source": [
    "len(phone[phone['device_model']=='5891'])"
   ]
  },
  {
   "cell_type": "code",
   "execution_count": 267,
   "metadata": {
    "collapsed": false
   },
   "outputs": [
    {
     "data": {
      "text/plain": [
       "167"
      ]
     },
     "execution_count": 267,
     "metadata": {},
     "output_type": "execute_result"
    }
   ],
   "source": [
    "len(phone[phone['device_model']=='7296'])"
   ]
  },
  {
   "cell_type": "code",
   "execution_count": 290,
   "metadata": {
    "collapsed": true
   },
   "outputs": [],
   "source": [
    "def drop_dups_devid(phone_df):\n",
    "    phone_df = phone_df.drop_duplicates(subset=['device_id'],keep='last')\n",
    "    return phone_df"
   ]
  },
  {
   "cell_type": "code",
   "execution_count": 287,
   "metadata": {
    "collapsed": false
   },
   "outputs": [],
   "source": [
    "phone2 = phone.drop_duplicates(subset = ['device_id'], keep='last')"
   ]
  },
  {
   "cell_type": "code",
   "execution_count": 279,
   "metadata": {
    "collapsed": false
   },
   "outputs": [
    {
     "data": {
      "text/plain": [
       "186722"
      ]
     },
     "execution_count": 279,
     "metadata": {},
     "output_type": "execute_result"
    }
   ],
   "source": [
    "len(phone)"
   ]
  },
  {
   "cell_type": "code",
   "execution_count": 288,
   "metadata": {
    "collapsed": false
   },
   "outputs": [
    {
     "data": {
      "text/plain": [
       "device_id       963459008495235098\n",
       "phone_brand                 Xiaomi\n",
       "device_model                  MI 3\n",
       "Name: 45960, dtype: object"
      ]
     },
     "execution_count": 288,
     "metadata": {},
     "output_type": "execute_result"
    }
   ],
   "source": [
    "phone2.iloc[45947]"
   ]
  },
  {
   "cell_type": "code",
   "execution_count": 291,
   "metadata": {
    "collapsed": false
   },
   "outputs": [],
   "source": [
    "apps = pd.merge(app_labels,label_categories, how = 'left', on = 'label_id')"
   ]
  },
  {
   "cell_type": "code",
   "execution_count": 299,
   "metadata": {
    "collapsed": false
   },
   "outputs": [
    {
     "data": {
      "text/html": [
       "<div>\n",
       "<table border=\"1\" class=\"dataframe\">\n",
       "  <thead>\n",
       "    <tr style=\"text-align: right;\">\n",
       "      <th></th>\n",
       "      <th>app_id</th>\n",
       "      <th>label_id</th>\n",
       "      <th>category</th>\n",
       "    </tr>\n",
       "  </thead>\n",
       "  <tbody>\n",
       "  </tbody>\n",
       "</table>\n",
       "</div>"
      ],
      "text/plain": [
       "Empty DataFrame\n",
       "Columns: [app_id, label_id, category]\n",
       "Index: []"
      ]
     },
     "execution_count": 299,
     "metadata": {},
     "output_type": "execute_result"
    }
   ],
   "source": [
    "apps[apps['category']=='6.0-5.6 inches'] "
   ]
  },
  {
   "cell_type": "code",
   "execution_count": 303,
   "metadata": {
    "collapsed": false
   },
   "outputs": [],
   "source": [
    "apps['general_groups'] = apps['category']\n",
    "import re"
   ]
  },
  {
   "cell_type": "code",
   "execution_count": 328,
   "metadata": {
    "collapsed": false
   },
   "outputs": [],
   "source": [
    "def to_Games(x):\n",
    "    if re.search('([gG]am)|([pP]oker)|([cC]hess)|([pP]uzz)|([bB]all)|([pP]ursu)|([fF]ight)|([sS]imulat)|([sH]oot)',x) is not None:\n",
    "        return('Games')\n",
    "    if re.search('(RPG)|(SLG)|(RAC)|(MMO)|(MOBA)', x) is not None:\n",
    "        return('Games')\n",
    "    if x in ['billards', 'World of Warcraft', 'Tower Defense', 'Tomb', 'Ninja', 'Europe and Fantasy', 'Senki', \n",
    "             'Shushan', 'Lottery ticket', 'majiang', 'tennis', 'Martial arts','Shootout Shooting (STG)']:\n",
    "        return('Games')\n",
    "    else:\n",
    "        return(x)\n",
    "    \n",
    "def to_Property(x):\n",
    "    # All property/estate stuff will be place into Property category\n",
    "    if x in ['Property Industry 2.0', 'Property Industry new', 'Property Industry 1.0']:\n",
    "        return('Property')\n",
    "    if re.search('([eE]state)', x) is not None:\n",
    "        return('Property')\n",
    "    else:\n",
    "        return(x)\n",
    "    \n",
    "def to_Family(x):\n",
    "    if re.search('([fF]amili)|([mM]othe)|([fF]athe)|(bab)|([rR]elative)|([pP]regnan)|([pP]arent)|([mM]arriag)|([lL]ove)',\n",
    "                 x) is not None:\n",
    "        return('Family')\n",
    "    else:\n",
    "        return(x)\n",
    "    \n",
    "def to_Fun(x):\n",
    "    '''One can argue about my decision however I used following rules:\n",
    "       - all comics -> Fun\n",
    "       - all animation/painting -> Fun\n",
    "       - all things labeled as trend or passion or community -> Fun\n",
    "       - all things I could identify as messangers -> Fun\n",
    "       - all things related to images/pictures -> Fun\n",
    "       - horoscopes -> Fun\n",
    "       - jokes -> Fun\n",
    "       - I don\\'t know what is Parkour avoid but it goes to -> Fun''' \n",
    "    if re.search('([fF]un)|([cC]ool)|([tT]rend)|([cC]omic)|([aA]nima)|([pP]ainti)|\\\n",
    "                 ([fF]iction)|([pP]icture)|(joke)|([hH]oroscope)|([pP]assion)|([sS]tyle)|\\\n",
    "                 ([cC]ozy)|([bB]log)', x) is not None:\n",
    "        return('Fun')\n",
    "    if x in ['Parkour avoid class', 'community', 'Enthusiasm', 'cosplay', 'IM', 'magic']:\n",
    "        return('Fun')\n",
    "    else:\n",
    "        return(x)\n",
    "    \n",
    "def to_Productivity(x):\n",
    "    if x == 'Personal Effectiveness 1' or x == 'Personal Effectiveness':\n",
    "        return('Productivity')\n",
    "    else:\n",
    "        return(x)\n",
    "    \n",
    "def to_Finance(x):\n",
    "    if re.search('([iI]ncome)|([pP]rofitabil)|([lL]iquid)|([rR]isk)|([bB]ank)|([fF]uture)|([fF]und)|([sS]tock)|([sS]hare)',\n",
    "                 x) is not None:\n",
    "        return('Finance')\n",
    "    if re.search('([fF]inanc)|([pP]ay)|(P2P)|([iI]nsura)|([lL]oan)|([cC]ard)|([mM]etal)|\\\n",
    "                  ([cC]ost)|([wW]ealth)|([bB]roker)|([bB]usiness)|([eE]xchange)', x) is not None:\n",
    "        return('Finance')\n",
    "    if x in ['High Flow', 'Housekeeping', 'Accounting', 'Debit and credit', 'Recipes', 'Heritage Foundation', 'IMF',]:\n",
    "        return('Finance')\n",
    "    else:\n",
    "        return(x)\n",
    "\n",
    "def to_Religion(x):\n",
    "    if x == 'And the Church':\n",
    "        return('Religion')\n",
    "    else:\n",
    "        return(x)\n",
    "\n",
    "def to_Services(x):\n",
    "    if re.search('([sS]ervice)', x) is not None:\n",
    "        return('Services')\n",
    "    else:\n",
    "        return(x)\n",
    "\n",
    "def to_Travel(x):\n",
    "    if re.search('([aA]viation)|([aA]irlin)|([bB]ooki)|([tT]ravel)|\\\n",
    "                  ([hH]otel)|([tT]rain)|([tT]axi)|([rR]eservati)|([aA]ir)|([aA]irport)', x) is not None:\n",
    "        return('Travel')\n",
    "    if re.search('([jJ]ourne)|([tT]ransport)|([aA]ccommodat)|([nN]avigat)|([tT]ouris)|([fF]light)|([bB]us)', x) is not None:\n",
    "        return('Travel')\n",
    "    if x in ['High mobility', 'Destination Region', 'map', 'Weather', 'Rentals','Hotel Type','Hotels','Book hotel complex','Hotel application','High-end hotel','Hotel Chain']:\n",
    "        return('Travel')\n",
    "    else:\n",
    "        return(x)\n",
    "\n",
    "def to_Custom(x):\n",
    "    if re.search('([cC]ustom)', x) is not None:\n",
    "        return('Custom')\n",
    "    else:\n",
    "        return(x)\n",
    "\n",
    "def to_Video(x):\n",
    "    # not sure if round means Rounds app for group chat, but I stick to this hypothesis. Might be popular app in China\n",
    "    if x in ['video', 'round', 'the film', 'movie']:\n",
    "        return('Video')\n",
    "    else:\n",
    "        return(x)\n",
    "\n",
    "def to_Shopping(x):\n",
    "    if x in ['Smart Shopping', 'online malls', 'online shopping by group, like groupon', 'takeaway ordering', \n",
    "             'online shopping, price comparing', 'Buy class', 'Buy', 'shopping sharing',\n",
    "             'Smart Shopping 1', 'online shopping navigation']:\n",
    "        return('Shopping')\n",
    "    else:\n",
    "        return(x)\n",
    "\n",
    "def to_Education(x):\n",
    "    if re.search('([eE]ducati)|([rR]ead)|([sS]cienc)|([bB]ooks)', x) is not None:\n",
    "        return('Education')\n",
    "    if x in ['literature', 'Maternal and child population', 'psychology', 'exams', 'millitary and wars', 'news', \n",
    "             'foreign language', 'magazine and journal', 'dictionary', 'novels', 'art and culture', 'Entertainment News', \n",
    "             'College Students', 'math', 'Western Mythology', 'Technology Information', 'study abroad', \n",
    "             'Chinese Classical Mythology', 'Academic Information','Engineering Drawing']:\n",
    "        return('Education')\n",
    "    else:\n",
    "        return(x)\n",
    "\n",
    "def to_Vitality(x):\n",
    "    if x in ['vitality', '1 vitality']:\n",
    "        return('Vitality')\n",
    "    if x in [ 'sports and gym', 'Health Management', 'Integrated Living', 'Medical', 'Free exercise', 'A beauty care', \n",
    "             'fashion', 'fashion outfit', 'lose weight', 'health', 'Skin care applications', 'Wearable Health']:\n",
    "        return('Vitality')\n",
    "    else:\n",
    "        return(x)\n",
    "\n",
    "def to_Sports(x):\n",
    "    if x in ['sports', 'Sports News']:\n",
    "        return('Sports')\n",
    "    else:\n",
    "        return(x)\n",
    "    \n",
    "def to_Music(x):\n",
    "    if x == 'music':\n",
    "        return('Music')\n",
    "    else:\n",
    "        return(x)\n",
    "\n",
    "def to_Other(x):\n",
    "    if x in ['1 free',\n",
    " 'The elimination of class',\n",
    " 'unknown',\n",
    " 'free',\n",
    " 'comfortable',\n",
    " 'Cozy 1',\n",
    " 'other',\n",
    " 'Total Cost 1',\n",
    " 'Classical 1',\n",
    " 'Quality 1',\n",
    " 'classical',\n",
    " 'quality',\n",
    " 'Car Owners',\n",
    " 'Noble 1',\n",
    " 'Pirated content',\n",
    " 'Securities',\n",
    " 'professional skills',\n",
    " 'Jobs',\n",
    " 'Reputation',\n",
    " 'Simple 1',\n",
    " '1 reputation',\n",
    " 'Condition of the vehicles',\n",
    " 'Internet Securities',\n",
    " 'weibo',\n",
    " 'Housing Advice',\n",
    " 'notes',\n",
    " 'farm',\n",
    " 'Nature 1',\n",
    " 'Total Cost',\n",
    " 'Sea Amoy',\n",
    " 'show',\n",
    " 'Car',\n",
    " 'pet raising up',\n",
    " 'dotal-lol',\n",
    " 'Express',\n",
    " 'radio',\n",
    " 'Occupational identity',\n",
    " 'Utilities',\n",
    " 'Trust',\n",
    " 'Contacts',\n",
    " 'Simple',\n",
    " 'Automotive News',\n",
    " 'Sale of cars',\n",
    " 'File Editor',\n",
    " 'network disk',\n",
    " 'class managemetn',\n",
    " 'management',\n",
    " 'natural',\n",
    " 'Points Activities',\n",
    " 'Decoration',\n",
    " 'store management',\n",
    " 'Maternal and child supplies',\n",
    " 'Tour around',\n",
    " 'coupon',\n",
    " 'User Community',\n",
    " 'Vermicelli',\n",
    " 'noble',\n",
    " 'poetry',\n",
    " 'Antique collection',\n",
    " 'Reviews',\n",
    " 'Scheduling',\n",
    " 'Beauty Nail',\n",
    " 'shows',\n",
    " 'Hardware Related',\n",
    " 'Smart Home',\n",
    " 'Sellers',\n",
    " 'Desktop Enhancements',\n",
    " 'library',\n",
    " 'entertainment',\n",
    " 'Calendar',\n",
    " 'Ping',\n",
    " 'System Tools',\n",
    " 'KTV',\n",
    " 'Behalf of the drive',\n",
    " 'household products',\n",
    " 'Information',\n",
    " 'Man playing favorites',\n",
    " 'App Store',\n",
    " 'Appliances',\n",
    " 'Peace - Search',\n",
    " 'Make-up application',\n",
    " 'WIFI',\n",
    " 'phone',\n",
    " 'Doctors',\n",
    " 'Smart Appliances',\n",
    " 'reality show',\n",
    " 'Harem',\n",
    " 'trickery',\n",
    " 'Jin Yong',\n",
    " 'effort',\n",
    " 'Xian Xia',\n",
    " 'Romance',\n",
    " 'tribe',\n",
    " 'email',\n",
    " 'mesasge',\n",
    " 'Editor',\n",
    " 'Clock',\n",
    " 'search',\n",
    " 'Intelligent hardware',\n",
    " 'Browser',\n",
    " 'Furniture']:\n",
    "        return('Other')\n",
    "    else:\n",
    "        return(x)"
   ]
  },
  {
   "cell_type": "code",
   "execution_count": 329,
   "metadata": {
    "collapsed": true
   },
   "outputs": [],
   "source": [
    "apps['general_groups'] = apps['general_groups'].apply(to_Games)\n",
    "apps['general_groups'] = apps['general_groups'].apply(to_Property)\n",
    "apps['general_groups'] = apps['general_groups'].apply(to_Family)\n",
    "apps['general_groups'] = apps['general_groups'].apply(to_Fun)\n",
    "apps['general_groups'] = apps['general_groups'].apply(to_Productivity)\n",
    "apps['general_groups'] = apps['general_groups'].apply(to_Finance)\n",
    "apps['general_groups'] = apps['general_groups'].apply(to_Religion)\n",
    "apps['general_groups'] = apps['general_groups'].apply(to_Services)\n",
    "apps['general_groups'] = apps['general_groups'].apply(to_Travel)\n",
    "apps['general_groups'] = apps['general_groups'].apply(to_Custom)\n",
    "apps['general_groups'] = apps['general_groups'].apply(to_Video)\n",
    "apps['general_groups'] = apps['general_groups'].apply(to_Shopping)\n",
    "apps['general_groups'] = apps['general_groups'].apply(to_Education)\n",
    "apps['general_groups'] = apps['general_groups'].apply(to_Vitality)\n",
    "apps['general_groups'] = apps['general_groups'].apply(to_Sports)\n",
    "apps['general_groups'] = apps['general_groups'].apply(to_Music)\n",
    "apps['general_groups'] = apps['general_groups'].apply(to_Other)"
   ]
  },
  {
   "cell_type": "code",
   "execution_count": 330,
   "metadata": {
    "collapsed": false,
    "scrolled": true
   },
   "outputs": [
    {
     "data": {
      "text/plain": [
       "Games           99036\n",
       "Property        57921\n",
       "Industry tag    56902\n",
       "Custom          55416\n",
       "Tencent         49320\n",
       "Other           37640\n",
       "Finance         27026\n",
       "Fun             21860\n",
       "Services        13598\n",
       "Family          10865\n",
       "Productivity     8498\n",
       "Travel           4845\n",
       "Religion         4619\n",
       "Video            4455\n",
       "Education        3111\n",
       "Vitality         1377\n",
       "Shopping         1132\n",
       "Sports            931\n",
       "Music             900\n",
       "Name: general_groups, dtype: int64"
      ]
     },
     "execution_count": 330,
     "metadata": {},
     "output_type": "execute_result"
    }
   ],
   "source": [
    "apps['general_groups'].value_counts()"
   ]
  },
  {
   "cell_type": "code",
   "execution_count": 331,
   "metadata": {
    "collapsed": false
   },
   "outputs": [
    {
     "data": {
      "text/html": [
       "<div>\n",
       "<table border=\"1\" class=\"dataframe\">\n",
       "  <thead>\n",
       "    <tr style=\"text-align: right;\">\n",
       "      <th></th>\n",
       "      <th>app_id</th>\n",
       "      <th>label_id</th>\n",
       "      <th>category</th>\n",
       "      <th>general_groups</th>\n",
       "    </tr>\n",
       "  </thead>\n",
       "  <tbody>\n",
       "    <tr>\n",
       "      <th>0</th>\n",
       "      <td>7324884708820027918</td>\n",
       "      <td>251</td>\n",
       "      <td>Finance</td>\n",
       "      <td>Finance</td>\n",
       "    </tr>\n",
       "    <tr>\n",
       "      <th>1</th>\n",
       "      <td>-4494216993218550286</td>\n",
       "      <td>251</td>\n",
       "      <td>Finance</td>\n",
       "      <td>Finance</td>\n",
       "    </tr>\n",
       "    <tr>\n",
       "      <th>2</th>\n",
       "      <td>6058196446775239644</td>\n",
       "      <td>406</td>\n",
       "      <td>unknown</td>\n",
       "      <td>Other</td>\n",
       "    </tr>\n",
       "    <tr>\n",
       "      <th>3</th>\n",
       "      <td>6058196446775239644</td>\n",
       "      <td>407</td>\n",
       "      <td>DS_P2P net loan</td>\n",
       "      <td>Finance</td>\n",
       "    </tr>\n",
       "    <tr>\n",
       "      <th>4</th>\n",
       "      <td>8694625920731541625</td>\n",
       "      <td>406</td>\n",
       "      <td>unknown</td>\n",
       "      <td>Other</td>\n",
       "    </tr>\n",
       "  </tbody>\n",
       "</table>\n",
       "</div>"
      ],
      "text/plain": [
       "                app_id  label_id         category general_groups\n",
       "0  7324884708820027918       251          Finance        Finance\n",
       "1 -4494216993218550286       251          Finance        Finance\n",
       "2  6058196446775239644       406          unknown          Other\n",
       "3  6058196446775239644       407  DS_P2P net loan        Finance\n",
       "4  8694625920731541625       406          unknown          Other"
      ]
     },
     "execution_count": 331,
     "metadata": {},
     "output_type": "execute_result"
    }
   ],
   "source": [
    "apps.head()"
   ]
  },
  {
   "cell_type": "code",
   "execution_count": 334,
   "metadata": {
    "collapsed": false
   },
   "outputs": [
    {
     "data": {
      "text/plain": [
       "186716"
      ]
     },
     "execution_count": 334,
     "metadata": {},
     "output_type": "execute_result"
    }
   ],
   "source": [
    "len(np.unique(phone['device_id']))"
   ]
  },
  {
   "cell_type": "code",
   "execution_count": 339,
   "metadata": {
    "collapsed": false
   },
   "outputs": [],
   "source": [
    "train_device_id = np.array(train_data['device_id'])\n",
    "test_device_id = np.array(test_data['device_id'])"
   ]
  },
  {
   "cell_type": "code",
   "execution_count": 346,
   "metadata": {
    "collapsed": false
   },
   "outputs": [],
   "source": [
    "all_device_id = np.hstack((train_device_id, test_device_id))"
   ]
  },
  {
   "cell_type": "code",
   "execution_count": 351,
   "metadata": {
    "collapsed": false
   },
   "outputs": [
    {
     "data": {
      "text/html": [
       "<div>\n",
       "<table border=\"1\" class=\"dataframe\">\n",
       "  <thead>\n",
       "    <tr style=\"text-align: right;\">\n",
       "      <th></th>\n",
       "      <th>device_id</th>\n",
       "      <th>phone_brand</th>\n",
       "      <th>device_model</th>\n",
       "    </tr>\n",
       "  </thead>\n",
       "  <tbody>\n",
       "    <tr>\n",
       "      <th>0</th>\n",
       "      <td>-8890648629457979026</td>\n",
       "      <td>Xiaomi</td>\n",
       "      <td>红米</td>\n",
       "    </tr>\n",
       "    <tr>\n",
       "      <th>1</th>\n",
       "      <td>1277779817574759137</td>\n",
       "      <td>Xiaomi</td>\n",
       "      <td>MI 2</td>\n",
       "    </tr>\n",
       "    <tr>\n",
       "      <th>2</th>\n",
       "      <td>5137427614288105724</td>\n",
       "      <td>samsung</td>\n",
       "      <td>Galaxy S4</td>\n",
       "    </tr>\n",
       "    <tr>\n",
       "      <th>3</th>\n",
       "      <td>3669464369358936369</td>\n",
       "      <td>SUGAR</td>\n",
       "      <td>时尚手机</td>\n",
       "    </tr>\n",
       "    <tr>\n",
       "      <th>4</th>\n",
       "      <td>-5019277647504317457</td>\n",
       "      <td>samsung</td>\n",
       "      <td>Galaxy Note 2</td>\n",
       "    </tr>\n",
       "  </tbody>\n",
       "</table>\n",
       "</div>"
      ],
      "text/plain": [
       "             device_id phone_brand   device_model\n",
       "0 -8890648629457979026      Xiaomi             红米\n",
       "1  1277779817574759137      Xiaomi           MI 2\n",
       "2  5137427614288105724     samsung      Galaxy S4\n",
       "3  3669464369358936369       SUGAR           时尚手机\n",
       "4 -5019277647504317457     samsung  Galaxy Note 2"
      ]
     },
     "execution_count": 351,
     "metadata": {},
     "output_type": "execute_result"
    }
   ],
   "source": [
    "phone.head()"
   ]
  },
  {
   "cell_type": "code",
   "execution_count": 360,
   "metadata": {
    "collapsed": false
   },
   "outputs": [
    {
     "data": {
      "text/html": [
       "<div>\n",
       "<table border=\"1\" class=\"dataframe\">\n",
       "  <thead>\n",
       "    <tr style=\"text-align: right;\">\n",
       "      <th></th>\n",
       "      <th>device_id</th>\n",
       "      <th>device_model</th>\n",
       "    </tr>\n",
       "    <tr>\n",
       "      <th>phone_brand</th>\n",
       "      <th></th>\n",
       "      <th></th>\n",
       "    </tr>\n",
       "  </thead>\n",
       "  <tbody>\n",
       "    <tr>\n",
       "      <th>AUX</th>\n",
       "      <td>9</td>\n",
       "      <td>9</td>\n",
       "    </tr>\n",
       "    <tr>\n",
       "      <th>Bacardi</th>\n",
       "      <td>20</td>\n",
       "      <td>20</td>\n",
       "    </tr>\n",
       "    <tr>\n",
       "      <th>Bifer</th>\n",
       "      <td>59</td>\n",
       "      <td>59</td>\n",
       "    </tr>\n",
       "    <tr>\n",
       "      <th>CUBE</th>\n",
       "      <td>165</td>\n",
       "      <td>165</td>\n",
       "    </tr>\n",
       "    <tr>\n",
       "      <th>Changhong</th>\n",
       "      <td>18</td>\n",
       "      <td>18</td>\n",
       "    </tr>\n",
       "    <tr>\n",
       "      <th>Cong</th>\n",
       "      <td>17</td>\n",
       "      <td>17</td>\n",
       "    </tr>\n",
       "    <tr>\n",
       "      <th>Coolpad</th>\n",
       "      <td>8383</td>\n",
       "      <td>8383</td>\n",
       "    </tr>\n",
       "    <tr>\n",
       "      <th>Ctyon</th>\n",
       "      <td>5</td>\n",
       "      <td>5</td>\n",
       "    </tr>\n",
       "    <tr>\n",
       "      <th>Daq</th>\n",
       "      <td>9</td>\n",
       "      <td>9</td>\n",
       "    </tr>\n",
       "    <tr>\n",
       "      <th>Gionee</th>\n",
       "      <td>2763</td>\n",
       "      <td>2763</td>\n",
       "    </tr>\n",
       "    <tr>\n",
       "      <th>HTC</th>\n",
       "      <td>2675</td>\n",
       "      <td>2675</td>\n",
       "    </tr>\n",
       "    <tr>\n",
       "      <th>Huawei</th>\n",
       "      <td>32467</td>\n",
       "      <td>32467</td>\n",
       "    </tr>\n",
       "    <tr>\n",
       "      <th>Hundred Li Feng</th>\n",
       "      <td>59</td>\n",
       "      <td>59</td>\n",
       "    </tr>\n",
       "    <tr>\n",
       "      <th>JXD</th>\n",
       "      <td>7</td>\n",
       "      <td>7</td>\n",
       "    </tr>\n",
       "    <tr>\n",
       "      <th>Kingsun</th>\n",
       "      <td>6</td>\n",
       "      <td>6</td>\n",
       "    </tr>\n",
       "    <tr>\n",
       "      <th>Konka</th>\n",
       "      <td>57</td>\n",
       "      <td>57</td>\n",
       "    </tr>\n",
       "    <tr>\n",
       "      <th>Ktouch</th>\n",
       "      <td>376</td>\n",
       "      <td>376</td>\n",
       "    </tr>\n",
       "    <tr>\n",
       "      <th>LG</th>\n",
       "      <td>761</td>\n",
       "      <td>761</td>\n",
       "    </tr>\n",
       "    <tr>\n",
       "      <th>LOGO</th>\n",
       "      <td>58</td>\n",
       "      <td>58</td>\n",
       "    </tr>\n",
       "    <tr>\n",
       "      <th>Lovme</th>\n",
       "      <td>32</td>\n",
       "      <td>32</td>\n",
       "    </tr>\n",
       "    <tr>\n",
       "      <th>MIL</th>\n",
       "      <td>2</td>\n",
       "      <td>2</td>\n",
       "    </tr>\n",
       "    <tr>\n",
       "      <th>Meizu</th>\n",
       "      <td>11817</td>\n",
       "      <td>11817</td>\n",
       "    </tr>\n",
       "    <tr>\n",
       "      <th>Monkey King</th>\n",
       "      <td>31</td>\n",
       "      <td>31</td>\n",
       "    </tr>\n",
       "    <tr>\n",
       "      <th>Noain</th>\n",
       "      <td>25</td>\n",
       "      <td>25</td>\n",
       "    </tr>\n",
       "    <tr>\n",
       "      <th>OPPO</th>\n",
       "      <td>14239</td>\n",
       "      <td>14239</td>\n",
       "    </tr>\n",
       "    <tr>\n",
       "      <th>Opssom</th>\n",
       "      <td>59</td>\n",
       "      <td>59</td>\n",
       "    </tr>\n",
       "    <tr>\n",
       "      <th>Oukimobile</th>\n",
       "      <td>17</td>\n",
       "      <td>17</td>\n",
       "    </tr>\n",
       "    <tr>\n",
       "      <th>PPTV</th>\n",
       "      <td>5</td>\n",
       "      <td>5</td>\n",
       "    </tr>\n",
       "    <tr>\n",
       "      <th>Phicomm</th>\n",
       "      <td>17</td>\n",
       "      <td>17</td>\n",
       "    </tr>\n",
       "    <tr>\n",
       "      <th>Qiku</th>\n",
       "      <td>376</td>\n",
       "      <td>376</td>\n",
       "    </tr>\n",
       "    <tr>\n",
       "      <th>...</th>\n",
       "      <td>...</td>\n",
       "      <td>...</td>\n",
       "    </tr>\n",
       "    <tr>\n",
       "      <th>lenovo</th>\n",
       "      <td>6752</td>\n",
       "      <td>6752</td>\n",
       "    </tr>\n",
       "    <tr>\n",
       "      <th>lingyun</th>\n",
       "      <td>39</td>\n",
       "      <td>39</td>\n",
       "    </tr>\n",
       "    <tr>\n",
       "      <th>lshi</th>\n",
       "      <td>1916</td>\n",
       "      <td>1916</td>\n",
       "    </tr>\n",
       "    <tr>\n",
       "      <th>meitu</th>\n",
       "      <td>150</td>\n",
       "      <td>150</td>\n",
       "    </tr>\n",
       "    <tr>\n",
       "      <th>mengmi</th>\n",
       "      <td>105</td>\n",
       "      <td>105</td>\n",
       "    </tr>\n",
       "    <tr>\n",
       "      <th>micky</th>\n",
       "      <td>20</td>\n",
       "      <td>20</td>\n",
       "    </tr>\n",
       "    <tr>\n",
       "      <th>mige</th>\n",
       "      <td>74</td>\n",
       "      <td>74</td>\n",
       "    </tr>\n",
       "    <tr>\n",
       "      <th>mole</th>\n",
       "      <td>5</td>\n",
       "      <td>5</td>\n",
       "    </tr>\n",
       "    <tr>\n",
       "      <th>moto</th>\n",
       "      <td>228</td>\n",
       "      <td>228</td>\n",
       "    </tr>\n",
       "    <tr>\n",
       "      <th>newman</th>\n",
       "      <td>77</td>\n",
       "      <td>77</td>\n",
       "    </tr>\n",
       "    <tr>\n",
       "      <th>nibilu</th>\n",
       "      <td>57</td>\n",
       "      <td>57</td>\n",
       "    </tr>\n",
       "    <tr>\n",
       "      <th>nokia</th>\n",
       "      <td>69</td>\n",
       "      <td>69</td>\n",
       "    </tr>\n",
       "    <tr>\n",
       "      <th>nubia</th>\n",
       "      <td>1142</td>\n",
       "      <td>1142</td>\n",
       "    </tr>\n",
       "    <tr>\n",
       "      <th>nuomi</th>\n",
       "      <td>28</td>\n",
       "      <td>28</td>\n",
       "    </tr>\n",
       "    <tr>\n",
       "      <th>obi</th>\n",
       "      <td>11</td>\n",
       "      <td>11</td>\n",
       "    </tr>\n",
       "    <tr>\n",
       "      <th>oneplus</th>\n",
       "      <td>437</td>\n",
       "      <td>437</td>\n",
       "    </tr>\n",
       "    <tr>\n",
       "      <th>ouxin</th>\n",
       "      <td>25</td>\n",
       "      <td>25</td>\n",
       "    </tr>\n",
       "    <tr>\n",
       "      <th>panosonic</th>\n",
       "      <td>52</td>\n",
       "      <td>52</td>\n",
       "    </tr>\n",
       "    <tr>\n",
       "      <th>pner</th>\n",
       "      <td>6</td>\n",
       "      <td>6</td>\n",
       "    </tr>\n",
       "    <tr>\n",
       "      <th>samsung</th>\n",
       "      <td>34191</td>\n",
       "      <td>34191</td>\n",
       "    </tr>\n",
       "    <tr>\n",
       "      <th>smallt</th>\n",
       "      <td>29</td>\n",
       "      <td>29</td>\n",
       "    </tr>\n",
       "    <tr>\n",
       "      <th>vivo</th>\n",
       "      <td>14342</td>\n",
       "      <td>14342</td>\n",
       "    </tr>\n",
       "    <tr>\n",
       "      <th>weimi</th>\n",
       "      <td>28</td>\n",
       "      <td>28</td>\n",
       "    </tr>\n",
       "    <tr>\n",
       "      <th>weitu</th>\n",
       "      <td>42</td>\n",
       "      <td>42</td>\n",
       "    </tr>\n",
       "    <tr>\n",
       "      <th>wpf</th>\n",
       "      <td>19</td>\n",
       "      <td>19</td>\n",
       "    </tr>\n",
       "    <tr>\n",
       "      <th>xiangmi</th>\n",
       "      <td>19</td>\n",
       "      <td>19</td>\n",
       "    </tr>\n",
       "    <tr>\n",
       "      <th>ximi</th>\n",
       "      <td>18</td>\n",
       "      <td>18</td>\n",
       "    </tr>\n",
       "    <tr>\n",
       "      <th>yougo</th>\n",
       "      <td>52</td>\n",
       "      <td>52</td>\n",
       "    </tr>\n",
       "    <tr>\n",
       "      <th>youmi</th>\n",
       "      <td>492</td>\n",
       "      <td>492</td>\n",
       "    </tr>\n",
       "    <tr>\n",
       "      <th>yuxin</th>\n",
       "      <td>395</td>\n",
       "      <td>395</td>\n",
       "    </tr>\n",
       "  </tbody>\n",
       "</table>\n",
       "<p>96 rows × 2 columns</p>\n",
       "</div>"
      ],
      "text/plain": [
       "                 device_id  device_model\n",
       "phone_brand                             \n",
       "AUX                      9             9\n",
       "Bacardi                 20            20\n",
       "Bifer                   59            59\n",
       "CUBE                   165           165\n",
       "Changhong               18            18\n",
       "Cong                    17            17\n",
       "Coolpad               8383          8383\n",
       "Ctyon                    5             5\n",
       "Daq                      9             9\n",
       "Gionee                2763          2763\n",
       "HTC                   2675          2675\n",
       "Huawei               32467         32467\n",
       "Hundred Li Feng         59            59\n",
       "JXD                      7             7\n",
       "Kingsun                  6             6\n",
       "Konka                   57            57\n",
       "Ktouch                 376           376\n",
       "LG                     761           761\n",
       "LOGO                    58            58\n",
       "Lovme                   32            32\n",
       "MIL                      2             2\n",
       "Meizu                11817         11817\n",
       "Monkey King             31            31\n",
       "Noain                   25            25\n",
       "OPPO                 14239         14239\n",
       "Opssom                  59            59\n",
       "Oukimobile              17            17\n",
       "PPTV                     5             5\n",
       "Phicomm                 17            17\n",
       "Qiku                   376           376\n",
       "...                    ...           ...\n",
       "lenovo                6752          6752\n",
       "lingyun                 39            39\n",
       "lshi                  1916          1916\n",
       "meitu                  150           150\n",
       "mengmi                 105           105\n",
       "micky                   20            20\n",
       "mige                    74            74\n",
       "mole                     5             5\n",
       "moto                   228           228\n",
       "newman                  77            77\n",
       "nibilu                  57            57\n",
       "nokia                   69            69\n",
       "nubia                 1142          1142\n",
       "nuomi                   28            28\n",
       "obi                     11            11\n",
       "oneplus                437           437\n",
       "ouxin                   25            25\n",
       "panosonic               52            52\n",
       "pner                     6             6\n",
       "samsung              34191         34191\n",
       "smallt                  29            29\n",
       "vivo                 14342         14342\n",
       "weimi                   28            28\n",
       "weitu                   42            42\n",
       "wpf                     19            19\n",
       "xiangmi                 19            19\n",
       "ximi                    18            18\n",
       "yougo                   52            52\n",
       "youmi                  492           492\n",
       "yuxin                  395           395\n",
       "\n",
       "[96 rows x 2 columns]"
      ]
     },
     "execution_count": 360,
     "metadata": {},
     "output_type": "execute_result"
    }
   ],
   "source": [
    "pd.pivot_table(phone, index = ['phone_brand'], aggfunc = len)"
   ]
  },
  {
   "cell_type": "code",
   "execution_count": 363,
   "metadata": {
    "collapsed": false
   },
   "outputs": [
    {
     "data": {
      "text/plain": [
       "1599"
      ]
     },
     "execution_count": 363,
     "metadata": {},
     "output_type": "execute_result"
    }
   ],
   "source": [
    "phone['device_model'].nunique()"
   ]
  },
  {
   "cell_type": "code",
   "execution_count": 364,
   "metadata": {
    "collapsed": false
   },
   "outputs": [
    {
     "data": {
      "text/plain": [
       "<matplotlib.axes._subplots.AxesSubplot at 0x34f8d940>"
      ]
     },
     "execution_count": 364,
     "metadata": {},
     "output_type": "execute_result"
    },
    {
     "data": {
      "image/png": "[encoded data removed]",
      "text/plain": [
       "<matplotlib.figure.Figure at 0x34f9e160>"
      ]
     },
     "metadata": {},
     "output_type": "display_data"
    }
   ],
   "source": [
    "train_data['group'].value_counts().sort_index(ascending = False).plot(kind = 'barh')"
   ]
  },
  {
   "cell_type": "code",
   "execution_count": 365,
   "metadata": {
    "collapsed": false
   },
   "outputs": [
    {
     "data": {
      "text/plain": [
       "<matplotlib.axes._subplots.AxesSubplot at 0x36ee5518>"
      ]
     },
     "execution_count": 365,
     "metadata": {},
     "output_type": "execute_result"
    },
    {
     "data": {
      "image/png": "[encoded data removed]",
      "text/plain": [
       "<matplotlib.figure.Figure at 0x246ea550>"
      ]
     },
     "metadata": {},
     "output_type": "display_data"
    }
   ],
   "source": [
    "train_data['gender'].value_counts().sort_index(ascending = False).plot(kind = 'barh')"
   ]
  },
  {
   "cell_type": "code",
   "execution_count": 366,
   "metadata": {
    "collapsed": false
   },
   "outputs": [
    {
     "data": {
      "text/plain": [
       "<matplotlib.axes._subplots.AxesSubplot at 0x667a9ba8>"
      ]
     },
     "execution_count": 366,
     "metadata": {},
     "output_type": "execute_result"
    },
    {
     "data": {
      "image/png": "[encoded data removed]",
      "text/plain": [
       "<matplotlib.figure.Figure at 0x5c9aaf60>"
      ]
     },
     "metadata": {},
     "output_type": "display_data"
    }
   ],
   "source": [
    "train_data['age'].value_counts().sort_index(ascending = False).plot(kind = 'barh')"
   ]
  },
  {
   "cell_type": "code",
   "execution_count": 372,
   "metadata": {
    "collapsed": false
   },
   "outputs": [
    {
     "data": {
      "text/plain": [
       "(array([  3.81000000e+02,   1.04820000e+04,   8.51700000e+03,\n",
       "          3.90200000e+03,   1.94500000e+03,   9.39000000e+02,\n",
       "          4.49000000e+02,   9.40000000e+01,   2.40000000e+01,\n",
       "          8.00000000e+00]),\n",
       " array([ 10. ,  18.6,  27.2,  35.8,  44.4,  53. ,  61.6,  70.2,  78.8,\n",
       "         87.4,  96. ]),\n",
       " <a list of 10 Patch objects>)"
      ]
     },
     "execution_count": 372,
     "metadata": {},
     "output_type": "execute_result"
    },
    {
     "data": {
      "image/png": "[encoded data removed]",
      "text/plain": [
       "<matplotlib.figure.Figure at 0x667caf60>"
      ]
     },
     "metadata": {},
     "output_type": "display_data"
    }
   ],
   "source": [
    "plt.subplot(211)\n",
    "plt.hist(train_data[train_data['gender']=='M']['age'],label = 'male',bins = [10,20,30,40,50,60,70,80,90,100])\n",
    "plt.subplot(212)\n",
    "plt.hist(train_data[train_data['gender']=='F']['age'], label = 'female')"
   ]
  },
  {
   "cell_type": "code",
   "execution_count": 377,
   "metadata": {
    "collapsed": false
   },
   "outputs": [
    {
     "data": {
      "text/plain": [
       "0"
      ]
     },
     "execution_count": 377,
     "metadata": {},
     "output_type": "execute_result"
    }
   ],
   "source": [
    "train_data.duplicated(keep ='last').sum()"
   ]
  },
  {
   "cell_type": "code",
   "execution_count": 379,
   "metadata": {
    "collapsed": false
   },
   "outputs": [
    {
     "data": {
      "text/plain": [
       "device_id    0\n",
       "gender       0\n",
       "age          0\n",
       "group        0\n",
       "dtype: int64"
      ]
     },
     "execution_count": 379,
     "metadata": {},
     "output_type": "execute_result"
    }
   ],
   "source": [
    "train_data.isnull().sum()"
   ]
  },
  {
   "cell_type": "code",
   "execution_count": 384,
   "metadata": {
    "collapsed": false
   },
   "outputs": [
    {
     "data": {
      "text/html": [
       "<div>\n",
       "<table border=\"1\" class=\"dataframe\">\n",
       "  <thead>\n",
       "    <tr style=\"text-align: right;\">\n",
       "      <th>gender</th>\n",
       "      <th>F</th>\n",
       "      <th>M</th>\n",
       "    </tr>\n",
       "    <tr>\n",
       "      <th>age</th>\n",
       "      <th></th>\n",
       "      <th></th>\n",
       "    </tr>\n",
       "  </thead>\n",
       "  <tbody>\n",
       "    <tr>\n",
       "      <th>1</th>\n",
       "      <td>0.0</td>\n",
       "      <td>1.0</td>\n",
       "    </tr>\n",
       "    <tr>\n",
       "      <th>2</th>\n",
       "      <td>0.0</td>\n",
       "      <td>0.0</td>\n",
       "    </tr>\n",
       "    <tr>\n",
       "      <th>3</th>\n",
       "      <td>0.0</td>\n",
       "      <td>0.0</td>\n",
       "    </tr>\n",
       "    <tr>\n",
       "      <th>4</th>\n",
       "      <td>0.0</td>\n",
       "      <td>0.0</td>\n",
       "    </tr>\n",
       "    <tr>\n",
       "      <th>5</th>\n",
       "      <td>0.0</td>\n",
       "      <td>0.0</td>\n",
       "    </tr>\n",
       "    <tr>\n",
       "      <th>6</th>\n",
       "      <td>0.0</td>\n",
       "      <td>4.0</td>\n",
       "    </tr>\n",
       "    <tr>\n",
       "      <th>7</th>\n",
       "      <td>0.0</td>\n",
       "      <td>0.0</td>\n",
       "    </tr>\n",
       "    <tr>\n",
       "      <th>8</th>\n",
       "      <td>0.0</td>\n",
       "      <td>0.0</td>\n",
       "    </tr>\n",
       "    <tr>\n",
       "      <th>9</th>\n",
       "      <td>0.0</td>\n",
       "      <td>0.0</td>\n",
       "    </tr>\n",
       "    <tr>\n",
       "      <th>10</th>\n",
       "      <td>2.0</td>\n",
       "      <td>3.0</td>\n",
       "    </tr>\n",
       "    <tr>\n",
       "      <th>11</th>\n",
       "      <td>4.0</td>\n",
       "      <td>0.0</td>\n",
       "    </tr>\n",
       "    <tr>\n",
       "      <th>12</th>\n",
       "      <td>5.0</td>\n",
       "      <td>9.0</td>\n",
       "    </tr>\n",
       "    <tr>\n",
       "      <th>13</th>\n",
       "      <td>5.0</td>\n",
       "      <td>10.0</td>\n",
       "    </tr>\n",
       "    <tr>\n",
       "      <th>14</th>\n",
       "      <td>14.0</td>\n",
       "      <td>21.0</td>\n",
       "    </tr>\n",
       "    <tr>\n",
       "      <th>15</th>\n",
       "      <td>10.0</td>\n",
       "      <td>55.0</td>\n",
       "    </tr>\n",
       "    <tr>\n",
       "      <th>16</th>\n",
       "      <td>40.0</td>\n",
       "      <td>122.0</td>\n",
       "    </tr>\n",
       "    <tr>\n",
       "      <th>17</th>\n",
       "      <td>116.0</td>\n",
       "      <td>285.0</td>\n",
       "    </tr>\n",
       "    <tr>\n",
       "      <th>18</th>\n",
       "      <td>185.0</td>\n",
       "      <td>573.0</td>\n",
       "    </tr>\n",
       "    <tr>\n",
       "      <th>19</th>\n",
       "      <td>535.0</td>\n",
       "      <td>1077.0</td>\n",
       "    </tr>\n",
       "    <tr>\n",
       "      <th>20</th>\n",
       "      <td>849.0</td>\n",
       "      <td>1500.0</td>\n",
       "    </tr>\n",
       "    <tr>\n",
       "      <th>21</th>\n",
       "      <td>1099.0</td>\n",
       "      <td>1895.0</td>\n",
       "    </tr>\n",
       "    <tr>\n",
       "      <th>22</th>\n",
       "      <td>1085.0</td>\n",
       "      <td>1933.0</td>\n",
       "    </tr>\n",
       "    <tr>\n",
       "      <th>23</th>\n",
       "      <td>1101.0</td>\n",
       "      <td>2014.0</td>\n",
       "    </tr>\n",
       "    <tr>\n",
       "      <th>24</th>\n",
       "      <td>1220.0</td>\n",
       "      <td>2281.0</td>\n",
       "    </tr>\n",
       "    <tr>\n",
       "      <th>25</th>\n",
       "      <td>1350.0</td>\n",
       "      <td>2390.0</td>\n",
       "    </tr>\n",
       "    <tr>\n",
       "      <th>26</th>\n",
       "      <td>1620.0</td>\n",
       "      <td>2920.0</td>\n",
       "    </tr>\n",
       "    <tr>\n",
       "      <th>27</th>\n",
       "      <td>1623.0</td>\n",
       "      <td>2853.0</td>\n",
       "    </tr>\n",
       "    <tr>\n",
       "      <th>28</th>\n",
       "      <td>1495.0</td>\n",
       "      <td>2592.0</td>\n",
       "    </tr>\n",
       "    <tr>\n",
       "      <th>29</th>\n",
       "      <td>1555.0</td>\n",
       "      <td>2788.0</td>\n",
       "    </tr>\n",
       "    <tr>\n",
       "      <th>30</th>\n",
       "      <td>1223.0</td>\n",
       "      <td>2507.0</td>\n",
       "    </tr>\n",
       "    <tr>\n",
       "      <th>...</th>\n",
       "      <td>...</td>\n",
       "      <td>...</td>\n",
       "    </tr>\n",
       "    <tr>\n",
       "      <th>67</th>\n",
       "      <td>38.0</td>\n",
       "      <td>35.0</td>\n",
       "    </tr>\n",
       "    <tr>\n",
       "      <th>68</th>\n",
       "      <td>50.0</td>\n",
       "      <td>35.0</td>\n",
       "    </tr>\n",
       "    <tr>\n",
       "      <th>69</th>\n",
       "      <td>27.0</td>\n",
       "      <td>34.0</td>\n",
       "    </tr>\n",
       "    <tr>\n",
       "      <th>70</th>\n",
       "      <td>17.0</td>\n",
       "      <td>13.0</td>\n",
       "    </tr>\n",
       "    <tr>\n",
       "      <th>71</th>\n",
       "      <td>23.0</td>\n",
       "      <td>23.0</td>\n",
       "    </tr>\n",
       "    <tr>\n",
       "      <th>72</th>\n",
       "      <td>11.0</td>\n",
       "      <td>25.0</td>\n",
       "    </tr>\n",
       "    <tr>\n",
       "      <th>73</th>\n",
       "      <td>7.0</td>\n",
       "      <td>11.0</td>\n",
       "    </tr>\n",
       "    <tr>\n",
       "      <th>74</th>\n",
       "      <td>18.0</td>\n",
       "      <td>9.0</td>\n",
       "    </tr>\n",
       "    <tr>\n",
       "      <th>75</th>\n",
       "      <td>9.0</td>\n",
       "      <td>14.0</td>\n",
       "    </tr>\n",
       "    <tr>\n",
       "      <th>76</th>\n",
       "      <td>11.0</td>\n",
       "      <td>15.0</td>\n",
       "    </tr>\n",
       "    <tr>\n",
       "      <th>77</th>\n",
       "      <td>6.0</td>\n",
       "      <td>7.0</td>\n",
       "    </tr>\n",
       "    <tr>\n",
       "      <th>78</th>\n",
       "      <td>9.0</td>\n",
       "      <td>4.0</td>\n",
       "    </tr>\n",
       "    <tr>\n",
       "      <th>79</th>\n",
       "      <td>8.0</td>\n",
       "      <td>5.0</td>\n",
       "    </tr>\n",
       "    <tr>\n",
       "      <th>80</th>\n",
       "      <td>5.0</td>\n",
       "      <td>9.0</td>\n",
       "    </tr>\n",
       "    <tr>\n",
       "      <th>81</th>\n",
       "      <td>1.0</td>\n",
       "      <td>9.0</td>\n",
       "    </tr>\n",
       "    <tr>\n",
       "      <th>82</th>\n",
       "      <td>1.0</td>\n",
       "      <td>1.0</td>\n",
       "    </tr>\n",
       "    <tr>\n",
       "      <th>83</th>\n",
       "      <td>7.0</td>\n",
       "      <td>4.0</td>\n",
       "    </tr>\n",
       "    <tr>\n",
       "      <th>84</th>\n",
       "      <td>1.0</td>\n",
       "      <td>1.0</td>\n",
       "    </tr>\n",
       "    <tr>\n",
       "      <th>85</th>\n",
       "      <td>0.0</td>\n",
       "      <td>3.0</td>\n",
       "    </tr>\n",
       "    <tr>\n",
       "      <th>86</th>\n",
       "      <td>1.0</td>\n",
       "      <td>3.0</td>\n",
       "    </tr>\n",
       "    <tr>\n",
       "      <th>87</th>\n",
       "      <td>0.0</td>\n",
       "      <td>3.0</td>\n",
       "    </tr>\n",
       "    <tr>\n",
       "      <th>88</th>\n",
       "      <td>3.0</td>\n",
       "      <td>2.0</td>\n",
       "    </tr>\n",
       "    <tr>\n",
       "      <th>89</th>\n",
       "      <td>3.0</td>\n",
       "      <td>0.0</td>\n",
       "    </tr>\n",
       "    <tr>\n",
       "      <th>90</th>\n",
       "      <td>0.0</td>\n",
       "      <td>1.0</td>\n",
       "    </tr>\n",
       "    <tr>\n",
       "      <th>91</th>\n",
       "      <td>0.0</td>\n",
       "      <td>0.0</td>\n",
       "    </tr>\n",
       "    <tr>\n",
       "      <th>92</th>\n",
       "      <td>0.0</td>\n",
       "      <td>0.0</td>\n",
       "    </tr>\n",
       "    <tr>\n",
       "      <th>93</th>\n",
       "      <td>0.0</td>\n",
       "      <td>0.0</td>\n",
       "    </tr>\n",
       "    <tr>\n",
       "      <th>94</th>\n",
       "      <td>1.0</td>\n",
       "      <td>0.0</td>\n",
       "    </tr>\n",
       "    <tr>\n",
       "      <th>95</th>\n",
       "      <td>0.0</td>\n",
       "      <td>0.0</td>\n",
       "    </tr>\n",
       "    <tr>\n",
       "      <th>96</th>\n",
       "      <td>1.0</td>\n",
       "      <td>0.0</td>\n",
       "    </tr>\n",
       "  </tbody>\n",
       "</table>\n",
       "<p>96 rows × 2 columns</p>\n",
       "</div>"
      ],
      "text/plain": [
       "gender       F       M\n",
       "age                   \n",
       "1          0.0     1.0\n",
       "2          0.0     0.0\n",
       "3          0.0     0.0\n",
       "4          0.0     0.0\n",
       "5          0.0     0.0\n",
       "6          0.0     4.0\n",
       "7          0.0     0.0\n",
       "8          0.0     0.0\n",
       "9          0.0     0.0\n",
       "10         2.0     3.0\n",
       "11         4.0     0.0\n",
       "12         5.0     9.0\n",
       "13         5.0    10.0\n",
       "14        14.0    21.0\n",
       "15        10.0    55.0\n",
       "16        40.0   122.0\n",
       "17       116.0   285.0\n",
       "18       185.0   573.0\n",
       "19       535.0  1077.0\n",
       "20       849.0  1500.0\n",
       "21      1099.0  1895.0\n",
       "22      1085.0  1933.0\n",
       "23      1101.0  2014.0\n",
       "24      1220.0  2281.0\n",
       "25      1350.0  2390.0\n",
       "26      1620.0  2920.0\n",
       "27      1623.0  2853.0\n",
       "28      1495.0  2592.0\n",
       "29      1555.0  2788.0\n",
       "30      1223.0  2507.0\n",
       "..         ...     ...\n",
       "67        38.0    35.0\n",
       "68        50.0    35.0\n",
       "69        27.0    34.0\n",
       "70        17.0    13.0\n",
       "71        23.0    23.0\n",
       "72        11.0    25.0\n",
       "73         7.0    11.0\n",
       "74        18.0     9.0\n",
       "75         9.0    14.0\n",
       "76        11.0    15.0\n",
       "77         6.0     7.0\n",
       "78         9.0     4.0\n",
       "79         8.0     5.0\n",
       "80         5.0     9.0\n",
       "81         1.0     9.0\n",
       "82         1.0     1.0\n",
       "83         7.0     4.0\n",
       "84         1.0     1.0\n",
       "85         0.0     3.0\n",
       "86         1.0     3.0\n",
       "87         0.0     3.0\n",
       "88         3.0     2.0\n",
       "89         3.0     0.0\n",
       "90         0.0     1.0\n",
       "91         0.0     0.0\n",
       "92         0.0     0.0\n",
       "93         0.0     0.0\n",
       "94         1.0     0.0\n",
       "95         0.0     0.0\n",
       "96         1.0     0.0\n",
       "\n",
       "[96 rows x 2 columns]"
      ]
     },
     "execution_count": 384,
     "metadata": {},
     "output_type": "execute_result"
    }
   ],
   "source": [
    "c = train_data.groupby(['age','gender']).size().unstack().reindex(index=np.arange(train_data.age.min(), train_data.age.max()+1)).fillna(0)\n",
    "ax1,ax2 = c.plot(kind = 'bar', figsize = (12,6), subplots = True)\n",
    "ax1.vlines(np.array([23,26,28,32,42])-0.5,0,1800,alpha=0.5,linewidth=1,color='r')\n",
    "ax2.vlines(np.array([22,26,28,31,38])-0.5,0,3000,alpha=0.5,linewidth=1,color='r')"
   ]
  },
  {
   "cell_type": "code",
   "execution_count": 385,
   "metadata": {
    "collapsed": false
   },
   "outputs": [
    {
     "data": {
      "text/plain": [
       "<matplotlib.collections.LineCollection at 0x47c21a58>"
      ]
     },
     "execution_count": 385,
     "metadata": {},
     "output_type": "execute_result"
    },
    {
     "data": {
      "image/png": "[encoded data removed]",
      "text/plain": [
       "<matplotlib.figure.Figure at 0x34f8d8d0>"
      ]
     },
     "metadata": {},
     "output_type": "display_data"
    }
   ],
   "source": [
    "c = train_data.groupby(['age','gender']).size().unstack().reindex(index=np.arange(train_data.age.min(), train_data.age.max()+1)).fillna(0)\n",
    "ax1,ax2 = c.plot(kind = 'bar', figsize = (12,6), subplots = True)\n",
    "ax1.vlines(np.array([23,26,28,32,42])-0.5,0,1800,alpha=0.5,linewidth=1,color='r')\n",
    "ax2.vlines(np.array([22,26,28,31,38])-0.5,0,3000,alpha=0.5,linewidth=1,color='r')"
   ]
  },
  {
   "cell_type": "code",
   "execution_count": 386,
   "metadata": {
    "collapsed": true
   },
   "outputs": [],
   "source": [
    "from sklearn.preprocessing import LabelEncoder"
   ]
  },
  {
   "cell_type": "code",
   "execution_count": 387,
   "metadata": {
    "collapsed": true
   },
   "outputs": [],
   "source": [
    "letarget = LabelEncoder().fit(train_data['group'].values)"
   ]
  },
  {
   "cell_type": "code",
   "execution_count": 389,
   "metadata": {
    "collapsed": false
   },
   "outputs": [],
   "source": [
    "train_data['legroup'] = train_data['group']"
   ]
  },
  {
   "cell_type": "code",
   "execution_count": 391,
   "metadata": {
    "collapsed": false
   },
   "outputs": [],
   "source": [
    "y = letarget.transform(train_data['legroup'].values)"
   ]
  },
  {
   "cell_type": "code",
   "execution_count": 394,
   "metadata": {
    "collapsed": false
   },
   "outputs": [],
   "source": [
    "n_classes = len(letarget.classes_)"
   ]
  },
  {
   "cell_type": "code",
   "execution_count": 395,
   "metadata": {
    "collapsed": false
   },
   "outputs": [
    {
     "data": {
      "text/plain": [
       "12"
      ]
     },
     "execution_count": 395,
     "metadata": {},
     "output_type": "execute_result"
    }
   ],
   "source": [
    "n_classes"
   ]
  },
  {
   "cell_type": "code",
   "execution_count": 398,
   "metadata": {
    "collapsed": true
   },
   "outputs": [],
   "source": [
    "pred = np.ones((train_data.shape[0], n_classes))/n_classes"
   ]
  },
  {
   "cell_type": "code",
   "execution_count": 399,
   "metadata": {
    "collapsed": false
   },
   "outputs": [
    {
     "data": {
      "text/plain": [
       "array([[ 0.08333333,  0.08333333,  0.08333333, ...,  0.08333333,\n",
       "         0.08333333,  0.08333333],\n",
       "       [ 0.08333333,  0.08333333,  0.08333333, ...,  0.08333333,\n",
       "         0.08333333,  0.08333333],\n",
       "       [ 0.08333333,  0.08333333,  0.08333333, ...,  0.08333333,\n",
       "         0.08333333,  0.08333333],\n",
       "       ..., \n",
       "       [ 0.08333333,  0.08333333,  0.08333333, ...,  0.08333333,\n",
       "         0.08333333,  0.08333333],\n",
       "       [ 0.08333333,  0.08333333,  0.08333333, ...,  0.08333333,\n",
       "         0.08333333,  0.08333333],\n",
       "       [ 0.08333333,  0.08333333,  0.08333333, ...,  0.08333333,\n",
       "         0.08333333,  0.08333333]])"
      ]
     },
     "execution_count": 399,
     "metadata": {},
     "output_type": "execute_result"
    }
   ],
   "source": [
    "pred"
   ]
  },
  {
   "cell_type": "code",
   "execution_count": 403,
   "metadata": {
    "collapsed": false
   },
   "outputs": [],
   "source": [
    "from sklearn.metrics import log_loss"
   ]
  },
  {
   "cell_type": "code",
   "execution_count": 408,
   "metadata": {
    "collapsed": false
   },
   "outputs": [
    {
     "data": {
      "text/plain": [
       "9.9920072216264148e-16"
      ]
     },
     "execution_count": 408,
     "metadata": {},
     "output_type": "execute_result"
    }
   ],
   "source": [
    "pred = [1,0,1,0]\n",
    "act = [1,0,1,0]\n",
    "log_loss(pred, act)"
   ]
  },
  {
   "cell_type": "code",
   "execution_count": 412,
   "metadata": {
    "collapsed": false
   },
   "outputs": [
    {
     "ename": "ValueError",
     "evalue": "Found arrays with inconsistent numbers of samples: [    4 74645]",
     "output_type": "error",
     "traceback": [
      "\u001b[1;31m---------------------------------------------------------------------------\u001b[0m",
      "\u001b[1;31mValueError\u001b[0m                                Traceback (most recent call last)",
      "\u001b[1;32m<ipython-input-412-d976b12b40ab>\u001b[0m in \u001b[0;36m<module>\u001b[1;34m()\u001b[0m\n\u001b[1;32m----> 1\u001b[1;33m \u001b[0mlog_loss\u001b[0m\u001b[1;33m(\u001b[0m\u001b[0my\u001b[0m\u001b[1;33m,\u001b[0m \u001b[0mpred\u001b[0m\u001b[1;33m)\u001b[0m\u001b[1;33m\u001b[0m\u001b[0m\n\u001b[0m",
      "\u001b[1;32mC:\\Users\\Jenny\\Anaconda2\\lib\\site-packages\\sklearn\\metrics\\classification.pyc\u001b[0m in \u001b[0;36mlog_loss\u001b[1;34m(y_true, y_pred, eps, normalize, sample_weight)\u001b[0m\n\u001b[0;32m   1558\u001b[0m \u001b[1;33m\u001b[0m\u001b[0m\n\u001b[0;32m   1559\u001b[0m     \u001b[1;31m# Check if dimensions are consistent.\u001b[0m\u001b[1;33m\u001b[0m\u001b[1;33m\u001b[0m\u001b[0m\n\u001b[1;32m-> 1560\u001b[1;33m     \u001b[0mcheck_consistent_length\u001b[0m\u001b[1;33m(\u001b[0m\u001b[0mT\u001b[0m\u001b[1;33m,\u001b[0m \u001b[0mY\u001b[0m\u001b[1;33m)\u001b[0m\u001b[1;33m\u001b[0m\u001b[0m\n\u001b[0m\u001b[0;32m   1561\u001b[0m     \u001b[0mT\u001b[0m \u001b[1;33m=\u001b[0m \u001b[0mcheck_array\u001b[0m\u001b[1;33m(\u001b[0m\u001b[0mT\u001b[0m\u001b[1;33m)\u001b[0m\u001b[1;33m\u001b[0m\u001b[0m\n\u001b[0;32m   1562\u001b[0m     \u001b[0mY\u001b[0m \u001b[1;33m=\u001b[0m \u001b[0mcheck_array\u001b[0m\u001b[1;33m(\u001b[0m\u001b[0mY\u001b[0m\u001b[1;33m)\u001b[0m\u001b[1;33m\u001b[0m\u001b[0m\n",
      "\u001b[1;32mC:\\Users\\Jenny\\Anaconda2\\lib\\site-packages\\sklearn\\utils\\validation.pyc\u001b[0m in \u001b[0;36mcheck_consistent_length\u001b[1;34m(*arrays)\u001b[0m\n\u001b[0;32m    174\u001b[0m     \u001b[1;32mif\u001b[0m \u001b[0mlen\u001b[0m\u001b[1;33m(\u001b[0m\u001b[0muniques\u001b[0m\u001b[1;33m)\u001b[0m \u001b[1;33m>\u001b[0m \u001b[1;36m1\u001b[0m\u001b[1;33m:\u001b[0m\u001b[1;33m\u001b[0m\u001b[0m\n\u001b[0;32m    175\u001b[0m         raise ValueError(\"Found arrays with inconsistent numbers of samples: \"\n\u001b[1;32m--> 176\u001b[1;33m                          \"%s\" % str(uniques))\n\u001b[0m\u001b[0;32m    177\u001b[0m \u001b[1;33m\u001b[0m\u001b[0m\n\u001b[0;32m    178\u001b[0m \u001b[1;33m\u001b[0m\u001b[0m\n",
      "\u001b[1;31mValueError\u001b[0m: Found arrays with inconsistent numbers of samples: [    4 74645]"
     ]
    }
   ],
   "source": [
    "log_loss(y, pred)"
   ]
  },
  {
   "cell_type": "code",
   "execution_count": 409,
   "metadata": {
    "collapsed": false
   },
   "outputs": [
    {
     "data": {
      "text/plain": [
       "array([10, 10, 10, ...,  6, 10,  7], dtype=int64)"
      ]
     },
     "execution_count": 409,
     "metadata": {},
     "output_type": "execute_result"
    }
   ],
   "source": [
    "y"
   ]
  },
  {
   "cell_type": "code",
   "execution_count": 413,
   "metadata": {
    "collapsed": true
   },
   "outputs": [],
   "source": [
    "letarget = LabelEncoder().fit(train_data.group.values)\n",
    "y = letarget.transform(train_data.legroup.values)\n",
    "n_classes = len(letarget.classes_)"
   ]
  },
  {
   "cell_type": "code",
   "execution_count": 416,
   "metadata": {
    "collapsed": false
   },
   "outputs": [
    {
     "data": {
      "text/plain": [
       "2.4849066497880012"
      ]
     },
     "execution_count": 416,
     "metadata": {},
     "output_type": "execute_result"
    }
   ],
   "source": [
    "pred = np.ones((train_data.shape[0],n_classes))/n_classes\n",
    "log_loss(y, pred)"
   ]
  },
  {
   "cell_type": "code",
   "execution_count": 417,
   "metadata": {
    "collapsed": false
   },
   "outputs": [
    {
     "data": {
      "text/plain": [
       "2.4849066497880012"
      ]
     },
     "execution_count": 417,
     "metadata": {},
     "output_type": "execute_result"
    }
   ],
   "source": [
    "log_loss(y, pred)"
   ]
  },
  {
   "cell_type": "code",
   "execution_count": 419,
   "metadata": {
    "collapsed": false
   },
   "outputs": [],
   "source": [
    "# This is the benchmark log_loss"
   ]
  },
  {
   "cell_type": "code",
   "execution_count": 420,
   "metadata": {
    "collapsed": true
   },
   "outputs": [],
   "source": [
    "from sklearn.cross_validation import KFold"
   ]
  },
  {
   "cell_type": "code",
   "execution_count": 422,
   "metadata": {
    "collapsed": false
   },
   "outputs": [],
   "source": [
    "kf = KFold(train_data.shape[0], n_folds = 10, shuffle =True, random_state = 0)\n",
    "pred = np.zeros((train_data.shape[0], n_classes))"
   ]
  },
  {
   "cell_type": "code",
   "execution_count": 432,
   "metadata": {
    "collapsed": false
   },
   "outputs": [
    {
     "name": "stdout",
     "output_type": "stream",
     "text": [
      "2.42805122275\n"
     ]
    }
   ],
   "source": [
    "for itrain, itest in kf:\n",
    "    train = train_data.iloc[itrain,:]\n",
    "    test = train_data.iloc[itest,:]\n",
    "    ytrain,ytest = y[itrain], y[itest]\n",
    "    prob = train.groupby('group').size()/train.shape[0]\n",
    "    pred[itest,:] = prob.values\n",
    "print log_loss(y,pred)\n",
    "    "
   ]
  },
  {
   "cell_type": "code",
   "execution_count": 427,
   "metadata": {
    "collapsed": false
   },
   "outputs": [
    {
     "data": {
      "text/plain": [
       "group\n",
       "F23-      0.067654\n",
       "F24-26    0.056132\n",
       "F27-28    0.041771\n",
       "F29-32    0.062000\n",
       "F33-42    0.074499\n",
       "F43+      0.056186\n",
       "M22-      0.100315\n",
       "M23-26    0.128676\n",
       "M27-28    0.072945\n",
       "M29-31    0.097917\n",
       "M32-38    0.126948\n",
       "M39+      0.114957\n",
       "dtype: float64"
      ]
     },
     "execution_count": 427,
     "metadata": {},
     "output_type": "execute_result"
    }
   ],
   "source": [
    "train_data.groupby('group').size()/train_data.shape[0]"
   ]
  },
  {
   "cell_type": "code",
   "execution_count": 433,
   "metadata": {
    "collapsed": false
   },
   "outputs": [
    {
     "data": {
      "text/html": [
       "<div>\n",
       "<table border=\"1\" class=\"dataframe\">\n",
       "  <thead>\n",
       "    <tr style=\"text-align: right;\">\n",
       "      <th></th>\n",
       "      <th>device_id</th>\n",
       "      <th>gender</th>\n",
       "      <th>age</th>\n",
       "      <th>group</th>\n",
       "      <th>legroup</th>\n",
       "    </tr>\n",
       "  </thead>\n",
       "  <tbody>\n",
       "    <tr>\n",
       "      <th>0</th>\n",
       "      <td>-8076087639492063270</td>\n",
       "      <td>M</td>\n",
       "      <td>35</td>\n",
       "      <td>M32-38</td>\n",
       "      <td>M32-38</td>\n",
       "    </tr>\n",
       "    <tr>\n",
       "      <th>1</th>\n",
       "      <td>-2897161552818060146</td>\n",
       "      <td>M</td>\n",
       "      <td>35</td>\n",
       "      <td>M32-38</td>\n",
       "      <td>M32-38</td>\n",
       "    </tr>\n",
       "    <tr>\n",
       "      <th>2</th>\n",
       "      <td>-8260683887967679142</td>\n",
       "      <td>M</td>\n",
       "      <td>35</td>\n",
       "      <td>M32-38</td>\n",
       "      <td>M32-38</td>\n",
       "    </tr>\n",
       "    <tr>\n",
       "      <th>3</th>\n",
       "      <td>-4938849341048082022</td>\n",
       "      <td>M</td>\n",
       "      <td>30</td>\n",
       "      <td>M29-31</td>\n",
       "      <td>M29-31</td>\n",
       "    </tr>\n",
       "    <tr>\n",
       "      <th>4</th>\n",
       "      <td>245133531816851882</td>\n",
       "      <td>M</td>\n",
       "      <td>30</td>\n",
       "      <td>M29-31</td>\n",
       "      <td>M29-31</td>\n",
       "    </tr>\n",
       "    <tr>\n",
       "      <th>5</th>\n",
       "      <td>-1297074871525174196</td>\n",
       "      <td>F</td>\n",
       "      <td>24</td>\n",
       "      <td>F24-26</td>\n",
       "      <td>F24-26</td>\n",
       "    </tr>\n",
       "    <tr>\n",
       "      <th>6</th>\n",
       "      <td>236877999787307864</td>\n",
       "      <td>M</td>\n",
       "      <td>36</td>\n",
       "      <td>M32-38</td>\n",
       "      <td>M32-38</td>\n",
       "    </tr>\n",
       "    <tr>\n",
       "      <th>7</th>\n",
       "      <td>-8098239495777311881</td>\n",
       "      <td>M</td>\n",
       "      <td>38</td>\n",
       "      <td>M32-38</td>\n",
       "      <td>M32-38</td>\n",
       "    </tr>\n",
       "    <tr>\n",
       "      <th>8</th>\n",
       "      <td>176515041953473526</td>\n",
       "      <td>M</td>\n",
       "      <td>33</td>\n",
       "      <td>M32-38</td>\n",
       "      <td>M32-38</td>\n",
       "    </tr>\n",
       "    <tr>\n",
       "      <th>9</th>\n",
       "      <td>1596610250680140042</td>\n",
       "      <td>F</td>\n",
       "      <td>36</td>\n",
       "      <td>F33-42</td>\n",
       "      <td>F33-42</td>\n",
       "    </tr>\n",
       "    <tr>\n",
       "      <th>11</th>\n",
       "      <td>7477216237379271436</td>\n",
       "      <td>F</td>\n",
       "      <td>37</td>\n",
       "      <td>F33-42</td>\n",
       "      <td>F33-42</td>\n",
       "    </tr>\n",
       "    <tr>\n",
       "      <th>12</th>\n",
       "      <td>2478205222798310601</td>\n",
       "      <td>F</td>\n",
       "      <td>28</td>\n",
       "      <td>F27-28</td>\n",
       "      <td>F27-28</td>\n",
       "    </tr>\n",
       "    <tr>\n",
       "      <th>14</th>\n",
       "      <td>-7605360767281960867</td>\n",
       "      <td>M</td>\n",
       "      <td>48</td>\n",
       "      <td>M39+</td>\n",
       "      <td>M39+</td>\n",
       "    </tr>\n",
       "    <tr>\n",
       "      <th>15</th>\n",
       "      <td>1508636020748379883</td>\n",
       "      <td>F</td>\n",
       "      <td>28</td>\n",
       "      <td>F27-28</td>\n",
       "      <td>F27-28</td>\n",
       "    </tr>\n",
       "    <tr>\n",
       "      <th>16</th>\n",
       "      <td>4380872794486415327</td>\n",
       "      <td>M</td>\n",
       "      <td>38</td>\n",
       "      <td>M32-38</td>\n",
       "      <td>M32-38</td>\n",
       "    </tr>\n",
       "    <tr>\n",
       "      <th>17</th>\n",
       "      <td>-1039701474753771322</td>\n",
       "      <td>M</td>\n",
       "      <td>38</td>\n",
       "      <td>M32-38</td>\n",
       "      <td>M32-38</td>\n",
       "    </tr>\n",
       "    <tr>\n",
       "      <th>18</th>\n",
       "      <td>-6876541075223249434</td>\n",
       "      <td>M</td>\n",
       "      <td>75</td>\n",
       "      <td>M39+</td>\n",
       "      <td>M39+</td>\n",
       "    </tr>\n",
       "    <tr>\n",
       "      <th>19</th>\n",
       "      <td>6287938418661076759</td>\n",
       "      <td>M</td>\n",
       "      <td>33</td>\n",
       "      <td>M32-38</td>\n",
       "      <td>M32-38</td>\n",
       "    </tr>\n",
       "    <tr>\n",
       "      <th>20</th>\n",
       "      <td>-6029676723224952628</td>\n",
       "      <td>F</td>\n",
       "      <td>39</td>\n",
       "      <td>F33-42</td>\n",
       "      <td>F33-42</td>\n",
       "    </tr>\n",
       "    <tr>\n",
       "      <th>22</th>\n",
       "      <td>1118970699362079126</td>\n",
       "      <td>M</td>\n",
       "      <td>24</td>\n",
       "      <td>M23-26</td>\n",
       "      <td>M23-26</td>\n",
       "    </tr>\n",
       "    <tr>\n",
       "      <th>23</th>\n",
       "      <td>-7271319853104672050</td>\n",
       "      <td>M</td>\n",
       "      <td>27</td>\n",
       "      <td>M27-28</td>\n",
       "      <td>M27-28</td>\n",
       "    </tr>\n",
       "    <tr>\n",
       "      <th>24</th>\n",
       "      <td>-9216966316587614491</td>\n",
       "      <td>M</td>\n",
       "      <td>29</td>\n",
       "      <td>M29-31</td>\n",
       "      <td>M29-31</td>\n",
       "    </tr>\n",
       "    <tr>\n",
       "      <th>25</th>\n",
       "      <td>-4913644674161904021</td>\n",
       "      <td>M</td>\n",
       "      <td>34</td>\n",
       "      <td>M32-38</td>\n",
       "      <td>M32-38</td>\n",
       "    </tr>\n",
       "    <tr>\n",
       "      <th>26</th>\n",
       "      <td>2313145512701915151</td>\n",
       "      <td>M</td>\n",
       "      <td>34</td>\n",
       "      <td>M32-38</td>\n",
       "      <td>M32-38</td>\n",
       "    </tr>\n",
       "    <tr>\n",
       "      <th>27</th>\n",
       "      <td>4309468945717577632</td>\n",
       "      <td>F</td>\n",
       "      <td>36</td>\n",
       "      <td>F33-42</td>\n",
       "      <td>F33-42</td>\n",
       "    </tr>\n",
       "    <tr>\n",
       "      <th>28</th>\n",
       "      <td>-4547337748907986143</td>\n",
       "      <td>M</td>\n",
       "      <td>37</td>\n",
       "      <td>M32-38</td>\n",
       "      <td>M32-38</td>\n",
       "    </tr>\n",
       "    <tr>\n",
       "      <th>29</th>\n",
       "      <td>-7216269352973401877</td>\n",
       "      <td>M</td>\n",
       "      <td>37</td>\n",
       "      <td>M32-38</td>\n",
       "      <td>M32-38</td>\n",
       "    </tr>\n",
       "    <tr>\n",
       "      <th>31</th>\n",
       "      <td>7630241409816671260</td>\n",
       "      <td>M</td>\n",
       "      <td>35</td>\n",
       "      <td>M32-38</td>\n",
       "      <td>M32-38</td>\n",
       "    </tr>\n",
       "    <tr>\n",
       "      <th>32</th>\n",
       "      <td>7106922851105968241</td>\n",
       "      <td>M</td>\n",
       "      <td>22</td>\n",
       "      <td>M22-</td>\n",
       "      <td>M22-</td>\n",
       "    </tr>\n",
       "    <tr>\n",
       "      <th>33</th>\n",
       "      <td>-5825546292084395293</td>\n",
       "      <td>M</td>\n",
       "      <td>31</td>\n",
       "      <td>M29-31</td>\n",
       "      <td>M29-31</td>\n",
       "    </tr>\n",
       "    <tr>\n",
       "      <th>...</th>\n",
       "      <td>...</td>\n",
       "      <td>...</td>\n",
       "      <td>...</td>\n",
       "      <td>...</td>\n",
       "      <td>...</td>\n",
       "    </tr>\n",
       "    <tr>\n",
       "      <th>74611</th>\n",
       "      <td>-4687396929642382830</td>\n",
       "      <td>M</td>\n",
       "      <td>27</td>\n",
       "      <td>M27-28</td>\n",
       "      <td>M27-28</td>\n",
       "    </tr>\n",
       "    <tr>\n",
       "      <th>74612</th>\n",
       "      <td>-1463996218727923727</td>\n",
       "      <td>F</td>\n",
       "      <td>30</td>\n",
       "      <td>F29-32</td>\n",
       "      <td>F29-32</td>\n",
       "    </tr>\n",
       "    <tr>\n",
       "      <th>74613</th>\n",
       "      <td>7913401700555773883</td>\n",
       "      <td>F</td>\n",
       "      <td>53</td>\n",
       "      <td>F43+</td>\n",
       "      <td>F43+</td>\n",
       "    </tr>\n",
       "    <tr>\n",
       "      <th>74614</th>\n",
       "      <td>-4533765300527195404</td>\n",
       "      <td>M</td>\n",
       "      <td>22</td>\n",
       "      <td>M22-</td>\n",
       "      <td>M22-</td>\n",
       "    </tr>\n",
       "    <tr>\n",
       "      <th>74618</th>\n",
       "      <td>2627933310180294504</td>\n",
       "      <td>M</td>\n",
       "      <td>31</td>\n",
       "      <td>M29-31</td>\n",
       "      <td>M29-31</td>\n",
       "    </tr>\n",
       "    <tr>\n",
       "      <th>74619</th>\n",
       "      <td>7176422141809079294</td>\n",
       "      <td>M</td>\n",
       "      <td>23</td>\n",
       "      <td>M23-26</td>\n",
       "      <td>M23-26</td>\n",
       "    </tr>\n",
       "    <tr>\n",
       "      <th>74620</th>\n",
       "      <td>-877731366874189491</td>\n",
       "      <td>M</td>\n",
       "      <td>22</td>\n",
       "      <td>M22-</td>\n",
       "      <td>M22-</td>\n",
       "    </tr>\n",
       "    <tr>\n",
       "      <th>74622</th>\n",
       "      <td>-3569962198902678507</td>\n",
       "      <td>F</td>\n",
       "      <td>59</td>\n",
       "      <td>F43+</td>\n",
       "      <td>F43+</td>\n",
       "    </tr>\n",
       "    <tr>\n",
       "      <th>74623</th>\n",
       "      <td>2032262288045492186</td>\n",
       "      <td>F</td>\n",
       "      <td>29</td>\n",
       "      <td>F29-32</td>\n",
       "      <td>F29-32</td>\n",
       "    </tr>\n",
       "    <tr>\n",
       "      <th>74624</th>\n",
       "      <td>-6220019934264142137</td>\n",
       "      <td>M</td>\n",
       "      <td>29</td>\n",
       "      <td>M29-31</td>\n",
       "      <td>M29-31</td>\n",
       "    </tr>\n",
       "    <tr>\n",
       "      <th>74625</th>\n",
       "      <td>-4071460957162948519</td>\n",
       "      <td>F</td>\n",
       "      <td>27</td>\n",
       "      <td>F27-28</td>\n",
       "      <td>F27-28</td>\n",
       "    </tr>\n",
       "    <tr>\n",
       "      <th>74626</th>\n",
       "      <td>8012242415081116163</td>\n",
       "      <td>F</td>\n",
       "      <td>30</td>\n",
       "      <td>F29-32</td>\n",
       "      <td>F29-32</td>\n",
       "    </tr>\n",
       "    <tr>\n",
       "      <th>74627</th>\n",
       "      <td>-7513478293429751074</td>\n",
       "      <td>F</td>\n",
       "      <td>56</td>\n",
       "      <td>F43+</td>\n",
       "      <td>F43+</td>\n",
       "    </tr>\n",
       "    <tr>\n",
       "      <th>74628</th>\n",
       "      <td>2918022610076499795</td>\n",
       "      <td>M</td>\n",
       "      <td>26</td>\n",
       "      <td>M23-26</td>\n",
       "      <td>M23-26</td>\n",
       "    </tr>\n",
       "    <tr>\n",
       "      <th>74629</th>\n",
       "      <td>442105793738318663</td>\n",
       "      <td>M</td>\n",
       "      <td>35</td>\n",
       "      <td>M32-38</td>\n",
       "      <td>M32-38</td>\n",
       "    </tr>\n",
       "    <tr>\n",
       "      <th>74630</th>\n",
       "      <td>-2510601842775405069</td>\n",
       "      <td>F</td>\n",
       "      <td>22</td>\n",
       "      <td>F23-</td>\n",
       "      <td>F23-</td>\n",
       "    </tr>\n",
       "    <tr>\n",
       "      <th>74631</th>\n",
       "      <td>-2572857383593438598</td>\n",
       "      <td>F</td>\n",
       "      <td>21</td>\n",
       "      <td>F23-</td>\n",
       "      <td>F23-</td>\n",
       "    </tr>\n",
       "    <tr>\n",
       "      <th>74632</th>\n",
       "      <td>-5804749754315732086</td>\n",
       "      <td>M</td>\n",
       "      <td>33</td>\n",
       "      <td>M32-38</td>\n",
       "      <td>M32-38</td>\n",
       "    </tr>\n",
       "    <tr>\n",
       "      <th>74633</th>\n",
       "      <td>-4229815843211107303</td>\n",
       "      <td>M</td>\n",
       "      <td>53</td>\n",
       "      <td>M39+</td>\n",
       "      <td>M39+</td>\n",
       "    </tr>\n",
       "    <tr>\n",
       "      <th>74634</th>\n",
       "      <td>-8331157719771660970</td>\n",
       "      <td>M</td>\n",
       "      <td>53</td>\n",
       "      <td>M39+</td>\n",
       "      <td>M39+</td>\n",
       "    </tr>\n",
       "    <tr>\n",
       "      <th>74635</th>\n",
       "      <td>1728576663562073800</td>\n",
       "      <td>M</td>\n",
       "      <td>38</td>\n",
       "      <td>M32-38</td>\n",
       "      <td>M32-38</td>\n",
       "    </tr>\n",
       "    <tr>\n",
       "      <th>74636</th>\n",
       "      <td>8116314513428390753</td>\n",
       "      <td>M</td>\n",
       "      <td>25</td>\n",
       "      <td>M23-26</td>\n",
       "      <td>M23-26</td>\n",
       "    </tr>\n",
       "    <tr>\n",
       "      <th>74637</th>\n",
       "      <td>-3539330294838027409</td>\n",
       "      <td>M</td>\n",
       "      <td>25</td>\n",
       "      <td>M23-26</td>\n",
       "      <td>M23-26</td>\n",
       "    </tr>\n",
       "    <tr>\n",
       "      <th>74638</th>\n",
       "      <td>5645813107043557722</td>\n",
       "      <td>F</td>\n",
       "      <td>51</td>\n",
       "      <td>F43+</td>\n",
       "      <td>F43+</td>\n",
       "    </tr>\n",
       "    <tr>\n",
       "      <th>74639</th>\n",
       "      <td>-4752726726975186730</td>\n",
       "      <td>M</td>\n",
       "      <td>26</td>\n",
       "      <td>M23-26</td>\n",
       "      <td>M23-26</td>\n",
       "    </tr>\n",
       "    <tr>\n",
       "      <th>74640</th>\n",
       "      <td>4682031842235089751</td>\n",
       "      <td>M</td>\n",
       "      <td>30</td>\n",
       "      <td>M29-31</td>\n",
       "      <td>M29-31</td>\n",
       "    </tr>\n",
       "    <tr>\n",
       "      <th>74641</th>\n",
       "      <td>-9178703742877135986</td>\n",
       "      <td>M</td>\n",
       "      <td>30</td>\n",
       "      <td>M29-31</td>\n",
       "      <td>M29-31</td>\n",
       "    </tr>\n",
       "    <tr>\n",
       "      <th>74642</th>\n",
       "      <td>180946546684162312</td>\n",
       "      <td>M</td>\n",
       "      <td>20</td>\n",
       "      <td>M22-</td>\n",
       "      <td>M22-</td>\n",
       "    </tr>\n",
       "    <tr>\n",
       "      <th>74643</th>\n",
       "      <td>1390702386071991851</td>\n",
       "      <td>M</td>\n",
       "      <td>37</td>\n",
       "      <td>M32-38</td>\n",
       "      <td>M32-38</td>\n",
       "    </tr>\n",
       "    <tr>\n",
       "      <th>74644</th>\n",
       "      <td>89181010588227347</td>\n",
       "      <td>M</td>\n",
       "      <td>25</td>\n",
       "      <td>M23-26</td>\n",
       "      <td>M23-26</td>\n",
       "    </tr>\n",
       "  </tbody>\n",
       "</table>\n",
       "<p>67181 rows × 5 columns</p>\n",
       "</div>"
      ],
      "text/plain": [
       "                 device_id gender  age   group legroup\n",
       "0     -8076087639492063270      M   35  M32-38  M32-38\n",
       "1     -2897161552818060146      M   35  M32-38  M32-38\n",
       "2     -8260683887967679142      M   35  M32-38  M32-38\n",
       "3     -4938849341048082022      M   30  M29-31  M29-31\n",
       "4       245133531816851882      M   30  M29-31  M29-31\n",
       "5     -1297074871525174196      F   24  F24-26  F24-26\n",
       "6       236877999787307864      M   36  M32-38  M32-38\n",
       "7     -8098239495777311881      M   38  M32-38  M32-38\n",
       "8       176515041953473526      M   33  M32-38  M32-38\n",
       "9      1596610250680140042      F   36  F33-42  F33-42\n",
       "11     7477216237379271436      F   37  F33-42  F33-42\n",
       "12     2478205222798310601      F   28  F27-28  F27-28\n",
       "14    -7605360767281960867      M   48    M39+    M39+\n",
       "15     1508636020748379883      F   28  F27-28  F27-28\n",
       "16     4380872794486415327      M   38  M32-38  M32-38\n",
       "17    -1039701474753771322      M   38  M32-38  M32-38\n",
       "18    -6876541075223249434      M   75    M39+    M39+\n",
       "19     6287938418661076759      M   33  M32-38  M32-38\n",
       "20    -6029676723224952628      F   39  F33-42  F33-42\n",
       "22     1118970699362079126      M   24  M23-26  M23-26\n",
       "23    -7271319853104672050      M   27  M27-28  M27-28\n",
       "24    -9216966316587614491      M   29  M29-31  M29-31\n",
       "25    -4913644674161904021      M   34  M32-38  M32-38\n",
       "26     2313145512701915151      M   34  M32-38  M32-38\n",
       "27     4309468945717577632      F   36  F33-42  F33-42\n",
       "28    -4547337748907986143      M   37  M32-38  M32-38\n",
       "29    -7216269352973401877      M   37  M32-38  M32-38\n",
       "31     7630241409816671260      M   35  M32-38  M32-38\n",
       "32     7106922851105968241      M   22    M22-    M22-\n",
       "33    -5825546292084395293      M   31  M29-31  M29-31\n",
       "...                    ...    ...  ...     ...     ...\n",
       "74611 -4687396929642382830      M   27  M27-28  M27-28\n",
       "74612 -1463996218727923727      F   30  F29-32  F29-32\n",
       "74613  7913401700555773883      F   53    F43+    F43+\n",
       "74614 -4533765300527195404      M   22    M22-    M22-\n",
       "74618  2627933310180294504      M   31  M29-31  M29-31\n",
       "74619  7176422141809079294      M   23  M23-26  M23-26\n",
       "74620  -877731366874189491      M   22    M22-    M22-\n",
       "74622 -3569962198902678507      F   59    F43+    F43+\n",
       "74623  2032262288045492186      F   29  F29-32  F29-32\n",
       "74624 -6220019934264142137      M   29  M29-31  M29-31\n",
       "74625 -4071460957162948519      F   27  F27-28  F27-28\n",
       "74626  8012242415081116163      F   30  F29-32  F29-32\n",
       "74627 -7513478293429751074      F   56    F43+    F43+\n",
       "74628  2918022610076499795      M   26  M23-26  M23-26\n",
       "74629   442105793738318663      M   35  M32-38  M32-38\n",
       "74630 -2510601842775405069      F   22    F23-    F23-\n",
       "74631 -2572857383593438598      F   21    F23-    F23-\n",
       "74632 -5804749754315732086      M   33  M32-38  M32-38\n",
       "74633 -4229815843211107303      M   53    M39+    M39+\n",
       "74634 -8331157719771660970      M   53    M39+    M39+\n",
       "74635  1728576663562073800      M   38  M32-38  M32-38\n",
       "74636  8116314513428390753      M   25  M23-26  M23-26\n",
       "74637 -3539330294838027409      M   25  M23-26  M23-26\n",
       "74638  5645813107043557722      F   51    F43+    F43+\n",
       "74639 -4752726726975186730      M   26  M23-26  M23-26\n",
       "74640  4682031842235089751      M   30  M29-31  M29-31\n",
       "74641 -9178703742877135986      M   30  M29-31  M29-31\n",
       "74642   180946546684162312      M   20    M22-    M22-\n",
       "74643  1390702386071991851      M   37  M32-38  M32-38\n",
       "74644    89181010588227347      M   25  M23-26  M23-26\n",
       "\n",
       "[67181 rows x 5 columns]"
      ]
     },
     "execution_count": 433,
     "metadata": {},
     "output_type": "execute_result"
    }
   ],
   "source": [
    "train"
   ]
  },
  {
   "cell_type": "code",
   "execution_count": 434,
   "metadata": {
    "collapsed": false
   },
   "outputs": [
    {
     "data": {
      "text/html": [
       "<div>\n",
       "<table border=\"1\" class=\"dataframe\">\n",
       "  <thead>\n",
       "    <tr style=\"text-align: right;\">\n",
       "      <th></th>\n",
       "      <th>device_id</th>\n",
       "      <th>gender</th>\n",
       "      <th>age</th>\n",
       "      <th>group</th>\n",
       "      <th>legroup</th>\n",
       "    </tr>\n",
       "  </thead>\n",
       "  <tbody>\n",
       "    <tr>\n",
       "      <th>10</th>\n",
       "      <td>9032155484127182494</td>\n",
       "      <td>M</td>\n",
       "      <td>31</td>\n",
       "      <td>M29-31</td>\n",
       "      <td>M29-31</td>\n",
       "    </tr>\n",
       "    <tr>\n",
       "      <th>13</th>\n",
       "      <td>6352067998666467520</td>\n",
       "      <td>M</td>\n",
       "      <td>32</td>\n",
       "      <td>M32-38</td>\n",
       "      <td>M32-38</td>\n",
       "    </tr>\n",
       "    <tr>\n",
       "      <th>21</th>\n",
       "      <td>8026504930081700361</td>\n",
       "      <td>M</td>\n",
       "      <td>25</td>\n",
       "      <td>M23-26</td>\n",
       "      <td>M23-26</td>\n",
       "    </tr>\n",
       "    <tr>\n",
       "      <th>30</th>\n",
       "      <td>-7303294878482532208</td>\n",
       "      <td>M</td>\n",
       "      <td>33</td>\n",
       "      <td>M32-38</td>\n",
       "      <td>M32-38</td>\n",
       "    </tr>\n",
       "    <tr>\n",
       "      <th>43</th>\n",
       "      <td>-1539979963116391306</td>\n",
       "      <td>M</td>\n",
       "      <td>31</td>\n",
       "      <td>M29-31</td>\n",
       "      <td>M29-31</td>\n",
       "    </tr>\n",
       "    <tr>\n",
       "      <th>75</th>\n",
       "      <td>-6785797459639810711</td>\n",
       "      <td>M</td>\n",
       "      <td>28</td>\n",
       "      <td>M27-28</td>\n",
       "      <td>M27-28</td>\n",
       "    </tr>\n",
       "    <tr>\n",
       "      <th>93</th>\n",
       "      <td>-7882183570062087941</td>\n",
       "      <td>M</td>\n",
       "      <td>24</td>\n",
       "      <td>M23-26</td>\n",
       "      <td>M23-26</td>\n",
       "    </tr>\n",
       "    <tr>\n",
       "      <th>95</th>\n",
       "      <td>-3859751359584472885</td>\n",
       "      <td>M</td>\n",
       "      <td>30</td>\n",
       "      <td>M29-31</td>\n",
       "      <td>M29-31</td>\n",
       "    </tr>\n",
       "    <tr>\n",
       "      <th>100</th>\n",
       "      <td>5973319239886062800</td>\n",
       "      <td>F</td>\n",
       "      <td>28</td>\n",
       "      <td>F27-28</td>\n",
       "      <td>F27-28</td>\n",
       "    </tr>\n",
       "    <tr>\n",
       "      <th>102</th>\n",
       "      <td>7326636766251173655</td>\n",
       "      <td>M</td>\n",
       "      <td>27</td>\n",
       "      <td>M27-28</td>\n",
       "      <td>M27-28</td>\n",
       "    </tr>\n",
       "    <tr>\n",
       "      <th>104</th>\n",
       "      <td>8907764229603533579</td>\n",
       "      <td>F</td>\n",
       "      <td>23</td>\n",
       "      <td>F23-</td>\n",
       "      <td>F23-</td>\n",
       "    </tr>\n",
       "    <tr>\n",
       "      <th>106</th>\n",
       "      <td>3819716873588642183</td>\n",
       "      <td>F</td>\n",
       "      <td>23</td>\n",
       "      <td>F23-</td>\n",
       "      <td>F23-</td>\n",
       "    </tr>\n",
       "    <tr>\n",
       "      <th>107</th>\n",
       "      <td>4650021665055865662</td>\n",
       "      <td>M</td>\n",
       "      <td>20</td>\n",
       "      <td>M22-</td>\n",
       "      <td>M22-</td>\n",
       "    </tr>\n",
       "    <tr>\n",
       "      <th>108</th>\n",
       "      <td>-5441393164079058849</td>\n",
       "      <td>F</td>\n",
       "      <td>34</td>\n",
       "      <td>F33-42</td>\n",
       "      <td>F33-42</td>\n",
       "    </tr>\n",
       "    <tr>\n",
       "      <th>111</th>\n",
       "      <td>6927671656924395665</td>\n",
       "      <td>M</td>\n",
       "      <td>26</td>\n",
       "      <td>M23-26</td>\n",
       "      <td>M23-26</td>\n",
       "    </tr>\n",
       "    <tr>\n",
       "      <th>113</th>\n",
       "      <td>2959524852145775517</td>\n",
       "      <td>M</td>\n",
       "      <td>30</td>\n",
       "      <td>M29-31</td>\n",
       "      <td>M29-31</td>\n",
       "    </tr>\n",
       "    <tr>\n",
       "      <th>120</th>\n",
       "      <td>1704840088089510706</td>\n",
       "      <td>M</td>\n",
       "      <td>24</td>\n",
       "      <td>M23-26</td>\n",
       "      <td>M23-26</td>\n",
       "    </tr>\n",
       "    <tr>\n",
       "      <th>131</th>\n",
       "      <td>248228453883119456</td>\n",
       "      <td>F</td>\n",
       "      <td>28</td>\n",
       "      <td>F27-28</td>\n",
       "      <td>F27-28</td>\n",
       "    </tr>\n",
       "    <tr>\n",
       "      <th>132</th>\n",
       "      <td>8561987004157629214</td>\n",
       "      <td>M</td>\n",
       "      <td>30</td>\n",
       "      <td>M29-31</td>\n",
       "      <td>M29-31</td>\n",
       "    </tr>\n",
       "    <tr>\n",
       "      <th>160</th>\n",
       "      <td>-1516688507910543815</td>\n",
       "      <td>F</td>\n",
       "      <td>43</td>\n",
       "      <td>F43+</td>\n",
       "      <td>F43+</td>\n",
       "    </tr>\n",
       "    <tr>\n",
       "      <th>161</th>\n",
       "      <td>4142956234059879708</td>\n",
       "      <td>F</td>\n",
       "      <td>33</td>\n",
       "      <td>F33-42</td>\n",
       "      <td>F33-42</td>\n",
       "    </tr>\n",
       "    <tr>\n",
       "      <th>163</th>\n",
       "      <td>-7516440352534368031</td>\n",
       "      <td>M</td>\n",
       "      <td>31</td>\n",
       "      <td>M29-31</td>\n",
       "      <td>M29-31</td>\n",
       "    </tr>\n",
       "    <tr>\n",
       "      <th>171</th>\n",
       "      <td>8862410784192965428</td>\n",
       "      <td>F</td>\n",
       "      <td>36</td>\n",
       "      <td>F33-42</td>\n",
       "      <td>F33-42</td>\n",
       "    </tr>\n",
       "    <tr>\n",
       "      <th>195</th>\n",
       "      <td>-1319995297521489561</td>\n",
       "      <td>M</td>\n",
       "      <td>31</td>\n",
       "      <td>M29-31</td>\n",
       "      <td>M29-31</td>\n",
       "    </tr>\n",
       "    <tr>\n",
       "      <th>211</th>\n",
       "      <td>2040535522516268215</td>\n",
       "      <td>F</td>\n",
       "      <td>23</td>\n",
       "      <td>F23-</td>\n",
       "      <td>F23-</td>\n",
       "    </tr>\n",
       "    <tr>\n",
       "      <th>215</th>\n",
       "      <td>-7963397998932390299</td>\n",
       "      <td>M</td>\n",
       "      <td>49</td>\n",
       "      <td>M39+</td>\n",
       "      <td>M39+</td>\n",
       "    </tr>\n",
       "    <tr>\n",
       "      <th>227</th>\n",
       "      <td>3147394884766951836</td>\n",
       "      <td>M</td>\n",
       "      <td>53</td>\n",
       "      <td>M39+</td>\n",
       "      <td>M39+</td>\n",
       "    </tr>\n",
       "    <tr>\n",
       "      <th>228</th>\n",
       "      <td>80935662153622052</td>\n",
       "      <td>M</td>\n",
       "      <td>53</td>\n",
       "      <td>M39+</td>\n",
       "      <td>M39+</td>\n",
       "    </tr>\n",
       "    <tr>\n",
       "      <th>259</th>\n",
       "      <td>1540134249071138179</td>\n",
       "      <td>F</td>\n",
       "      <td>67</td>\n",
       "      <td>F43+</td>\n",
       "      <td>F43+</td>\n",
       "    </tr>\n",
       "    <tr>\n",
       "      <th>326</th>\n",
       "      <td>-8146966056838942606</td>\n",
       "      <td>M</td>\n",
       "      <td>25</td>\n",
       "      <td>M23-26</td>\n",
       "      <td>M23-26</td>\n",
       "    </tr>\n",
       "    <tr>\n",
       "      <th>...</th>\n",
       "      <td>...</td>\n",
       "      <td>...</td>\n",
       "      <td>...</td>\n",
       "      <td>...</td>\n",
       "      <td>...</td>\n",
       "    </tr>\n",
       "    <tr>\n",
       "      <th>74417</th>\n",
       "      <td>-6429926020325511685</td>\n",
       "      <td>F</td>\n",
       "      <td>30</td>\n",
       "      <td>F29-32</td>\n",
       "      <td>F29-32</td>\n",
       "    </tr>\n",
       "    <tr>\n",
       "      <th>74429</th>\n",
       "      <td>-4243338761310405404</td>\n",
       "      <td>M</td>\n",
       "      <td>41</td>\n",
       "      <td>M39+</td>\n",
       "      <td>M39+</td>\n",
       "    </tr>\n",
       "    <tr>\n",
       "      <th>74430</th>\n",
       "      <td>-4712564794976380974</td>\n",
       "      <td>M</td>\n",
       "      <td>24</td>\n",
       "      <td>M23-26</td>\n",
       "      <td>M23-26</td>\n",
       "    </tr>\n",
       "    <tr>\n",
       "      <th>74438</th>\n",
       "      <td>2837286030342646467</td>\n",
       "      <td>M</td>\n",
       "      <td>22</td>\n",
       "      <td>M22-</td>\n",
       "      <td>M22-</td>\n",
       "    </tr>\n",
       "    <tr>\n",
       "      <th>74453</th>\n",
       "      <td>3614029964321590147</td>\n",
       "      <td>M</td>\n",
       "      <td>35</td>\n",
       "      <td>M32-38</td>\n",
       "      <td>M32-38</td>\n",
       "    </tr>\n",
       "    <tr>\n",
       "      <th>74456</th>\n",
       "      <td>-9142376725008534333</td>\n",
       "      <td>M</td>\n",
       "      <td>56</td>\n",
       "      <td>M39+</td>\n",
       "      <td>M39+</td>\n",
       "    </tr>\n",
       "    <tr>\n",
       "      <th>74462</th>\n",
       "      <td>594385458116492627</td>\n",
       "      <td>F</td>\n",
       "      <td>21</td>\n",
       "      <td>F23-</td>\n",
       "      <td>F23-</td>\n",
       "    </tr>\n",
       "    <tr>\n",
       "      <th>74472</th>\n",
       "      <td>8681495222372524580</td>\n",
       "      <td>F</td>\n",
       "      <td>21</td>\n",
       "      <td>F23-</td>\n",
       "      <td>F23-</td>\n",
       "    </tr>\n",
       "    <tr>\n",
       "      <th>74484</th>\n",
       "      <td>6661289426295888735</td>\n",
       "      <td>F</td>\n",
       "      <td>34</td>\n",
       "      <td>F33-42</td>\n",
       "      <td>F33-42</td>\n",
       "    </tr>\n",
       "    <tr>\n",
       "      <th>74488</th>\n",
       "      <td>7914007326459522324</td>\n",
       "      <td>M</td>\n",
       "      <td>33</td>\n",
       "      <td>M32-38</td>\n",
       "      <td>M32-38</td>\n",
       "    </tr>\n",
       "    <tr>\n",
       "      <th>74497</th>\n",
       "      <td>-2173789697861594127</td>\n",
       "      <td>F</td>\n",
       "      <td>24</td>\n",
       "      <td>F24-26</td>\n",
       "      <td>F24-26</td>\n",
       "    </tr>\n",
       "    <tr>\n",
       "      <th>74498</th>\n",
       "      <td>7155131163510855348</td>\n",
       "      <td>F</td>\n",
       "      <td>24</td>\n",
       "      <td>F24-26</td>\n",
       "      <td>F24-26</td>\n",
       "    </tr>\n",
       "    <tr>\n",
       "      <th>74499</th>\n",
       "      <td>8758939604929224155</td>\n",
       "      <td>F</td>\n",
       "      <td>26</td>\n",
       "      <td>F24-26</td>\n",
       "      <td>F24-26</td>\n",
       "    </tr>\n",
       "    <tr>\n",
       "      <th>74501</th>\n",
       "      <td>-8005359540152835630</td>\n",
       "      <td>M</td>\n",
       "      <td>26</td>\n",
       "      <td>M23-26</td>\n",
       "      <td>M23-26</td>\n",
       "    </tr>\n",
       "    <tr>\n",
       "      <th>74504</th>\n",
       "      <td>-5021472546351105489</td>\n",
       "      <td>F</td>\n",
       "      <td>24</td>\n",
       "      <td>F24-26</td>\n",
       "      <td>F24-26</td>\n",
       "    </tr>\n",
       "    <tr>\n",
       "      <th>74532</th>\n",
       "      <td>5713096817783497681</td>\n",
       "      <td>M</td>\n",
       "      <td>24</td>\n",
       "      <td>M23-26</td>\n",
       "      <td>M23-26</td>\n",
       "    </tr>\n",
       "    <tr>\n",
       "      <th>74535</th>\n",
       "      <td>-1278655020024411716</td>\n",
       "      <td>M</td>\n",
       "      <td>27</td>\n",
       "      <td>M27-28</td>\n",
       "      <td>M27-28</td>\n",
       "    </tr>\n",
       "    <tr>\n",
       "      <th>74537</th>\n",
       "      <td>-8990743435728765151</td>\n",
       "      <td>M</td>\n",
       "      <td>24</td>\n",
       "      <td>M23-26</td>\n",
       "      <td>M23-26</td>\n",
       "    </tr>\n",
       "    <tr>\n",
       "      <th>74538</th>\n",
       "      <td>-4757520189109306532</td>\n",
       "      <td>F</td>\n",
       "      <td>22</td>\n",
       "      <td>F23-</td>\n",
       "      <td>F23-</td>\n",
       "    </tr>\n",
       "    <tr>\n",
       "      <th>74547</th>\n",
       "      <td>-7469494018140266043</td>\n",
       "      <td>M</td>\n",
       "      <td>39</td>\n",
       "      <td>M39+</td>\n",
       "      <td>M39+</td>\n",
       "    </tr>\n",
       "    <tr>\n",
       "      <th>74549</th>\n",
       "      <td>311714078154528114</td>\n",
       "      <td>M</td>\n",
       "      <td>40</td>\n",
       "      <td>M39+</td>\n",
       "      <td>M39+</td>\n",
       "    </tr>\n",
       "    <tr>\n",
       "      <th>74567</th>\n",
       "      <td>-3155083805111870580</td>\n",
       "      <td>F</td>\n",
       "      <td>29</td>\n",
       "      <td>F29-32</td>\n",
       "      <td>F29-32</td>\n",
       "    </tr>\n",
       "    <tr>\n",
       "      <th>74568</th>\n",
       "      <td>5248842452114192734</td>\n",
       "      <td>M</td>\n",
       "      <td>28</td>\n",
       "      <td>M27-28</td>\n",
       "      <td>M27-28</td>\n",
       "    </tr>\n",
       "    <tr>\n",
       "      <th>74573</th>\n",
       "      <td>6710249205142198370</td>\n",
       "      <td>F</td>\n",
       "      <td>20</td>\n",
       "      <td>F23-</td>\n",
       "      <td>F23-</td>\n",
       "    </tr>\n",
       "    <tr>\n",
       "      <th>74580</th>\n",
       "      <td>9142061250736882284</td>\n",
       "      <td>F</td>\n",
       "      <td>28</td>\n",
       "      <td>F27-28</td>\n",
       "      <td>F27-28</td>\n",
       "    </tr>\n",
       "    <tr>\n",
       "      <th>74593</th>\n",
       "      <td>-4143752107382450232</td>\n",
       "      <td>M</td>\n",
       "      <td>22</td>\n",
       "      <td>M22-</td>\n",
       "      <td>M22-</td>\n",
       "    </tr>\n",
       "    <tr>\n",
       "      <th>74615</th>\n",
       "      <td>7826033719277536366</td>\n",
       "      <td>M</td>\n",
       "      <td>28</td>\n",
       "      <td>M27-28</td>\n",
       "      <td>M27-28</td>\n",
       "    </tr>\n",
       "    <tr>\n",
       "      <th>74616</th>\n",
       "      <td>8939634378631061484</td>\n",
       "      <td>M</td>\n",
       "      <td>31</td>\n",
       "      <td>M29-31</td>\n",
       "      <td>M29-31</td>\n",
       "    </tr>\n",
       "    <tr>\n",
       "      <th>74617</th>\n",
       "      <td>1676125742207316285</td>\n",
       "      <td>F</td>\n",
       "      <td>28</td>\n",
       "      <td>F27-28</td>\n",
       "      <td>F27-28</td>\n",
       "    </tr>\n",
       "    <tr>\n",
       "      <th>74621</th>\n",
       "      <td>-1324027033843938692</td>\n",
       "      <td>M</td>\n",
       "      <td>22</td>\n",
       "      <td>M22-</td>\n",
       "      <td>M22-</td>\n",
       "    </tr>\n",
       "  </tbody>\n",
       "</table>\n",
       "<p>7464 rows × 5 columns</p>\n",
       "</div>"
      ],
      "text/plain": [
       "                 device_id gender  age   group legroup\n",
       "10     9032155484127182494      M   31  M29-31  M29-31\n",
       "13     6352067998666467520      M   32  M32-38  M32-38\n",
       "21     8026504930081700361      M   25  M23-26  M23-26\n",
       "30    -7303294878482532208      M   33  M32-38  M32-38\n",
       "43    -1539979963116391306      M   31  M29-31  M29-31\n",
       "75    -6785797459639810711      M   28  M27-28  M27-28\n",
       "93    -7882183570062087941      M   24  M23-26  M23-26\n",
       "95    -3859751359584472885      M   30  M29-31  M29-31\n",
       "100    5973319239886062800      F   28  F27-28  F27-28\n",
       "102    7326636766251173655      M   27  M27-28  M27-28\n",
       "104    8907764229603533579      F   23    F23-    F23-\n",
       "106    3819716873588642183      F   23    F23-    F23-\n",
       "107    4650021665055865662      M   20    M22-    M22-\n",
       "108   -5441393164079058849      F   34  F33-42  F33-42\n",
       "111    6927671656924395665      M   26  M23-26  M23-26\n",
       "113    2959524852145775517      M   30  M29-31  M29-31\n",
       "120    1704840088089510706      M   24  M23-26  M23-26\n",
       "131     248228453883119456      F   28  F27-28  F27-28\n",
       "132    8561987004157629214      M   30  M29-31  M29-31\n",
       "160   -1516688507910543815      F   43    F43+    F43+\n",
       "161    4142956234059879708      F   33  F33-42  F33-42\n",
       "163   -7516440352534368031      M   31  M29-31  M29-31\n",
       "171    8862410784192965428      F   36  F33-42  F33-42\n",
       "195   -1319995297521489561      M   31  M29-31  M29-31\n",
       "211    2040535522516268215      F   23    F23-    F23-\n",
       "215   -7963397998932390299      M   49    M39+    M39+\n",
       "227    3147394884766951836      M   53    M39+    M39+\n",
       "228      80935662153622052      M   53    M39+    M39+\n",
       "259    1540134249071138179      F   67    F43+    F43+\n",
       "326   -8146966056838942606      M   25  M23-26  M23-26\n",
       "...                    ...    ...  ...     ...     ...\n",
       "74417 -6429926020325511685      F   30  F29-32  F29-32\n",
       "74429 -4243338761310405404      M   41    M39+    M39+\n",
       "74430 -4712564794976380974      M   24  M23-26  M23-26\n",
       "74438  2837286030342646467      M   22    M22-    M22-\n",
       "74453  3614029964321590147      M   35  M32-38  M32-38\n",
       "74456 -9142376725008534333      M   56    M39+    M39+\n",
       "74462   594385458116492627      F   21    F23-    F23-\n",
       "74472  8681495222372524580      F   21    F23-    F23-\n",
       "74484  6661289426295888735      F   34  F33-42  F33-42\n",
       "74488  7914007326459522324      M   33  M32-38  M32-38\n",
       "74497 -2173789697861594127      F   24  F24-26  F24-26\n",
       "74498  7155131163510855348      F   24  F24-26  F24-26\n",
       "74499  8758939604929224155      F   26  F24-26  F24-26\n",
       "74501 -8005359540152835630      M   26  M23-26  M23-26\n",
       "74504 -5021472546351105489      F   24  F24-26  F24-26\n",
       "74532  5713096817783497681      M   24  M23-26  M23-26\n",
       "74535 -1278655020024411716      M   27  M27-28  M27-28\n",
       "74537 -8990743435728765151      M   24  M23-26  M23-26\n",
       "74538 -4757520189109306532      F   22    F23-    F23-\n",
       "74547 -7469494018140266043      M   39    M39+    M39+\n",
       "74549   311714078154528114      M   40    M39+    M39+\n",
       "74567 -3155083805111870580      F   29  F29-32  F29-32\n",
       "74568  5248842452114192734      M   28  M27-28  M27-28\n",
       "74573  6710249205142198370      F   20    F23-    F23-\n",
       "74580  9142061250736882284      F   28  F27-28  F27-28\n",
       "74593 -4143752107382450232      M   22    M22-    M22-\n",
       "74615  7826033719277536366      M   28  M27-28  M27-28\n",
       "74616  8939634378631061484      M   31  M29-31  M29-31\n",
       "74617  1676125742207316285      F   28  F27-28  F27-28\n",
       "74621 -1324027033843938692      M   22    M22-    M22-\n",
       "\n",
       "[7464 rows x 5 columns]"
      ]
     },
     "execution_count": 434,
     "metadata": {},
     "output_type": "execute_result"
    }
   ],
   "source": [
    "test"
   ]
  },
  {
   "cell_type": "code",
   "execution_count": 435,
   "metadata": {
    "collapsed": false
   },
   "outputs": [
    {
     "data": {
      "text/plain": [
       "array([10, 10, 10, ...,  6, 10,  7], dtype=int64)"
      ]
     },
     "execution_count": 435,
     "metadata": {},
     "output_type": "execute_result"
    }
   ],
   "source": [
    "ytrain"
   ]
  },
  {
   "cell_type": "code",
   "execution_count": 436,
   "metadata": {
    "collapsed": false
   },
   "outputs": [
    {
     "data": {
      "text/plain": [
       "array([ 9, 10,  7, ...,  9,  2,  6], dtype=int64)"
      ]
     },
     "execution_count": 436,
     "metadata": {},
     "output_type": "execute_result"
    }
   ],
   "source": [
    "ytest"
   ]
  },
  {
   "cell_type": "code",
   "execution_count": 441,
   "metadata": {
    "collapsed": false
   },
   "outputs": [],
   "source": [
    "c = phone.groupby('device_model')['phone_brand'].apply(pd.Series.nunique)"
   ]
  },
  {
   "cell_type": "code",
   "execution_count": 450,
   "metadata": {
    "collapsed": false
   },
   "outputs": [
    {
     "data": {
      "text/html": [
       "<div>\n",
       "<table border=\"1\" class=\"dataframe\">\n",
       "  <thead>\n",
       "    <tr style=\"text-align: right;\">\n",
       "      <th></th>\n",
       "      <th>device_id</th>\n",
       "      <th>phone_brand</th>\n",
       "      <th>device_model</th>\n",
       "    </tr>\n",
       "  </thead>\n",
       "  <tbody>\n",
       "    <tr>\n",
       "      <th>0</th>\n",
       "      <td>-8890648629457979026</td>\n",
       "      <td>Xiaomi</td>\n",
       "      <td>红米</td>\n",
       "    </tr>\n",
       "    <tr>\n",
       "      <th>1</th>\n",
       "      <td>1277779817574759137</td>\n",
       "      <td>Xiaomi</td>\n",
       "      <td>MI 2</td>\n",
       "    </tr>\n",
       "    <tr>\n",
       "      <th>2</th>\n",
       "      <td>5137427614288105724</td>\n",
       "      <td>samsung</td>\n",
       "      <td>Galaxy S4</td>\n",
       "    </tr>\n",
       "    <tr>\n",
       "      <th>3</th>\n",
       "      <td>3669464369358936369</td>\n",
       "      <td>SUGAR</td>\n",
       "      <td>时尚手机</td>\n",
       "    </tr>\n",
       "    <tr>\n",
       "      <th>4</th>\n",
       "      <td>-5019277647504317457</td>\n",
       "      <td>samsung</td>\n",
       "      <td>Galaxy Note 2</td>\n",
       "    </tr>\n",
       "  </tbody>\n",
       "</table>\n",
       "</div>"
      ],
      "text/plain": [
       "             device_id phone_brand   device_model\n",
       "0 -8890648629457979026      Xiaomi             红米\n",
       "1  1277779817574759137      Xiaomi           MI 2\n",
       "2  5137427614288105724     samsung      Galaxy S4\n",
       "3  3669464369358936369       SUGAR           时尚手机\n",
       "4 -5019277647504317457     samsung  Galaxy Note 2"
      ]
     },
     "execution_count": 450,
     "metadata": {},
     "output_type": "execute_result"
    }
   ],
   "source": [
    "phone.head()"
   ]
  },
  {
   "cell_type": "code",
   "execution_count": 454,
   "metadata": {
    "collapsed": false
   },
   "outputs": [],
   "source": [
    "#how to know if i have the same device models with different brands"
   ]
  },
  {
   "cell_type": "code",
   "execution_count": 458,
   "metadata": {
    "collapsed": false
   },
   "outputs": [],
   "source": [
    "unique_models = np.unique(phone['device_model'])"
   ]
  },
  {
   "cell_type": "code",
   "execution_count": null,
   "metadata": {
    "collapsed": true
   },
   "outputs": [],
   "source": [
    "dic ={}\n",
    "for element in unique_models:\n",
    "    "
   ]
  },
  {
   "cell_type": "code",
   "execution_count": 468,
   "metadata": {
    "collapsed": false
   },
   "outputs": [
    {
     "data": {
      "text/plain": [
       "1    1525\n",
       "2      38\n",
       "0      28\n",
       "3       7\n",
       "4       1\n",
       "Name: phone_brand, dtype: int64"
      ]
     },
     "execution_count": 468,
     "metadata": {},
     "output_type": "execute_result"
    }
   ],
   "source": [
    "c = phone.groupby('device_model')['phone_brand'].apply(pd.Series.nunique)\n",
    "c.value_counts()"
   ]
  },
  {
   "cell_type": "code",
   "execution_count": 469,
   "metadata": {
    "collapsed": false
   },
   "outputs": [
    {
     "data": {
      "text/plain": [
       "1    1525\n",
       "2      38\n",
       "0      28\n",
       "3       7\n",
       "4       1\n",
       "Name: phone_brand, dtype: int64"
      ]
     },
     "execution_count": 469,
     "metadata": {},
     "output_type": "execute_result"
    }
   ],
   "source": [
    "c = phone.groupby('device_model')['phone_brand'].apply(pd.Series.nunique)\n",
    "c.value_counts()"
   ]
  },
  {
   "cell_type": "code",
   "execution_count": 470,
   "metadata": {
    "collapsed": false
   },
   "outputs": [
    {
     "data": {
      "text/plain": [
       "device_id         0\n",
       "phone_brand     113\n",
       "device_model      0\n",
       "dtype: int64"
      ]
     },
     "execution_count": 470,
     "metadata": {},
     "output_type": "execute_result"
    }
   ],
   "source": [
    "phone.isnull().sum()"
   ]
  },
  {
   "cell_type": "code",
   "execution_count": 471,
   "metadata": {
    "collapsed": true
   },
   "outputs": [],
   "source": [
    "phone = pd.read_csv(fp_phone_brand_device_model)"
   ]
  },
  {
   "cell_type": "code",
   "execution_count": 474,
   "metadata": {
    "collapsed": false
   },
   "outputs": [],
   "source": [
    "phone = phone.drop_duplicates()"
   ]
  },
  {
   "cell_type": "code",
   "execution_count": 479,
   "metadata": {
    "collapsed": false
   },
   "outputs": [
    {
     "data": {
      "text/plain": [
       "186716"
      ]
     },
     "execution_count": 479,
     "metadata": {},
     "output_type": "execute_result"
    }
   ],
   "source": [
    "len(phone)"
   ]
  },
  {
   "cell_type": "code",
   "execution_count": 478,
   "metadata": {
    "collapsed": false
   },
   "outputs": [],
   "source": [
    "phone = phone.drop_duplicates(subset ='device_id',keep ='last')"
   ]
  },
  {
   "cell_type": "code",
   "execution_count": 480,
   "metadata": {
    "collapsed": false
   },
   "outputs": [
    {
     "data": {
      "text/plain": [
       "device_id       0\n",
       "phone_brand     0\n",
       "device_model    0\n",
       "dtype: int64"
      ]
     },
     "execution_count": 480,
     "metadata": {},
     "output_type": "execute_result"
    }
   ],
   "source": [
    "phone.isnull().sum()"
   ]
  },
  {
   "cell_type": "code",
   "execution_count": 482,
   "metadata": {
    "collapsed": false
   },
   "outputs": [],
   "source": [
    "c = phone.groupby('device_model')['phone_brand'].apply(pd.Series.nunique)"
   ]
  },
  {
   "cell_type": "code",
   "execution_count": 484,
   "metadata": {
    "collapsed": false
   },
   "outputs": [
    {
     "data": {
      "text/plain": [
       "1    1545\n",
       "2      43\n",
       "3       8\n",
       "4       3\n",
       "Name: phone_brand, dtype: int64"
      ]
     },
     "execution_count": 484,
     "metadata": {},
     "output_type": "execute_result"
    }
   ],
   "source": [
    "c.value_counts()"
   ]
  },
  {
   "cell_type": "code",
   "execution_count": 485,
   "metadata": {
    "collapsed": true
   },
   "outputs": [],
   "source": [
    "phone['ledevice_model'] = phone['device_model']"
   ]
  },
  {
   "cell_type": "code",
   "execution_count": 487,
   "metadata": {
    "collapsed": false
   },
   "outputs": [],
   "source": [
    "del phone['ledevice_model']"
   ]
  },
  {
   "cell_type": "code",
   "execution_count": 489,
   "metadata": {
    "collapsed": false
   },
   "outputs": [],
   "source": [
    "lebrand = LabelEncoder().fit(phone['phone_brand'])"
   ]
  },
  {
   "cell_type": "code",
   "execution_count": 490,
   "metadata": {
    "collapsed": true
   },
   "outputs": [],
   "source": [
    "phone['brand'] = lebrand.transform(phone['phone_brand'])"
   ]
  },
  {
   "cell_type": "code",
   "execution_count": 492,
   "metadata": {
    "collapsed": false
   },
   "outputs": [
    {
     "data": {
      "text/html": [
       "<div>\n",
       "<table border=\"1\" class=\"dataframe\">\n",
       "  <thead>\n",
       "    <tr style=\"text-align: right;\">\n",
       "      <th></th>\n",
       "      <th>device_id</th>\n",
       "      <th>phone_brand</th>\n",
       "      <th>device_model</th>\n",
       "      <th>brand</th>\n",
       "    </tr>\n",
       "  </thead>\n",
       "  <tbody>\n",
       "    <tr>\n",
       "      <th>0</th>\n",
       "      <td>-8890648629457979026</td>\n",
       "      <td>小米</td>\n",
       "      <td>红米</td>\n",
       "      <td>51</td>\n",
       "    </tr>\n",
       "    <tr>\n",
       "      <th>1</th>\n",
       "      <td>1277779817574759137</td>\n",
       "      <td>小米</td>\n",
       "      <td>MI 2</td>\n",
       "      <td>51</td>\n",
       "    </tr>\n",
       "    <tr>\n",
       "      <th>2</th>\n",
       "      <td>5137427614288105724</td>\n",
       "      <td>三星</td>\n",
       "      <td>Galaxy S4</td>\n",
       "      <td>15</td>\n",
       "    </tr>\n",
       "    <tr>\n",
       "      <th>3</th>\n",
       "      <td>3669464369358936369</td>\n",
       "      <td>SUGAR</td>\n",
       "      <td>时尚手机</td>\n",
       "      <td>9</td>\n",
       "    </tr>\n",
       "    <tr>\n",
       "      <th>4</th>\n",
       "      <td>-5019277647504317457</td>\n",
       "      <td>三星</td>\n",
       "      <td>Galaxy Note 2</td>\n",
       "      <td>15</td>\n",
       "    </tr>\n",
       "  </tbody>\n",
       "</table>\n",
       "</div>"
      ],
      "text/plain": [
       "             device_id phone_brand   device_model  brand\n",
       "0 -8890648629457979026          小米             红米     51\n",
       "1  1277779817574759137          小米           MI 2     51\n",
       "2  5137427614288105724          三星      Galaxy S4     15\n",
       "3  3669464369358936369       SUGAR           时尚手机      9\n",
       "4 -5019277647504317457          三星  Galaxy Note 2     15"
      ]
     },
     "execution_count": 492,
     "metadata": {},
     "output_type": "execute_result"
    }
   ],
   "source": [
    "phone.head()"
   ]
  },
  {
   "cell_type": "code",
   "execution_count": 495,
   "metadata": {
    "collapsed": true
   },
   "outputs": [],
   "source": [
    "m = phone['phone_brand'].str.cat(phone['device_model'])"
   ]
  },
  {
   "cell_type": "code",
   "execution_count": 498,
   "metadata": {
    "collapsed": false
   },
   "outputs": [],
   "source": [
    "m = phone.phone_brand.str.cat(phone.device_model)\n",
    "lemodel = LabelEncoder().fit(m)"
   ]
  },
  {
   "cell_type": "code",
   "execution_count": 500,
   "metadata": {
    "collapsed": false
   },
   "outputs": [],
   "source": [
    "phone['model'] =lemodel.transform(m)"
   ]
  },
  {
   "cell_type": "code",
   "execution_count": 501,
   "metadata": {
    "collapsed": false
   },
   "outputs": [
    {
     "data": {
      "text/html": [
       "<div>\n",
       "<table border=\"1\" class=\"dataframe\">\n",
       "  <thead>\n",
       "    <tr style=\"text-align: right;\">\n",
       "      <th></th>\n",
       "      <th>device_id</th>\n",
       "      <th>phone_brand</th>\n",
       "      <th>device_model</th>\n",
       "      <th>brand</th>\n",
       "      <th>model</th>\n",
       "    </tr>\n",
       "  </thead>\n",
       "  <tbody>\n",
       "    <tr>\n",
       "      <th>0</th>\n",
       "      <td>-8890648629457979026</td>\n",
       "      <td>小米</td>\n",
       "      <td>红米</td>\n",
       "      <td>51</td>\n",
       "      <td>858</td>\n",
       "    </tr>\n",
       "    <tr>\n",
       "      <th>1</th>\n",
       "      <td>1277779817574759137</td>\n",
       "      <td>小米</td>\n",
       "      <td>MI 2</td>\n",
       "      <td>51</td>\n",
       "      <td>843</td>\n",
       "    </tr>\n",
       "    <tr>\n",
       "      <th>2</th>\n",
       "      <td>5137427614288105724</td>\n",
       "      <td>三星</td>\n",
       "      <td>Galaxy S4</td>\n",
       "      <td>15</td>\n",
       "      <td>371</td>\n",
       "    </tr>\n",
       "    <tr>\n",
       "      <th>3</th>\n",
       "      <td>3669464369358936369</td>\n",
       "      <td>SUGAR</td>\n",
       "      <td>时尚手机</td>\n",
       "      <td>9</td>\n",
       "      <td>166</td>\n",
       "    </tr>\n",
       "    <tr>\n",
       "      <th>4</th>\n",
       "      <td>-5019277647504317457</td>\n",
       "      <td>三星</td>\n",
       "      <td>Galaxy Note 2</td>\n",
       "      <td>15</td>\n",
       "      <td>347</td>\n",
       "    </tr>\n",
       "  </tbody>\n",
       "</table>\n",
       "</div>"
      ],
      "text/plain": [
       "             device_id phone_brand   device_model  brand  model\n",
       "0 -8890648629457979026          小米             红米     51    858\n",
       "1  1277779817574759137          小米           MI 2     51    843\n",
       "2  5137427614288105724          三星      Galaxy S4     15    371\n",
       "3  3669464369358936369       SUGAR           时尚手机      9    166\n",
       "4 -5019277647504317457          三星  Galaxy Note 2     15    347"
      ]
     },
     "execution_count": 501,
     "metadata": {},
     "output_type": "execute_result"
    }
   ],
   "source": [
    "phone.head()"
   ]
  },
  {
   "cell_type": "code",
   "execution_count": 505,
   "metadata": {
    "collapsed": false
   },
   "outputs": [],
   "source": [
    "c = phone['brand'].value_counts()"
   ]
  },
  {
   "cell_type": "code",
   "execution_count": 519,
   "metadata": {
    "collapsed": false
   },
   "outputs": [],
   "source": [
    "s = c.cumsum()/c.sum()"
   ]
  },
  {
   "cell_type": "code",
   "execution_count": 521,
   "metadata": {
    "collapsed": false
   },
   "outputs": [],
   "source": [
    "g= c.cumsum()"
   ]
  },
  {
   "cell_type": "code",
   "execution_count": 545,
   "metadata": {
    "collapsed": false
   },
   "outputs": [
    {
     "data": {
      "image/png": "[encoded data removed]",
      "text/plain": [
       "<matplotlib.figure.Figure at 0x48d10898>"
      ]
     },
     "metadata": {},
     "output_type": "display_data"
    }
   ],
   "source": [
    "fig, (ax1,ax2) = plt.subplots(1,2,sharey=True,figsize=(10,4))\n",
    "ax1.plot(np.arange(s.shape[0])+1, s.values*100)\n",
    "ax1.set_xlim(0,30)\n",
    "ax1.set_xlabel('N most popular brands')\n",
    "ax1.set_title('% of devices');\n",
    "ax2.plot(np.arange(e.shape[0])+1, e.values*100)\n",
    "ax2.set_xlim(0, 1700)\n",
    "ax2.set_xlabel('Most popular models')\n",
    "ax2.set_title('% of models');"
   ]
  },
  {
   "cell_type": "code",
   "execution_count": 525,
   "metadata": {
    "collapsed": true
   },
   "outputs": [],
   "source": [
    "d = phone['model'].value_counts()"
   ]
  },
  {
   "cell_type": "code",
   "execution_count": 528,
   "metadata": {
    "collapsed": true
   },
   "outputs": [],
   "source": [
    "e = d.cumsum()/d.sum()"
   ]
  },
  {
   "cell_type": "code",
   "execution_count": 529,
   "metadata": {
    "collapsed": false
   },
   "outputs": [
    {
     "data": {
      "text/plain": [
       "array([ 0.03932711,  0.0698494 ,  0.09824011, ...,  0.99998929,\n",
       "        0.99999464,  1.        ])"
      ]
     },
     "execution_count": 529,
     "metadata": {},
     "output_type": "execute_result"
    }
   ],
   "source": [
    "e.values"
   ]
  },
  {
   "cell_type": "code",
   "execution_count": 532,
   "metadata": {
    "collapsed": false
   },
   "outputs": [
    {
     "data": {
      "text/plain": [
       "1667L"
      ]
     },
     "execution_count": 532,
     "metadata": {},
     "output_type": "execute_result"
    }
   ],
   "source": [
    "e.shape[0]"
   ]
  },
  {
   "cell_type": "code",
   "execution_count": 536,
   "metadata": {
    "collapsed": false
   },
   "outputs": [
    {
     "ename": "TypeError",
     "evalue": "only length-1 arrays can be converted to Python scalars",
     "output_type": "error",
     "traceback": [
      "\u001b[1;31m---------------------------------------------------------------------------\u001b[0m",
      "\u001b[1;31mTypeError\u001b[0m                                 Traceback (most recent call last)",
      "\u001b[1;32m<ipython-input-536-1af168f887ef>\u001b[0m in \u001b[0;36m<module>\u001b[1;34m()\u001b[0m\n\u001b[1;32m----> 1\u001b[1;33m \u001b[0mnp\u001b[0m\u001b[1;33m.\u001b[0m\u001b[0marange\u001b[0m\u001b[1;33m(\u001b[0m\u001b[0me\u001b[0m\u001b[1;33m.\u001b[0m\u001b[0mshape\u001b[0m\u001b[1;33m[\u001b[0m\u001b[1;36m0\u001b[0m\u001b[1;33m]\u001b[0m\u001b[1;33m+\u001b[0m\u001b[1;36m1\u001b[0m\u001b[1;33m,\u001b[0m\u001b[0me\u001b[0m\u001b[1;33m.\u001b[0m\u001b[0mvalues\u001b[0m\u001b[1;33m*\u001b[0m\u001b[1;36m100\u001b[0m\u001b[1;33m)\u001b[0m\u001b[1;33m\u001b[0m\u001b[0m\n\u001b[0m",
      "\u001b[1;31mTypeError\u001b[0m: only length-1 arrays can be converted to Python scalars"
     ]
    }
   ],
   "source": [
    "np.arange(e.shape[0]+1,e.values*100)"
   ]
  },
  {
   "cell_type": "code",
   "execution_count": 541,
   "metadata": {
    "collapsed": false
   },
   "outputs": [
    {
     "data": {
      "text/plain": [
       "(array([   1,    2,    3, ..., 1665, 1666, 1667], dtype=int64),\n",
       " array([   3.93271064,    6.98493969,    9.8240108 , ...,   99.99892885,\n",
       "          99.99946443,  100.        ]))"
      ]
     },
     "execution_count": 541,
     "metadata": {},
     "output_type": "execute_result"
    }
   ],
   "source": [
    "np.arange(e.shape[0])+1, e.values*100"
   ]
  },
  {
   "cell_type": "code",
   "execution_count": 544,
   "metadata": {
    "collapsed": true
   },
   "outputs": [],
   "source": [
    "import seaborn as sns"
   ]
  },
  {
   "cell_type": "code",
   "execution_count": 546,
   "metadata": {
    "collapsed": false
   },
   "outputs": [
    {
     "data": {
      "text/html": [
       "<div>\n",
       "<table border=\"1\" class=\"dataframe\">\n",
       "  <thead>\n",
       "    <tr style=\"text-align: right;\">\n",
       "      <th></th>\n",
       "      <th>device_id</th>\n",
       "      <th>phone_brand</th>\n",
       "      <th>device_model</th>\n",
       "      <th>brand</th>\n",
       "      <th>model</th>\n",
       "    </tr>\n",
       "  </thead>\n",
       "  <tbody>\n",
       "    <tr>\n",
       "      <th>0</th>\n",
       "      <td>-8890648629457979026</td>\n",
       "      <td>小米</td>\n",
       "      <td>红米</td>\n",
       "      <td>51</td>\n",
       "      <td>858</td>\n",
       "    </tr>\n",
       "    <tr>\n",
       "      <th>1</th>\n",
       "      <td>1277779817574759137</td>\n",
       "      <td>小米</td>\n",
       "      <td>MI 2</td>\n",
       "      <td>51</td>\n",
       "      <td>843</td>\n",
       "    </tr>\n",
       "    <tr>\n",
       "      <th>2</th>\n",
       "      <td>5137427614288105724</td>\n",
       "      <td>三星</td>\n",
       "      <td>Galaxy S4</td>\n",
       "      <td>15</td>\n",
       "      <td>371</td>\n",
       "    </tr>\n",
       "    <tr>\n",
       "      <th>3</th>\n",
       "      <td>3669464369358936369</td>\n",
       "      <td>SUGAR</td>\n",
       "      <td>时尚手机</td>\n",
       "      <td>9</td>\n",
       "      <td>166</td>\n",
       "    </tr>\n",
       "    <tr>\n",
       "      <th>4</th>\n",
       "      <td>-5019277647504317457</td>\n",
       "      <td>三星</td>\n",
       "      <td>Galaxy Note 2</td>\n",
       "      <td>15</td>\n",
       "      <td>347</td>\n",
       "    </tr>\n",
       "  </tbody>\n",
       "</table>\n",
       "</div>"
      ],
      "text/plain": [
       "             device_id phone_brand   device_model  brand  model\n",
       "0 -8890648629457979026          小米             红米     51    858\n",
       "1  1277779817574759137          小米           MI 2     51    843\n",
       "2  5137427614288105724          三星      Galaxy S4     15    371\n",
       "3  3669464369358936369       SUGAR           时尚手机      9    166\n",
       "4 -5019277647504317457          三星  Galaxy Note 2     15    347"
      ]
     },
     "execution_count": 546,
     "metadata": {},
     "output_type": "execute_result"
    }
   ],
   "source": [
    "phone.head()"
   ]
  },
  {
   "cell_type": "code",
   "execution_count": 552,
   "metadata": {
    "collapsed": false
   },
   "outputs": [
    {
     "data": {
      "text/plain": [
       "51     0.230875\n",
       "15     0.413987\n",
       "31     0.587866\n",
       "13     0.664678\n",
       "7      0.740938\n",
       "128    0.804221\n",
       "117    0.849113\n",
       "101    0.885275\n",
       "120    0.900073\n",
       "2      0.914399\n",
       "18     0.925604\n",
       "21     0.935865\n",
       "96     0.945602\n",
       "30     0.951718\n",
       "3      0.955788\n",
       "19     0.959366\n",
       "10     0.962488\n",
       "69     0.965402\n",
       "121    0.968262\n",
       "25     0.970897\n",
       "82     0.973516\n",
       "14     0.975856\n",
       "108    0.977972\n",
       "45     0.979986\n",
       "44     0.981999\n",
       "62     0.983221\n",
       "115    0.984104\n",
       "12     0.984918\n",
       "116    0.985732\n",
       "99     0.986536\n",
       "         ...   \n",
       "26     0.999668\n",
       "61     0.999695\n",
       "59     0.999716\n",
       "68     0.999738\n",
       "35     0.999759\n",
       "48     0.999780\n",
       "43     0.999802\n",
       "42     0.999818\n",
       "129    0.999834\n",
       "20     0.999850\n",
       "58     0.999861\n",
       "33     0.999871\n",
       "113    0.999882\n",
       "6      0.999893\n",
       "29     0.999904\n",
       "126    0.999914\n",
       "17     0.999925\n",
       "60     0.999936\n",
       "11     0.999941\n",
       "70     0.999946\n",
       "53     0.999952\n",
       "47     0.999957\n",
       "74     0.999963\n",
       "56     0.999968\n",
       "86     0.999973\n",
       "90     0.999979\n",
       "107    0.999984\n",
       "37     0.999989\n",
       "23     0.999995\n",
       "0      1.000000\n",
       "Name: brand, dtype: float64"
      ]
     },
     "execution_count": 552,
     "metadata": {},
     "output_type": "execute_result"
    }
   ],
   "source": [
    "phone['brand'].value_counts().cumsum()/phone.shape[0]"
   ]
  },
  {
   "cell_type": "code",
   "execution_count": 557,
   "metadata": {
    "collapsed": false
   },
   "outputs": [],
   "source": [
    "topbrands =list(phone['brand'].value_counts()[0:10].index)"
   ]
  },
  {
   "cell_type": "code",
   "execution_count": 620,
   "metadata": {
    "collapsed": false
   },
   "outputs": [],
   "source": [
    "topbrands2 =list(phone['phone_brand'].value_counts()[0:10].index)"
   ]
  },
  {
   "cell_type": "code",
   "execution_count": 560,
   "metadata": {
    "collapsed": false
   },
   "outputs": [],
   "source": [
    "train_merge = pd.merge(train_data,phone, how = 'left', on = 'device_id')"
   ]
  },
  {
   "cell_type": "code",
   "execution_count": 569,
   "metadata": {
    "collapsed": false
   },
   "outputs": [
    {
     "data": {
      "text/plain": [
       "<matplotlib.axes._subplots.AxesSubplot at 0x79e22898>"
      ]
     },
     "execution_count": 569,
     "metadata": {},
     "output_type": "execute_result"
    },
    {
     "data": {
      "image/png": "[encoded data removed]",
      "text/plain": [
       "<matplotlib.figure.Figure at 0x8948d550>"
      ]
     },
     "metadata": {},
     "output_type": "display_data"
    }
   ],
   "source": [
    "train_merge[train_merge['gender']=='F']['brand'].value_counts()[0:10].plot(kind = 'barh')"
   ]
  },
  {
   "cell_type": "code",
   "execution_count": 581,
   "metadata": {
    "collapsed": false
   },
   "outputs": [
    {
     "data": {
      "text/plain": [
       "<matplotlib.axes._subplots.AxesSubplot at 0x27889860>"
      ]
     },
     "execution_count": 581,
     "metadata": {},
     "output_type": "execute_result"
    },
    {
     "data": {
      "image/png": "[encoded data removed]",
      "text/plain": [
       "<matplotlib.figure.Figure at 0x25609080>"
      ]
     },
     "metadata": {},
     "output_type": "display_data"
    }
   ],
   "source": [
    "train_merge[train_merge['gender']=='M']['brand'].value_counts()[0:10].plot(kind = 'barh')"
   ]
  },
  {
   "cell_type": "code",
   "execution_count": 571,
   "metadata": {
    "collapsed": false
   },
   "outputs": [
    {
     "name": "stdout",
     "output_type": "stream",
     "text": [
      "The top 9 brands are the same for males and females but the order is not the same\n"
     ]
    }
   ],
   "source": [
    "print 'The top 9 brands are the same for males and females but the order is not the same'"
   ]
  },
  {
   "cell_type": "code",
   "execution_count": 575,
   "metadata": {
    "collapsed": false
   },
   "outputs": [],
   "source": [
    "female = train_merge[train_merge['gender']=='F']['brand'].value_counts()[0:10]"
   ]
  },
  {
   "cell_type": "code",
   "execution_count": 594,
   "metadata": {
    "collapsed": false
   },
   "outputs": [],
   "source": [
    "female_df = pd.DataFrame(female)"
   ]
  },
  {
   "cell_type": "code",
   "execution_count": 596,
   "metadata": {
    "collapsed": false
   },
   "outputs": [],
   "source": [
    "male = train_merge[train_merge['gender']=='M']['brand'].value_counts()[0:10]"
   ]
  },
  {
   "cell_type": "code",
   "execution_count": 609,
   "metadata": {
    "collapsed": true
   },
   "outputs": [],
   "source": [
    "male_df = pd.DataFrame(male).reset_index()"
   ]
  },
  {
   "cell_type": "code",
   "execution_count": 601,
   "metadata": {
    "collapsed": false
   },
   "outputs": [
    {
     "data": {
      "text/html": [
       "<div>\n",
       "<table border=\"1\" class=\"dataframe\">\n",
       "  <thead>\n",
       "    <tr style=\"text-align: right;\">\n",
       "      <th></th>\n",
       "      <th>brand</th>\n",
       "    </tr>\n",
       "  </thead>\n",
       "  <tbody>\n",
       "    <tr>\n",
       "      <th>0</th>\n",
       "      <td>5918</td>\n",
       "    </tr>\n",
       "    <tr>\n",
       "      <th>1</th>\n",
       "      <td>5431</td>\n",
       "    </tr>\n",
       "    <tr>\n",
       "      <th>2</th>\n",
       "      <td>4244</td>\n",
       "    </tr>\n",
       "    <tr>\n",
       "      <th>3</th>\n",
       "      <td>2651</td>\n",
       "    </tr>\n",
       "    <tr>\n",
       "      <th>4</th>\n",
       "      <td>2571</td>\n",
       "    </tr>\n",
       "    <tr>\n",
       "      <th>5</th>\n",
       "      <td>1302</td>\n",
       "    </tr>\n",
       "    <tr>\n",
       "      <th>6</th>\n",
       "      <td>1079</td>\n",
       "    </tr>\n",
       "    <tr>\n",
       "      <th>7</th>\n",
       "      <td>893</td>\n",
       "    </tr>\n",
       "    <tr>\n",
       "      <th>8</th>\n",
       "      <td>402</td>\n",
       "    </tr>\n",
       "    <tr>\n",
       "      <th>9</th>\n",
       "      <td>320</td>\n",
       "    </tr>\n",
       "  </tbody>\n",
       "</table>\n",
       "</div>"
      ],
      "text/plain": [
       "   brand\n",
       "0   5918\n",
       "1   5431\n",
       "2   4244\n",
       "3   2651\n",
       "4   2571\n",
       "5   1302\n",
       "6   1079\n",
       "7    893\n",
       "8    402\n",
       "9    320"
      ]
     },
     "execution_count": 601,
     "metadata": {},
     "output_type": "execute_result"
    }
   ],
   "source": [
    "pd.merge(female_df, male_df, how='left')"
   ]
  },
  {
   "cell_type": "code",
   "execution_count": 610,
   "metadata": {
    "collapsed": true
   },
   "outputs": [],
   "source": [
    "male_df.columns = ['brand', 'male']"
   ]
  },
  {
   "cell_type": "code",
   "execution_count": 605,
   "metadata": {
    "collapsed": false
   },
   "outputs": [],
   "source": [
    "female_df = female_df.reset_index()"
   ]
  },
  {
   "cell_type": "code",
   "execution_count": 606,
   "metadata": {
    "collapsed": false
   },
   "outputs": [],
   "source": [
    "female_df.columns = ['brand', 'female']"
   ]
  },
  {
   "cell_type": "code",
   "execution_count": 608,
   "metadata": {
    "collapsed": false
   },
   "outputs": [
    {
     "data": {
      "text/html": [
       "<div>\n",
       "<table border=\"1\" class=\"dataframe\">\n",
       "  <thead>\n",
       "    <tr style=\"text-align: right;\">\n",
       "      <th></th>\n",
       "      <th>brand</th>\n",
       "      <th>female</th>\n",
       "    </tr>\n",
       "  </thead>\n",
       "  <tbody>\n",
       "    <tr>\n",
       "      <th>0</th>\n",
       "      <td>51</td>\n",
       "      <td>5918</td>\n",
       "    </tr>\n",
       "    <tr>\n",
       "      <th>1</th>\n",
       "      <td>15</td>\n",
       "      <td>5431</td>\n",
       "    </tr>\n",
       "    <tr>\n",
       "      <th>2</th>\n",
       "      <td>31</td>\n",
       "      <td>4244</td>\n",
       "    </tr>\n",
       "    <tr>\n",
       "      <th>3</th>\n",
       "      <td>13</td>\n",
       "      <td>2651</td>\n",
       "    </tr>\n",
       "    <tr>\n",
       "      <th>4</th>\n",
       "      <td>7</td>\n",
       "      <td>2571</td>\n",
       "    </tr>\n",
       "    <tr>\n",
       "      <th>5</th>\n",
       "      <td>128</td>\n",
       "      <td>1302</td>\n",
       "    </tr>\n",
       "    <tr>\n",
       "      <th>6</th>\n",
       "      <td>117</td>\n",
       "      <td>1079</td>\n",
       "    </tr>\n",
       "    <tr>\n",
       "      <th>7</th>\n",
       "      <td>101</td>\n",
       "      <td>893</td>\n",
       "    </tr>\n",
       "    <tr>\n",
       "      <th>8</th>\n",
       "      <td>120</td>\n",
       "      <td>402</td>\n",
       "    </tr>\n",
       "    <tr>\n",
       "      <th>9</th>\n",
       "      <td>2</td>\n",
       "      <td>320</td>\n",
       "    </tr>\n",
       "  </tbody>\n",
       "</table>\n",
       "</div>"
      ],
      "text/plain": [
       "   brand  female\n",
       "0     51    5918\n",
       "1     15    5431\n",
       "2     31    4244\n",
       "3     13    2651\n",
       "4      7    2571\n",
       "5    128    1302\n",
       "6    117    1079\n",
       "7    101     893\n",
       "8    120     402\n",
       "9      2     320"
      ]
     },
     "execution_count": 608,
     "metadata": {},
     "output_type": "execute_result"
    }
   ],
   "source": [
    "female_df"
   ]
  },
  {
   "cell_type": "code",
   "execution_count": 612,
   "metadata": {
    "collapsed": false
   },
   "outputs": [],
   "source": [
    "genderbrand = pd.merge(female_df, male_df, how= 'left', on = 'brand')"
   ]
  },
  {
   "cell_type": "code",
   "execution_count": 626,
   "metadata": {
    "collapsed": false
   },
   "outputs": [
    {
     "data": {
      "image/png": "[encoded data removed]",
      "text/plain": [
       "<matplotlib.figure.Figure at 0x37fefb00>"
      ]
     },
     "metadata": {},
     "output_type": "display_data"
    }
   ],
   "source": [
    "\n",
    "rects1 = plt.bar(topbrands, genderbrand['female'],color = 'red')\n",
    "rects2 = plt.bar(topbrands, genderbrand['male'],color = 'blue')"
   ]
  },
  {
   "cell_type": "code",
   "execution_count": 617,
   "metadata": {
    "collapsed": false
   },
   "outputs": [
    {
     "data": {
      "text/plain": [
       "[51, 15, 31, 13, 7, 128, 117, 101, 120, 2]"
      ]
     },
     "execution_count": 617,
     "metadata": {},
     "output_type": "execute_result"
    }
   ],
   "source": [
    "topbrands"
   ]
  },
  {
   "cell_type": "code",
   "execution_count": 627,
   "metadata": {
    "collapsed": false
   },
   "outputs": [],
   "source": [
    "#setting the position and width for the bars\n",
    "pos = list(range(len(genderbrand)))\n",
    "width = 0.25"
   ]
  },
  {
   "cell_type": "code",
   "execution_count": 631,
   "metadata": {
    "collapsed": false
   },
   "outputs": [
    {
     "data": {
      "text/plain": [
       "[<matplotlib.axis.XTick at 0xa771afd0>,\n",
       " <matplotlib.axis.XTick at 0xa771a320>,\n",
       " <matplotlib.axis.XTick at 0xa76e7b70>,\n",
       " <matplotlib.axis.XTick at 0x5d86d0f0>,\n",
       " <matplotlib.axis.XTick at 0x5d88a048>,\n",
       " <matplotlib.axis.XTick at 0x5d88a5f8>,\n",
       " <matplotlib.axis.XTick at 0xa76e74a8>,\n",
       " <matplotlib.axis.XTick at 0x5d8662e8>,\n",
       " <matplotlib.axis.XTick at 0x5d866860>,\n",
       " <matplotlib.axis.XTick at 0x77e54898>]"
      ]
     },
     "execution_count": 631,
     "metadata": {},
     "output_type": "execute_result"
    },
    {
     "data": {
      "image/png": "[encoded data removed]",
      "text/plain": [
       "<matplotlib.figure.Figure at 0x89379e10>"
      ]
     },
     "metadata": {},
     "output_type": "display_data"
    }
   ],
   "source": [
    "#plotting the bars \n",
    "fig,ax = plt.subplots(figsize = (10,5))\n",
    "plt.bar(pos, genderbrand['female'], width, alpha =0.5, color = 'red')\n",
    "plt.bar([p + width for p in pos], genderbrand['male'], width, alpha = 0.5, color = 'blue')\n",
    "ax.set_xticklabels(genderbrand['brand'])\n",
    "ax.set_xticks([p + 1.5 * width for p in pos])"
   ]
  },
  {
   "cell_type": "code",
   "execution_count": 634,
   "metadata": {
    "collapsed": false
   },
   "outputs": [
    {
     "name": "stdout",
     "output_type": "stream",
     "text": [
      "In this graph, the light purple is the male which is behind the dark purple which is hte female\n"
     ]
    },
    {
     "data": {
      "image/png": "[encoded data removed]",
      "text/plain": [
       "<matplotlib.figure.Figure at 0xa7705908>"
      ]
     },
     "metadata": {},
     "output_type": "display_data"
    }
   ],
   "source": [
    "#plotting the bars \n",
    "fig,ax = plt.subplots(figsize = (10,5))\n",
    "plt.bar(pos, genderbrand['female'], width, alpha =0.5, color = 'red')\n",
    "plt.bar(pos, genderbrand['male'], width, alpha = 0.5, color = 'blue')\n",
    "ax.set_xticklabels(genderbrand['brand'])\n",
    "ax.set_xticks([p + 1.5 * width for p in pos])\n",
    "print 'In this graph, the light purple is the male which is behind the dark purple which is hte female'"
   ]
  },
  {
   "cell_type": "code",
   "execution_count": 726,
   "metadata": {
    "collapsed": false
   },
   "outputs": [
    {
     "data": {
      "text/html": [
       "<div>\n",
       "<table border=\"1\" class=\"dataframe\">\n",
       "  <thead>\n",
       "    <tr style=\"text-align: right;\">\n",
       "      <th></th>\n",
       "      <th>brand</th>\n",
       "      <th>female</th>\n",
       "      <th>male</th>\n",
       "      <th>femalepct</th>\n",
       "      <th>malepct</th>\n",
       "      <th>fpctphone</th>\n",
       "      <th>mpctphone</th>\n",
       "    </tr>\n",
       "  </thead>\n",
       "  <tbody>\n",
       "    <tr>\n",
       "      <th>0</th>\n",
       "      <td>51</td>\n",
       "      <td>5918</td>\n",
       "      <td>11382</td>\n",
       "      <td>22.130810</td>\n",
       "      <td>23.760020</td>\n",
       "      <td>0.342081</td>\n",
       "      <td>0.657919</td>\n",
       "    </tr>\n",
       "    <tr>\n",
       "      <th>1</th>\n",
       "      <td>15</td>\n",
       "      <td>5431</td>\n",
       "      <td>8238</td>\n",
       "      <td>20.309637</td>\n",
       "      <td>17.196894</td>\n",
       "      <td>0.397322</td>\n",
       "      <td>0.602678</td>\n",
       "    </tr>\n",
       "    <tr>\n",
       "      <th>2</th>\n",
       "      <td>31</td>\n",
       "      <td>4244</td>\n",
       "      <td>8716</td>\n",
       "      <td>15.870760</td>\n",
       "      <td>18.194723</td>\n",
       "      <td>0.327469</td>\n",
       "      <td>0.672531</td>\n",
       "    </tr>\n",
       "    <tr>\n",
       "      <th>3</th>\n",
       "      <td>13</td>\n",
       "      <td>2651</td>\n",
       "      <td>2986</td>\n",
       "      <td>9.913616</td>\n",
       "      <td>6.233300</td>\n",
       "      <td>0.470286</td>\n",
       "      <td>0.529714</td>\n",
       "    </tr>\n",
       "    <tr>\n",
       "      <th>4</th>\n",
       "      <td>7</td>\n",
       "      <td>2571</td>\n",
       "      <td>3212</td>\n",
       "      <td>9.614450</td>\n",
       "      <td>6.705077</td>\n",
       "      <td>0.444579</td>\n",
       "      <td>0.555421</td>\n",
       "    </tr>\n",
       "  </tbody>\n",
       "</table>\n",
       "</div>"
      ],
      "text/plain": [
       "   brand  female   male  femalepct    malepct  fpctphone  mpctphone\n",
       "0     51    5918  11382  22.130810  23.760020   0.342081   0.657919\n",
       "1     15    5431   8238  20.309637  17.196894   0.397322   0.602678\n",
       "2     31    4244   8716  15.870760  18.194723   0.327469   0.672531\n",
       "3     13    2651   2986   9.913616   6.233300   0.470286   0.529714\n",
       "4      7    2571   3212   9.614450   6.705077   0.444579   0.555421"
      ]
     },
     "execution_count": 726,
     "metadata": {},
     "output_type": "execute_result"
    }
   ],
   "source": [
    "genderbrand.head()"
   ]
  },
  {
   "cell_type": "code",
   "execution_count": 638,
   "metadata": {
    "collapsed": false
   },
   "outputs": [
    {
     "data": {
      "text/plain": [
       "M    64.175765\n",
       "F    35.824235\n",
       "Name: gender, dtype: float64"
      ]
     },
     "execution_count": 638,
     "metadata": {},
     "output_type": "execute_result"
    }
   ],
   "source": [
    "(train_merge['gender'].value_counts()/len(train_merge))*100"
   ]
  },
  {
   "cell_type": "code",
   "execution_count": 655,
   "metadata": {
    "collapsed": false
   },
   "outputs": [],
   "source": [
    "genderbrand['femalepct'] = (genderbrand['female']/26741)*100\n",
    "genderbrand['malepct'] = (genderbrand['male']/47904)*100"
   ]
  },
  {
   "cell_type": "code",
   "execution_count": 640,
   "metadata": {
    "collapsed": false
   },
   "outputs": [
    {
     "data": {
      "text/plain": [
       "M    47904\n",
       "F    26741\n",
       "Name: gender, dtype: int64"
      ]
     },
     "execution_count": 640,
     "metadata": {},
     "output_type": "execute_result"
    }
   ],
   "source": [
    "train_merge['gender'].value_counts()"
   ]
  },
  {
   "cell_type": "code",
   "execution_count": 656,
   "metadata": {
    "collapsed": false
   },
   "outputs": [
    {
     "data": {
      "text/html": [
       "<div>\n",
       "<table border=\"1\" class=\"dataframe\">\n",
       "  <thead>\n",
       "    <tr style=\"text-align: right;\">\n",
       "      <th></th>\n",
       "      <th>brand</th>\n",
       "      <th>female</th>\n",
       "      <th>male</th>\n",
       "      <th>femalepct</th>\n",
       "      <th>malepct</th>\n",
       "    </tr>\n",
       "  </thead>\n",
       "  <tbody>\n",
       "    <tr>\n",
       "      <th>0</th>\n",
       "      <td>51</td>\n",
       "      <td>5918</td>\n",
       "      <td>11382</td>\n",
       "      <td>22.130810</td>\n",
       "      <td>23.760020</td>\n",
       "    </tr>\n",
       "    <tr>\n",
       "      <th>1</th>\n",
       "      <td>15</td>\n",
       "      <td>5431</td>\n",
       "      <td>8238</td>\n",
       "      <td>20.309637</td>\n",
       "      <td>17.196894</td>\n",
       "    </tr>\n",
       "    <tr>\n",
       "      <th>2</th>\n",
       "      <td>31</td>\n",
       "      <td>4244</td>\n",
       "      <td>8716</td>\n",
       "      <td>15.870760</td>\n",
       "      <td>18.194723</td>\n",
       "    </tr>\n",
       "    <tr>\n",
       "      <th>3</th>\n",
       "      <td>13</td>\n",
       "      <td>2651</td>\n",
       "      <td>2986</td>\n",
       "      <td>9.913616</td>\n",
       "      <td>6.233300</td>\n",
       "    </tr>\n",
       "    <tr>\n",
       "      <th>4</th>\n",
       "      <td>7</td>\n",
       "      <td>2571</td>\n",
       "      <td>3212</td>\n",
       "      <td>9.614450</td>\n",
       "      <td>6.705077</td>\n",
       "    </tr>\n",
       "    <tr>\n",
       "      <th>5</th>\n",
       "      <td>128</td>\n",
       "      <td>1302</td>\n",
       "      <td>3396</td>\n",
       "      <td>4.868928</td>\n",
       "      <td>7.089178</td>\n",
       "    </tr>\n",
       "    <tr>\n",
       "      <th>6</th>\n",
       "      <td>117</td>\n",
       "      <td>1079</td>\n",
       "      <td>2260</td>\n",
       "      <td>4.035002</td>\n",
       "      <td>4.717769</td>\n",
       "    </tr>\n",
       "    <tr>\n",
       "      <th>7</th>\n",
       "      <td>101</td>\n",
       "      <td>893</td>\n",
       "      <td>1798</td>\n",
       "      <td>3.339441</td>\n",
       "      <td>3.753340</td>\n",
       "    </tr>\n",
       "    <tr>\n",
       "      <th>8</th>\n",
       "      <td>120</td>\n",
       "      <td>402</td>\n",
       "      <td>721</td>\n",
       "      <td>1.503310</td>\n",
       "      <td>1.505094</td>\n",
       "    </tr>\n",
       "    <tr>\n",
       "      <th>9</th>\n",
       "      <td>2</td>\n",
       "      <td>320</td>\n",
       "      <td>693</td>\n",
       "      <td>1.196664</td>\n",
       "      <td>1.446643</td>\n",
       "    </tr>\n",
       "  </tbody>\n",
       "</table>\n",
       "</div>"
      ],
      "text/plain": [
       "   brand  female   male  femalepct    malepct\n",
       "0     51    5918  11382  22.130810  23.760020\n",
       "1     15    5431   8238  20.309637  17.196894\n",
       "2     31    4244   8716  15.870760  18.194723\n",
       "3     13    2651   2986   9.913616   6.233300\n",
       "4      7    2571   3212   9.614450   6.705077\n",
       "5    128    1302   3396   4.868928   7.089178\n",
       "6    117    1079   2260   4.035002   4.717769\n",
       "7    101     893   1798   3.339441   3.753340\n",
       "8    120     402    721   1.503310   1.505094\n",
       "9      2     320    693   1.196664   1.446643"
      ]
     },
     "execution_count": 656,
     "metadata": {},
     "output_type": "execute_result"
    }
   ],
   "source": [
    "genderbrand"
   ]
  },
  {
   "cell_type": "code",
   "execution_count": 645,
   "metadata": {
    "collapsed": true
   },
   "outputs": [],
   "source": [
    "def femalepct(lin):\n",
    "    lin = (lin/26741)*100\n",
    "    return lin"
   ]
  },
  {
   "cell_type": "code",
   "execution_count": 650,
   "metadata": {
    "collapsed": false
   },
   "outputs": [
    {
     "data": {
      "text/plain": [
       "dtype('int64')"
      ]
     },
     "execution_count": 650,
     "metadata": {},
     "output_type": "execute_result"
    }
   ],
   "source": [
    "genderbrand['female'].dtype"
   ]
  },
  {
   "cell_type": "code",
   "execution_count": 657,
   "metadata": {
    "collapsed": false
   },
   "outputs": [
    {
     "data": {
      "text/plain": [
       "92.78261845106765"
      ]
     },
     "execution_count": 657,
     "metadata": {},
     "output_type": "execute_result"
    }
   ],
   "source": [
    "genderbrand['femalepct'].sum()"
   ]
  },
  {
   "cell_type": "code",
   "execution_count": 658,
   "metadata": {
    "collapsed": false
   },
   "outputs": [
    {
     "data": {
      "text/plain": [
       "90.60203740814964"
      ]
     },
     "execution_count": 658,
     "metadata": {},
     "output_type": "execute_result"
    }
   ],
   "source": [
    "genderbrand['malepct'].sum()"
   ]
  },
  {
   "cell_type": "code",
   "execution_count": 674,
   "metadata": {
    "collapsed": false
   },
   "outputs": [
    {
     "data": {
      "text/plain": [
       "<matplotlib.legend.Legend at 0x89386518>"
      ]
     },
     "execution_count": 674,
     "metadata": {},
     "output_type": "execute_result"
    },
    {
     "data": {
      "image/png": "[encoded data removed]",
      "text/plain": [
       "<matplotlib.figure.Figure at 0x268eb240>"
      ]
     },
     "metadata": {},
     "output_type": "display_data"
    }
   ],
   "source": [
    "fig,ax = plt.subplots(figsize = (10,5))\n",
    "plt.bar(pos, genderbrand['femalepct'], width, alpha =0.7, color = 'red', label = 'female')\n",
    "plt.bar([p + width for p in pos], genderbrand['malepct'], width, alpha = 0.7, color = 'blue', label ='male')\n",
    "ax.set_xticklabels(genderbrand['brand'])\n",
    "ax.set_xticks([p + 1.5 * width for p in pos])\n",
    "ax.set_ylabel('pct')\n",
    "ax.set_title('male female brand pct')\n",
    "plt.legend(['female', 'male'], loc='upper right')"
   ]
  },
  {
   "cell_type": "code",
   "execution_count": 667,
   "metadata": {
    "collapsed": false
   },
   "outputs": [
    {
     "name": "stdout",
     "output_type": "stream",
     "text": [
      "in this graph you can see that there are some brands that have a higher overall pct in the female segment than from the male segment like 15, 13, 7\n"
     ]
    }
   ],
   "source": [
    "print 'in this graph you can see that there are some brands that have a higher overall pct in the female segment than from the male segment like 15, 13, 7'"
   ]
  },
  {
   "cell_type": "code",
   "execution_count": 672,
   "metadata": {
    "collapsed": false
   },
   "outputs": [],
   "source": [
    "genderbrand['fpctphone'] = genderbrand['female']/(genderbrand['female']+genderbrand['male'])\n",
    "genderbrand['mpctphone'] = genderbrand['male']/(genderbrand['female']+genderbrand['male'])"
   ]
  },
  {
   "cell_type": "code",
   "execution_count": 673,
   "metadata": {
    "collapsed": false
   },
   "outputs": [
    {
     "data": {
      "text/html": [
       "<div>\n",
       "<table border=\"1\" class=\"dataframe\">\n",
       "  <thead>\n",
       "    <tr style=\"text-align: right;\">\n",
       "      <th></th>\n",
       "      <th>brand</th>\n",
       "      <th>female</th>\n",
       "      <th>male</th>\n",
       "      <th>femalepct</th>\n",
       "      <th>malepct</th>\n",
       "      <th>fpctphone</th>\n",
       "      <th>mpctphone</th>\n",
       "    </tr>\n",
       "  </thead>\n",
       "  <tbody>\n",
       "    <tr>\n",
       "      <th>0</th>\n",
       "      <td>51</td>\n",
       "      <td>5918</td>\n",
       "      <td>11382</td>\n",
       "      <td>22.130810</td>\n",
       "      <td>23.760020</td>\n",
       "      <td>0.342081</td>\n",
       "      <td>0.657919</td>\n",
       "    </tr>\n",
       "    <tr>\n",
       "      <th>1</th>\n",
       "      <td>15</td>\n",
       "      <td>5431</td>\n",
       "      <td>8238</td>\n",
       "      <td>20.309637</td>\n",
       "      <td>17.196894</td>\n",
       "      <td>0.397322</td>\n",
       "      <td>0.602678</td>\n",
       "    </tr>\n",
       "    <tr>\n",
       "      <th>2</th>\n",
       "      <td>31</td>\n",
       "      <td>4244</td>\n",
       "      <td>8716</td>\n",
       "      <td>15.870760</td>\n",
       "      <td>18.194723</td>\n",
       "      <td>0.327469</td>\n",
       "      <td>0.672531</td>\n",
       "    </tr>\n",
       "    <tr>\n",
       "      <th>3</th>\n",
       "      <td>13</td>\n",
       "      <td>2651</td>\n",
       "      <td>2986</td>\n",
       "      <td>9.913616</td>\n",
       "      <td>6.233300</td>\n",
       "      <td>0.470286</td>\n",
       "      <td>0.529714</td>\n",
       "    </tr>\n",
       "    <tr>\n",
       "      <th>4</th>\n",
       "      <td>7</td>\n",
       "      <td>2571</td>\n",
       "      <td>3212</td>\n",
       "      <td>9.614450</td>\n",
       "      <td>6.705077</td>\n",
       "      <td>0.444579</td>\n",
       "      <td>0.555421</td>\n",
       "    </tr>\n",
       "    <tr>\n",
       "      <th>5</th>\n",
       "      <td>128</td>\n",
       "      <td>1302</td>\n",
       "      <td>3396</td>\n",
       "      <td>4.868928</td>\n",
       "      <td>7.089178</td>\n",
       "      <td>0.277139</td>\n",
       "      <td>0.722861</td>\n",
       "    </tr>\n",
       "    <tr>\n",
       "      <th>6</th>\n",
       "      <td>117</td>\n",
       "      <td>1079</td>\n",
       "      <td>2260</td>\n",
       "      <td>4.035002</td>\n",
       "      <td>4.717769</td>\n",
       "      <td>0.323151</td>\n",
       "      <td>0.676849</td>\n",
       "    </tr>\n",
       "    <tr>\n",
       "      <th>7</th>\n",
       "      <td>101</td>\n",
       "      <td>893</td>\n",
       "      <td>1798</td>\n",
       "      <td>3.339441</td>\n",
       "      <td>3.753340</td>\n",
       "      <td>0.331847</td>\n",
       "      <td>0.668153</td>\n",
       "    </tr>\n",
       "    <tr>\n",
       "      <th>8</th>\n",
       "      <td>120</td>\n",
       "      <td>402</td>\n",
       "      <td>721</td>\n",
       "      <td>1.503310</td>\n",
       "      <td>1.505094</td>\n",
       "      <td>0.357970</td>\n",
       "      <td>0.642030</td>\n",
       "    </tr>\n",
       "    <tr>\n",
       "      <th>9</th>\n",
       "      <td>2</td>\n",
       "      <td>320</td>\n",
       "      <td>693</td>\n",
       "      <td>1.196664</td>\n",
       "      <td>1.446643</td>\n",
       "      <td>0.315893</td>\n",
       "      <td>0.684107</td>\n",
       "    </tr>\n",
       "  </tbody>\n",
       "</table>\n",
       "</div>"
      ],
      "text/plain": [
       "   brand  female   male  femalepct    malepct  fpctphone  mpctphone\n",
       "0     51    5918  11382  22.130810  23.760020   0.342081   0.657919\n",
       "1     15    5431   8238  20.309637  17.196894   0.397322   0.602678\n",
       "2     31    4244   8716  15.870760  18.194723   0.327469   0.672531\n",
       "3     13    2651   2986   9.913616   6.233300   0.470286   0.529714\n",
       "4      7    2571   3212   9.614450   6.705077   0.444579   0.555421\n",
       "5    128    1302   3396   4.868928   7.089178   0.277139   0.722861\n",
       "6    117    1079   2260   4.035002   4.717769   0.323151   0.676849\n",
       "7    101     893   1798   3.339441   3.753340   0.331847   0.668153\n",
       "8    120     402    721   1.503310   1.505094   0.357970   0.642030\n",
       "9      2     320    693   1.196664   1.446643   0.315893   0.684107"
      ]
     },
     "execution_count": 673,
     "metadata": {},
     "output_type": "execute_result"
    }
   ],
   "source": [
    "genderbrand"
   ]
  },
  {
   "cell_type": "code",
   "execution_count": 675,
   "metadata": {
    "collapsed": false
   },
   "outputs": [
    {
     "data": {
      "text/plain": [
       "<matplotlib.legend.Legend at 0x8974f320>"
      ]
     },
     "execution_count": 675,
     "metadata": {},
     "output_type": "execute_result"
    },
    {
     "data": {
      "image/png": "[encoded data removed]",
      "text/plain": [
       "<matplotlib.figure.Figure at 0x5d88a668>"
      ]
     },
     "metadata": {},
     "output_type": "display_data"
    }
   ],
   "source": [
    "fig,ax = plt.subplots(figsize = (10,5))\n",
    "plt.bar(pos, genderbrand['fpctphone'], width, alpha =0.7, color = 'red', label = 'female')\n",
    "plt.bar([p + width for p in pos], genderbrand['mpctphone'], width, alpha = 0.7, color = 'blue', label ='male')\n",
    "ax.set_xticklabels(genderbrand['brand'])\n",
    "ax.set_xticks([p + 1.5 * width for p in pos])\n",
    "ax.set_ylabel('pct')\n",
    "ax.set_title('male female brand pct')\n",
    "plt.legend(['female', 'male'], loc='upper right')"
   ]
  },
  {
   "cell_type": "code",
   "execution_count": 676,
   "metadata": {
    "collapsed": false
   },
   "outputs": [
    {
     "name": "stdout",
     "output_type": "stream",
     "text": [
      "this graph shows that in the eyes of the brand, what is their male female ratio. So if a pct is above 36% which is is the female distribution then it can be expected that there is more of a female preference for that brand\n"
     ]
    }
   ],
   "source": [
    "print 'this graph shows that in the eyes of the brand, what is their male female ratio. So if a pct is above 36% which is is the female distribution then it can be expected that there is more of a female preference for that brand'"
   ]
  },
  {
   "cell_type": "code",
   "execution_count": null,
   "metadata": {
    "collapsed": true
   },
   "outputs": [],
   "source": [
    "#get the phone brands that have a higher 36% in the eyes of the brand market share"
   ]
  },
  {
   "cell_type": "code",
   "execution_count": 699,
   "metadata": {
    "collapsed": false
   },
   "outputs": [],
   "source": [
    "genderbrandall = pd.DataFrame(train_merge[train_merge['gender']=='F']['brand'].value_counts()).reset_index()"
   ]
  },
  {
   "cell_type": "code",
   "execution_count": 700,
   "metadata": {
    "collapsed": true
   },
   "outputs": [],
   "source": [
    "genderbrandall.columns = ['brand','female']"
   ]
  },
  {
   "cell_type": "code",
   "execution_count": 701,
   "metadata": {
    "collapsed": true
   },
   "outputs": [],
   "source": [
    "male = pd.DataFrame(train_merge[train_merge['gender']=='M']['brand'].value_counts()).reset_index()"
   ]
  },
  {
   "cell_type": "code",
   "execution_count": 703,
   "metadata": {
    "collapsed": true
   },
   "outputs": [],
   "source": [
    "male.columns = ['brand','male']"
   ]
  },
  {
   "cell_type": "code",
   "execution_count": 705,
   "metadata": {
    "collapsed": false
   },
   "outputs": [],
   "source": [
    "genderbrandall = pd.merge(male, genderbrandall, how = 'left', on = 'brand')"
   ]
  },
  {
   "cell_type": "code",
   "execution_count": 706,
   "metadata": {
    "collapsed": true
   },
   "outputs": [],
   "source": [
    "genderbrandall['pctmale'] = genderbrandall['male']/(genderbrandall['male']+genderbrandall['female'])"
   ]
  },
  {
   "cell_type": "code",
   "execution_count": 707,
   "metadata": {
    "collapsed": true
   },
   "outputs": [],
   "source": [
    "genderbrandall['pctfemale'] = genderbrandall['female']/(genderbrandall['male']+genderbrandall['female'])"
   ]
  },
  {
   "cell_type": "code",
   "execution_count": 712,
   "metadata": {
    "collapsed": false
   },
   "outputs": [
    {
     "data": {
      "text/plain": [
       "38"
      ]
     },
     "execution_count": 712,
     "metadata": {},
     "output_type": "execute_result"
    }
   ],
   "source": [
    "len(genderbrandall[genderbrandall['pctfemale']>0.36])"
   ]
  },
  {
   "cell_type": "code",
   "execution_count": 711,
   "metadata": {
    "collapsed": false
   },
   "outputs": [
    {
     "data": {
      "text/plain": [
       "114"
      ]
     },
     "execution_count": 711,
     "metadata": {},
     "output_type": "execute_result"
    }
   ],
   "source": [
    "len(genderbrandall)"
   ]
  },
  {
   "cell_type": "code",
   "execution_count": 714,
   "metadata": {
    "collapsed": false
   },
   "outputs": [
    {
     "data": {
      "text/html": [
       "<div>\n",
       "<table border=\"1\" class=\"dataframe\">\n",
       "  <thead>\n",
       "    <tr style=\"text-align: right;\">\n",
       "      <th></th>\n",
       "      <th>brand</th>\n",
       "      <th>male</th>\n",
       "      <th>female</th>\n",
       "      <th>pctmale</th>\n",
       "      <th>pctfemale</th>\n",
       "    </tr>\n",
       "  </thead>\n",
       "  <tbody>\n",
       "    <tr>\n",
       "      <th>110</th>\n",
       "      <td>9</td>\n",
       "      <td>1</td>\n",
       "      <td>5.0</td>\n",
       "      <td>0.166667</td>\n",
       "      <td>0.833333</td>\n",
       "    </tr>\n",
       "    <tr>\n",
       "      <th>106</th>\n",
       "      <td>124</td>\n",
       "      <td>1</td>\n",
       "      <td>3.0</td>\n",
       "      <td>0.250000</td>\n",
       "      <td>0.750000</td>\n",
       "    </tr>\n",
       "    <tr>\n",
       "      <th>74</th>\n",
       "      <td>5</td>\n",
       "      <td>4</td>\n",
       "      <td>11.0</td>\n",
       "      <td>0.266667</td>\n",
       "      <td>0.733333</td>\n",
       "    </tr>\n",
       "    <tr>\n",
       "      <th>41</th>\n",
       "      <td>99</td>\n",
       "      <td>18</td>\n",
       "      <td>39.0</td>\n",
       "      <td>0.315789</td>\n",
       "      <td>0.684211</td>\n",
       "    </tr>\n",
       "    <tr>\n",
       "      <th>25</th>\n",
       "      <td>69</td>\n",
       "      <td>70</td>\n",
       "      <td>143.0</td>\n",
       "      <td>0.328638</td>\n",
       "      <td>0.671362</td>\n",
       "    </tr>\n",
       "    <tr>\n",
       "      <th>113</th>\n",
       "      <td>127</td>\n",
       "      <td>1</td>\n",
       "      <td>2.0</td>\n",
       "      <td>0.333333</td>\n",
       "      <td>0.666667</td>\n",
       "    </tr>\n",
       "    <tr>\n",
       "      <th>111</th>\n",
       "      <td>104</td>\n",
       "      <td>1</td>\n",
       "      <td>2.0</td>\n",
       "      <td>0.333333</td>\n",
       "      <td>0.666667</td>\n",
       "    </tr>\n",
       "    <tr>\n",
       "      <th>109</th>\n",
       "      <td>105</td>\n",
       "      <td>1</td>\n",
       "      <td>2.0</td>\n",
       "      <td>0.333333</td>\n",
       "      <td>0.666667</td>\n",
       "    </tr>\n",
       "    <tr>\n",
       "      <th>103</th>\n",
       "      <td>76</td>\n",
       "      <td>1</td>\n",
       "      <td>2.0</td>\n",
       "      <td>0.333333</td>\n",
       "      <td>0.666667</td>\n",
       "    </tr>\n",
       "    <tr>\n",
       "      <th>94</th>\n",
       "      <td>67</td>\n",
       "      <td>1</td>\n",
       "      <td>2.0</td>\n",
       "      <td>0.333333</td>\n",
       "      <td>0.666667</td>\n",
       "    </tr>\n",
       "    <tr>\n",
       "      <th>70</th>\n",
       "      <td>77</td>\n",
       "      <td>5</td>\n",
       "      <td>7.0</td>\n",
       "      <td>0.416667</td>\n",
       "      <td>0.583333</td>\n",
       "    </tr>\n",
       "    <tr>\n",
       "      <th>68</th>\n",
       "      <td>92</td>\n",
       "      <td>5</td>\n",
       "      <td>6.0</td>\n",
       "      <td>0.454545</td>\n",
       "      <td>0.545455</td>\n",
       "    </tr>\n",
       "    <tr>\n",
       "      <th>58</th>\n",
       "      <td>4</td>\n",
       "      <td>9</td>\n",
       "      <td>10.0</td>\n",
       "      <td>0.473684</td>\n",
       "      <td>0.526316</td>\n",
       "    </tr>\n",
       "    <tr>\n",
       "      <th>97</th>\n",
       "      <td>68</td>\n",
       "      <td>1</td>\n",
       "      <td>1.0</td>\n",
       "      <td>0.500000</td>\n",
       "      <td>0.500000</td>\n",
       "    </tr>\n",
       "    <tr>\n",
       "      <th>91</th>\n",
       "      <td>35</td>\n",
       "      <td>1</td>\n",
       "      <td>1.0</td>\n",
       "      <td>0.500000</td>\n",
       "      <td>0.500000</td>\n",
       "    </tr>\n",
       "    <tr>\n",
       "      <th>89</th>\n",
       "      <td>46</td>\n",
       "      <td>2</td>\n",
       "      <td>2.0</td>\n",
       "      <td>0.500000</td>\n",
       "      <td>0.500000</td>\n",
       "    </tr>\n",
       "    <tr>\n",
       "      <th>107</th>\n",
       "      <td>54</td>\n",
       "      <td>1</td>\n",
       "      <td>1.0</td>\n",
       "      <td>0.500000</td>\n",
       "      <td>0.500000</td>\n",
       "    </tr>\n",
       "    <tr>\n",
       "      <th>99</th>\n",
       "      <td>85</td>\n",
       "      <td>1</td>\n",
       "      <td>1.0</td>\n",
       "      <td>0.500000</td>\n",
       "      <td>0.500000</td>\n",
       "    </tr>\n",
       "    <tr>\n",
       "      <th>67</th>\n",
       "      <td>123</td>\n",
       "      <td>6</td>\n",
       "      <td>6.0</td>\n",
       "      <td>0.500000</td>\n",
       "      <td>0.500000</td>\n",
       "    </tr>\n",
       "    <tr>\n",
       "      <th>5</th>\n",
       "      <td>13</td>\n",
       "      <td>2986</td>\n",
       "      <td>2651.0</td>\n",
       "      <td>0.529714</td>\n",
       "      <td>0.470286</td>\n",
       "    </tr>\n",
       "    <tr>\n",
       "      <th>44</th>\n",
       "      <td>75</td>\n",
       "      <td>16</td>\n",
       "      <td>14.0</td>\n",
       "      <td>0.533333</td>\n",
       "      <td>0.466667</td>\n",
       "    </tr>\n",
       "    <tr>\n",
       "      <th>61</th>\n",
       "      <td>36</td>\n",
       "      <td>7</td>\n",
       "      <td>6.0</td>\n",
       "      <td>0.538462</td>\n",
       "      <td>0.461538</td>\n",
       "    </tr>\n",
       "    <tr>\n",
       "      <th>60</th>\n",
       "      <td>50</td>\n",
       "      <td>7</td>\n",
       "      <td>6.0</td>\n",
       "      <td>0.538462</td>\n",
       "      <td>0.461538</td>\n",
       "    </tr>\n",
       "    <tr>\n",
       "      <th>39</th>\n",
       "      <td>130</td>\n",
       "      <td>19</td>\n",
       "      <td>16.0</td>\n",
       "      <td>0.542857</td>\n",
       "      <td>0.457143</td>\n",
       "    </tr>\n",
       "    <tr>\n",
       "      <th>4</th>\n",
       "      <td>7</td>\n",
       "      <td>3212</td>\n",
       "      <td>2571.0</td>\n",
       "      <td>0.555421</td>\n",
       "      <td>0.444579</td>\n",
       "    </tr>\n",
       "    <tr>\n",
       "      <th>46</th>\n",
       "      <td>55</td>\n",
       "      <td>15</td>\n",
       "      <td>12.0</td>\n",
       "      <td>0.555556</td>\n",
       "      <td>0.444444</td>\n",
       "    </tr>\n",
       "    <tr>\n",
       "      <th>38</th>\n",
       "      <td>93</td>\n",
       "      <td>19</td>\n",
       "      <td>15.0</td>\n",
       "      <td>0.558824</td>\n",
       "      <td>0.441176</td>\n",
       "    </tr>\n",
       "    <tr>\n",
       "      <th>29</th>\n",
       "      <td>116</td>\n",
       "      <td>36</td>\n",
       "      <td>28.0</td>\n",
       "      <td>0.562500</td>\n",
       "      <td>0.437500</td>\n",
       "    </tr>\n",
       "    <tr>\n",
       "      <th>34</th>\n",
       "      <td>81</td>\n",
       "      <td>24</td>\n",
       "      <td>17.0</td>\n",
       "      <td>0.585366</td>\n",
       "      <td>0.414634</td>\n",
       "    </tr>\n",
       "    <tr>\n",
       "      <th>79</th>\n",
       "      <td>28</td>\n",
       "      <td>3</td>\n",
       "      <td>2.0</td>\n",
       "      <td>0.600000</td>\n",
       "      <td>0.400000</td>\n",
       "    </tr>\n",
       "    <tr>\n",
       "      <th>63</th>\n",
       "      <td>1</td>\n",
       "      <td>6</td>\n",
       "      <td>4.0</td>\n",
       "      <td>0.600000</td>\n",
       "      <td>0.400000</td>\n",
       "    </tr>\n",
       "    <tr>\n",
       "      <th>78</th>\n",
       "      <td>38</td>\n",
       "      <td>3</td>\n",
       "      <td>2.0</td>\n",
       "      <td>0.600000</td>\n",
       "      <td>0.400000</td>\n",
       "    </tr>\n",
       "    <tr>\n",
       "      <th>77</th>\n",
       "      <td>64</td>\n",
       "      <td>3</td>\n",
       "      <td>2.0</td>\n",
       "      <td>0.600000</td>\n",
       "      <td>0.400000</td>\n",
       "    </tr>\n",
       "    <tr>\n",
       "      <th>2</th>\n",
       "      <td>15</td>\n",
       "      <td>8238</td>\n",
       "      <td>5431.0</td>\n",
       "      <td>0.602678</td>\n",
       "      <td>0.397322</td>\n",
       "    </tr>\n",
       "    <tr>\n",
       "      <th>48</th>\n",
       "      <td>112</td>\n",
       "      <td>14</td>\n",
       "      <td>9.0</td>\n",
       "      <td>0.608696</td>\n",
       "      <td>0.391304</td>\n",
       "    </tr>\n",
       "    <tr>\n",
       "      <th>32</th>\n",
       "      <td>49</td>\n",
       "      <td>25</td>\n",
       "      <td>15.0</td>\n",
       "      <td>0.625000</td>\n",
       "      <td>0.375000</td>\n",
       "    </tr>\n",
       "    <tr>\n",
       "      <th>28</th>\n",
       "      <td>115</td>\n",
       "      <td>42</td>\n",
       "      <td>25.0</td>\n",
       "      <td>0.626866</td>\n",
       "      <td>0.373134</td>\n",
       "    </tr>\n",
       "    <tr>\n",
       "      <th>20</th>\n",
       "      <td>25</td>\n",
       "      <td>122</td>\n",
       "      <td>70.0</td>\n",
       "      <td>0.635417</td>\n",
       "      <td>0.364583</td>\n",
       "    </tr>\n",
       "  </tbody>\n",
       "</table>\n",
       "</div>"
      ],
      "text/plain": [
       "     brand  male  female   pctmale  pctfemale\n",
       "110      9     1     5.0  0.166667   0.833333\n",
       "106    124     1     3.0  0.250000   0.750000\n",
       "74       5     4    11.0  0.266667   0.733333\n",
       "41      99    18    39.0  0.315789   0.684211\n",
       "25      69    70   143.0  0.328638   0.671362\n",
       "113    127     1     2.0  0.333333   0.666667\n",
       "111    104     1     2.0  0.333333   0.666667\n",
       "109    105     1     2.0  0.333333   0.666667\n",
       "103     76     1     2.0  0.333333   0.666667\n",
       "94      67     1     2.0  0.333333   0.666667\n",
       "70      77     5     7.0  0.416667   0.583333\n",
       "68      92     5     6.0  0.454545   0.545455\n",
       "58       4     9    10.0  0.473684   0.526316\n",
       "97      68     1     1.0  0.500000   0.500000\n",
       "91      35     1     1.0  0.500000   0.500000\n",
       "89      46     2     2.0  0.500000   0.500000\n",
       "107     54     1     1.0  0.500000   0.500000\n",
       "99      85     1     1.0  0.500000   0.500000\n",
       "67     123     6     6.0  0.500000   0.500000\n",
       "5       13  2986  2651.0  0.529714   0.470286\n",
       "44      75    16    14.0  0.533333   0.466667\n",
       "61      36     7     6.0  0.538462   0.461538\n",
       "60      50     7     6.0  0.538462   0.461538\n",
       "39     130    19    16.0  0.542857   0.457143\n",
       "4        7  3212  2571.0  0.555421   0.444579\n",
       "46      55    15    12.0  0.555556   0.444444\n",
       "38      93    19    15.0  0.558824   0.441176\n",
       "29     116    36    28.0  0.562500   0.437500\n",
       "34      81    24    17.0  0.585366   0.414634\n",
       "79      28     3     2.0  0.600000   0.400000\n",
       "63       1     6     4.0  0.600000   0.400000\n",
       "78      38     3     2.0  0.600000   0.400000\n",
       "77      64     3     2.0  0.600000   0.400000\n",
       "2       15  8238  5431.0  0.602678   0.397322\n",
       "48     112    14     9.0  0.608696   0.391304\n",
       "32      49    25    15.0  0.625000   0.375000\n",
       "28     115    42    25.0  0.626866   0.373134\n",
       "20      25   122    70.0  0.635417   0.364583"
      ]
     },
     "execution_count": 714,
     "metadata": {},
     "output_type": "execute_result"
    }
   ],
   "source": [
    "genderbrandall[genderbrandall['pctfemale']>0.36].sort_values(by = 'pctfemale', ascending = False)"
   ]
  },
  {
   "cell_type": "code",
   "execution_count": 715,
   "metadata": {
    "collapsed": true
   },
   "outputs": [],
   "source": [
    "genderbrandall2 = pd.merge(genderbrandall, male, how = 'left', on = 'brand')"
   ]
  },
  {
   "cell_type": "code",
   "execution_count": 717,
   "metadata": {
    "collapsed": false
   },
   "outputs": [
    {
     "ename": "KeyError",
     "evalue": "'male'",
     "output_type": "error",
     "traceback": [
      "\u001b[1;31m---------------------------------------------------------------------------\u001b[0m",
      "\u001b[1;31mKeyError\u001b[0m                                  Traceback (most recent call last)",
      "\u001b[1;32m<ipython-input-717-515d2bdf24eb>\u001b[0m in \u001b[0;36m<module>\u001b[1;34m()\u001b[0m\n\u001b[1;32m----> 1\u001b[1;33m \u001b[0mgenderbrandall2\u001b[0m\u001b[1;33m[\u001b[0m\u001b[1;34m'pctfemale'\u001b[0m\u001b[1;33m]\u001b[0m \u001b[1;33m=\u001b[0m \u001b[0mgenderbrandall2\u001b[0m\u001b[1;33m[\u001b[0m\u001b[1;34m'female'\u001b[0m\u001b[1;33m]\u001b[0m\u001b[1;33m/\u001b[0m\u001b[1;33m(\u001b[0m\u001b[0mgenderbrandall2\u001b[0m\u001b[1;33m[\u001b[0m\u001b[1;34m'male'\u001b[0m\u001b[1;33m]\u001b[0m\u001b[1;33m+\u001b[0m\u001b[0mgenderbrandall2\u001b[0m\u001b[1;33m[\u001b[0m\u001b[1;34m'female'\u001b[0m\u001b[1;33m]\u001b[0m\u001b[1;33m)\u001b[0m\u001b[1;33m\u001b[0m\u001b[0m\n\u001b[0m\u001b[0;32m      2\u001b[0m \u001b[0mgenderbrandall2\u001b[0m\u001b[1;33m[\u001b[0m\u001b[1;34m'pctmale'\u001b[0m\u001b[1;33m]\u001b[0m \u001b[1;33m=\u001b[0m \u001b[0mgenderbrandall2\u001b[0m\u001b[1;33m[\u001b[0m\u001b[1;34m'male'\u001b[0m\u001b[1;33m]\u001b[0m\u001b[1;33m/\u001b[0m\u001b[1;33m(\u001b[0m\u001b[0mgenderbrandall2\u001b[0m\u001b[1;33m[\u001b[0m\u001b[1;34m'male'\u001b[0m\u001b[1;33m]\u001b[0m\u001b[1;33m+\u001b[0m\u001b[0mgenderbrandall2\u001b[0m\u001b[1;33m[\u001b[0m\u001b[1;34m'female'\u001b[0m\u001b[1;33m]\u001b[0m\u001b[1;33m)\u001b[0m\u001b[1;33m\u001b[0m\u001b[0m\n",
      "\u001b[1;32mC:\\Users\\Jenny\\Anaconda2\\lib\\site-packages\\pandas\\core\\frame.pyc\u001b[0m in \u001b[0;36m__getitem__\u001b[1;34m(self, key)\u001b[0m\n\u001b[0;32m   1990\u001b[0m             \u001b[1;32mreturn\u001b[0m \u001b[0mself\u001b[0m\u001b[1;33m.\u001b[0m\u001b[0m_getitem_multilevel\u001b[0m\u001b[1;33m(\u001b[0m\u001b[0mkey\u001b[0m\u001b[1;33m)\u001b[0m\u001b[1;33m\u001b[0m\u001b[0m\n\u001b[0;32m   1991\u001b[0m         \u001b[1;32melse\u001b[0m\u001b[1;33m:\u001b[0m\u001b[1;33m\u001b[0m\u001b[0m\n\u001b[1;32m-> 1992\u001b[1;33m             \u001b[1;32mreturn\u001b[0m \u001b[0mself\u001b[0m\u001b[1;33m.\u001b[0m\u001b[0m_getitem_column\u001b[0m\u001b[1;33m(\u001b[0m\u001b[0mkey\u001b[0m\u001b[1;33m)\u001b[0m\u001b[1;33m\u001b[0m\u001b[0m\n\u001b[0m\u001b[0;32m   1993\u001b[0m \u001b[1;33m\u001b[0m\u001b[0m\n\u001b[0;32m   1994\u001b[0m     \u001b[1;32mdef\u001b[0m \u001b[0m_getitem_column\u001b[0m\u001b[1;33m(\u001b[0m\u001b[0mself\u001b[0m\u001b[1;33m,\u001b[0m \u001b[0mkey\u001b[0m\u001b[1;33m)\u001b[0m\u001b[1;33m:\u001b[0m\u001b[1;33m\u001b[0m\u001b[0m\n",
      "\u001b[1;32mC:\\Users\\Jenny\\Anaconda2\\lib\\site-packages\\pandas\\core\\frame.pyc\u001b[0m in \u001b[0;36m_getitem_column\u001b[1;34m(self, key)\u001b[0m\n\u001b[0;32m   1997\u001b[0m         \u001b[1;31m# get column\u001b[0m\u001b[1;33m\u001b[0m\u001b[1;33m\u001b[0m\u001b[0m\n\u001b[0;32m   1998\u001b[0m         \u001b[1;32mif\u001b[0m \u001b[0mself\u001b[0m\u001b[1;33m.\u001b[0m\u001b[0mcolumns\u001b[0m\u001b[1;33m.\u001b[0m\u001b[0mis_unique\u001b[0m\u001b[1;33m:\u001b[0m\u001b[1;33m\u001b[0m\u001b[0m\n\u001b[1;32m-> 1999\u001b[1;33m             \u001b[1;32mreturn\u001b[0m \u001b[0mself\u001b[0m\u001b[1;33m.\u001b[0m\u001b[0m_get_item_cache\u001b[0m\u001b[1;33m(\u001b[0m\u001b[0mkey\u001b[0m\u001b[1;33m)\u001b[0m\u001b[1;33m\u001b[0m\u001b[0m\n\u001b[0m\u001b[0;32m   2000\u001b[0m \u001b[1;33m\u001b[0m\u001b[0m\n\u001b[0;32m   2001\u001b[0m         \u001b[1;31m# duplicate columns & possible reduce dimensionality\u001b[0m\u001b[1;33m\u001b[0m\u001b[1;33m\u001b[0m\u001b[0m\n",
      "\u001b[1;32mC:\\Users\\Jenny\\Anaconda2\\lib\\site-packages\\pandas\\core\\generic.pyc\u001b[0m in \u001b[0;36m_get_item_cache\u001b[1;34m(self, item)\u001b[0m\n\u001b[0;32m   1343\u001b[0m         \u001b[0mres\u001b[0m \u001b[1;33m=\u001b[0m \u001b[0mcache\u001b[0m\u001b[1;33m.\u001b[0m\u001b[0mget\u001b[0m\u001b[1;33m(\u001b[0m\u001b[0mitem\u001b[0m\u001b[1;33m)\u001b[0m\u001b[1;33m\u001b[0m\u001b[0m\n\u001b[0;32m   1344\u001b[0m         \u001b[1;32mif\u001b[0m \u001b[0mres\u001b[0m \u001b[1;32mis\u001b[0m \u001b[0mNone\u001b[0m\u001b[1;33m:\u001b[0m\u001b[1;33m\u001b[0m\u001b[0m\n\u001b[1;32m-> 1345\u001b[1;33m             \u001b[0mvalues\u001b[0m \u001b[1;33m=\u001b[0m \u001b[0mself\u001b[0m\u001b[1;33m.\u001b[0m\u001b[0m_data\u001b[0m\u001b[1;33m.\u001b[0m\u001b[0mget\u001b[0m\u001b[1;33m(\u001b[0m\u001b[0mitem\u001b[0m\u001b[1;33m)\u001b[0m\u001b[1;33m\u001b[0m\u001b[0m\n\u001b[0m\u001b[0;32m   1346\u001b[0m             \u001b[0mres\u001b[0m \u001b[1;33m=\u001b[0m \u001b[0mself\u001b[0m\u001b[1;33m.\u001b[0m\u001b[0m_box_item_values\u001b[0m\u001b[1;33m(\u001b[0m\u001b[0mitem\u001b[0m\u001b[1;33m,\u001b[0m \u001b[0mvalues\u001b[0m\u001b[1;33m)\u001b[0m\u001b[1;33m\u001b[0m\u001b[0m\n\u001b[0;32m   1347\u001b[0m             \u001b[0mcache\u001b[0m\u001b[1;33m[\u001b[0m\u001b[0mitem\u001b[0m\u001b[1;33m]\u001b[0m \u001b[1;33m=\u001b[0m \u001b[0mres\u001b[0m\u001b[1;33m\u001b[0m\u001b[0m\n",
      "\u001b[1;32mC:\\Users\\Jenny\\Anaconda2\\lib\\site-packages\\pandas\\core\\internals.pyc\u001b[0m in \u001b[0;36mget\u001b[1;34m(self, item, fastpath)\u001b[0m\n\u001b[0;32m   3223\u001b[0m \u001b[1;33m\u001b[0m\u001b[0m\n\u001b[0;32m   3224\u001b[0m             \u001b[1;32mif\u001b[0m \u001b[1;32mnot\u001b[0m \u001b[0misnull\u001b[0m\u001b[1;33m(\u001b[0m\u001b[0mitem\u001b[0m\u001b[1;33m)\u001b[0m\u001b[1;33m:\u001b[0m\u001b[1;33m\u001b[0m\u001b[0m\n\u001b[1;32m-> 3225\u001b[1;33m                 \u001b[0mloc\u001b[0m \u001b[1;33m=\u001b[0m \u001b[0mself\u001b[0m\u001b[1;33m.\u001b[0m\u001b[0mitems\u001b[0m\u001b[1;33m.\u001b[0m\u001b[0mget_loc\u001b[0m\u001b[1;33m(\u001b[0m\u001b[0mitem\u001b[0m\u001b[1;33m)\u001b[0m\u001b[1;33m\u001b[0m\u001b[0m\n\u001b[0m\u001b[0;32m   3226\u001b[0m             \u001b[1;32melse\u001b[0m\u001b[1;33m:\u001b[0m\u001b[1;33m\u001b[0m\u001b[0m\n\u001b[0;32m   3227\u001b[0m                 \u001b[0mindexer\u001b[0m \u001b[1;33m=\u001b[0m \u001b[0mnp\u001b[0m\u001b[1;33m.\u001b[0m\u001b[0marange\u001b[0m\u001b[1;33m(\u001b[0m\u001b[0mlen\u001b[0m\u001b[1;33m(\u001b[0m\u001b[0mself\u001b[0m\u001b[1;33m.\u001b[0m\u001b[0mitems\u001b[0m\u001b[1;33m)\u001b[0m\u001b[1;33m)\u001b[0m\u001b[1;33m[\u001b[0m\u001b[0misnull\u001b[0m\u001b[1;33m(\u001b[0m\u001b[0mself\u001b[0m\u001b[1;33m.\u001b[0m\u001b[0mitems\u001b[0m\u001b[1;33m)\u001b[0m\u001b[1;33m]\u001b[0m\u001b[1;33m\u001b[0m\u001b[0m\n",
      "\u001b[1;32mC:\\Users\\Jenny\\Anaconda2\\lib\\site-packages\\pandas\\indexes\\base.pyc\u001b[0m in \u001b[0;36mget_loc\u001b[1;34m(self, key, method, tolerance)\u001b[0m\n\u001b[0;32m   1876\u001b[0m                 \u001b[1;32mreturn\u001b[0m \u001b[0mself\u001b[0m\u001b[1;33m.\u001b[0m\u001b[0m_engine\u001b[0m\u001b[1;33m.\u001b[0m\u001b[0mget_loc\u001b[0m\u001b[1;33m(\u001b[0m\u001b[0mkey\u001b[0m\u001b[1;33m)\u001b[0m\u001b[1;33m\u001b[0m\u001b[0m\n\u001b[0;32m   1877\u001b[0m             \u001b[1;32mexcept\u001b[0m \u001b[0mKeyError\u001b[0m\u001b[1;33m:\u001b[0m\u001b[1;33m\u001b[0m\u001b[0m\n\u001b[1;32m-> 1878\u001b[1;33m                 \u001b[1;32mreturn\u001b[0m \u001b[0mself\u001b[0m\u001b[1;33m.\u001b[0m\u001b[0m_engine\u001b[0m\u001b[1;33m.\u001b[0m\u001b[0mget_loc\u001b[0m\u001b[1;33m(\u001b[0m\u001b[0mself\u001b[0m\u001b[1;33m.\u001b[0m\u001b[0m_maybe_cast_indexer\u001b[0m\u001b[1;33m(\u001b[0m\u001b[0mkey\u001b[0m\u001b[1;33m)\u001b[0m\u001b[1;33m)\u001b[0m\u001b[1;33m\u001b[0m\u001b[0m\n\u001b[0m\u001b[0;32m   1879\u001b[0m \u001b[1;33m\u001b[0m\u001b[0m\n\u001b[0;32m   1880\u001b[0m         \u001b[0mindexer\u001b[0m \u001b[1;33m=\u001b[0m \u001b[0mself\u001b[0m\u001b[1;33m.\u001b[0m\u001b[0mget_indexer\u001b[0m\u001b[1;33m(\u001b[0m\u001b[1;33m[\u001b[0m\u001b[0mkey\u001b[0m\u001b[1;33m]\u001b[0m\u001b[1;33m,\u001b[0m \u001b[0mmethod\u001b[0m\u001b[1;33m=\u001b[0m\u001b[0mmethod\u001b[0m\u001b[1;33m,\u001b[0m \u001b[0mtolerance\u001b[0m\u001b[1;33m=\u001b[0m\u001b[0mtolerance\u001b[0m\u001b[1;33m)\u001b[0m\u001b[1;33m\u001b[0m\u001b[0m\n",
      "\u001b[1;32mpandas\\index.pyx\u001b[0m in \u001b[0;36mpandas.index.IndexEngine.get_loc (pandas\\index.c:4027)\u001b[1;34m()\u001b[0m\n",
      "\u001b[1;32mpandas\\index.pyx\u001b[0m in \u001b[0;36mpandas.index.IndexEngine.get_loc (pandas\\index.c:3891)\u001b[1;34m()\u001b[0m\n",
      "\u001b[1;32mpandas\\hashtable.pyx\u001b[0m in \u001b[0;36mpandas.hashtable.PyObjectHashTable.get_item (pandas\\hashtable.c:12408)\u001b[1;34m()\u001b[0m\n",
      "\u001b[1;32mpandas\\hashtable.pyx\u001b[0m in \u001b[0;36mpandas.hashtable.PyObjectHashTable.get_item (pandas\\hashtable.c:12359)\u001b[1;34m()\u001b[0m\n",
      "\u001b[1;31mKeyError\u001b[0m: 'male'"
     ]
    }
   ],
   "source": [
    "genderbrandall2['pctfemale'] = genderbrandall2['female']/(genderbrandall2['male']+genderbrandall2['female'])\n",
    "genderbrandall2['pctmale'] = genderbrandall2['male']/(genderbrandall2['male']+genderbrandall2['female'])"
   ]
  },
  {
   "cell_type": "code",
   "execution_count": 718,
   "metadata": {
    "collapsed": false
   },
   "outputs": [
    {
     "data": {
      "text/html": [
       "<div>\n",
       "<table border=\"1\" class=\"dataframe\">\n",
       "  <thead>\n",
       "    <tr style=\"text-align: right;\">\n",
       "      <th></th>\n",
       "      <th>brand</th>\n",
       "      <th>male_x</th>\n",
       "      <th>female</th>\n",
       "      <th>pctmale</th>\n",
       "      <th>pctfemale</th>\n",
       "      <th>male_y</th>\n",
       "    </tr>\n",
       "  </thead>\n",
       "  <tbody>\n",
       "    <tr>\n",
       "      <th>0</th>\n",
       "      <td>51</td>\n",
       "      <td>11382</td>\n",
       "      <td>5918.0</td>\n",
       "      <td>0.657919</td>\n",
       "      <td>0.342081</td>\n",
       "      <td>11382</td>\n",
       "    </tr>\n",
       "    <tr>\n",
       "      <th>1</th>\n",
       "      <td>31</td>\n",
       "      <td>8716</td>\n",
       "      <td>4244.0</td>\n",
       "      <td>0.672531</td>\n",
       "      <td>0.327469</td>\n",
       "      <td>8716</td>\n",
       "    </tr>\n",
       "    <tr>\n",
       "      <th>2</th>\n",
       "      <td>15</td>\n",
       "      <td>8238</td>\n",
       "      <td>5431.0</td>\n",
       "      <td>0.602678</td>\n",
       "      <td>0.397322</td>\n",
       "      <td>8238</td>\n",
       "    </tr>\n",
       "    <tr>\n",
       "      <th>3</th>\n",
       "      <td>128</td>\n",
       "      <td>3396</td>\n",
       "      <td>1302.0</td>\n",
       "      <td>0.722861</td>\n",
       "      <td>0.277139</td>\n",
       "      <td>3396</td>\n",
       "    </tr>\n",
       "    <tr>\n",
       "      <th>4</th>\n",
       "      <td>7</td>\n",
       "      <td>3212</td>\n",
       "      <td>2571.0</td>\n",
       "      <td>0.555421</td>\n",
       "      <td>0.444579</td>\n",
       "      <td>3212</td>\n",
       "    </tr>\n",
       "    <tr>\n",
       "      <th>5</th>\n",
       "      <td>13</td>\n",
       "      <td>2986</td>\n",
       "      <td>2651.0</td>\n",
       "      <td>0.529714</td>\n",
       "      <td>0.470286</td>\n",
       "      <td>2986</td>\n",
       "    </tr>\n",
       "    <tr>\n",
       "      <th>6</th>\n",
       "      <td>117</td>\n",
       "      <td>2260</td>\n",
       "      <td>1079.0</td>\n",
       "      <td>0.676849</td>\n",
       "      <td>0.323151</td>\n",
       "      <td>2260</td>\n",
       "    </tr>\n",
       "    <tr>\n",
       "      <th>7</th>\n",
       "      <td>101</td>\n",
       "      <td>1798</td>\n",
       "      <td>893.0</td>\n",
       "      <td>0.668153</td>\n",
       "      <td>0.331847</td>\n",
       "      <td>1798</td>\n",
       "    </tr>\n",
       "    <tr>\n",
       "      <th>8</th>\n",
       "      <td>120</td>\n",
       "      <td>721</td>\n",
       "      <td>402.0</td>\n",
       "      <td>0.642030</td>\n",
       "      <td>0.357970</td>\n",
       "      <td>721</td>\n",
       "    </tr>\n",
       "    <tr>\n",
       "      <th>9</th>\n",
       "      <td>2</td>\n",
       "      <td>693</td>\n",
       "      <td>320.0</td>\n",
       "      <td>0.684107</td>\n",
       "      <td>0.315893</td>\n",
       "      <td>693</td>\n",
       "    </tr>\n",
       "    <tr>\n",
       "      <th>10</th>\n",
       "      <td>18</td>\n",
       "      <td>632</td>\n",
       "      <td>229.0</td>\n",
       "      <td>0.734030</td>\n",
       "      <td>0.265970</td>\n",
       "      <td>632</td>\n",
       "    </tr>\n",
       "    <tr>\n",
       "      <th>11</th>\n",
       "      <td>21</td>\n",
       "      <td>557</td>\n",
       "      <td>200.0</td>\n",
       "      <td>0.735799</td>\n",
       "      <td>0.264201</td>\n",
       "      <td>557</td>\n",
       "    </tr>\n",
       "    <tr>\n",
       "      <th>12</th>\n",
       "      <td>96</td>\n",
       "      <td>486</td>\n",
       "      <td>229.0</td>\n",
       "      <td>0.679720</td>\n",
       "      <td>0.320280</td>\n",
       "      <td>486</td>\n",
       "    </tr>\n",
       "    <tr>\n",
       "      <th>13</th>\n",
       "      <td>30</td>\n",
       "      <td>369</td>\n",
       "      <td>114.0</td>\n",
       "      <td>0.763975</td>\n",
       "      <td>0.236025</td>\n",
       "      <td>369</td>\n",
       "    </tr>\n",
       "    <tr>\n",
       "      <th>14</th>\n",
       "      <td>3</td>\n",
       "      <td>232</td>\n",
       "      <td>100.0</td>\n",
       "      <td>0.698795</td>\n",
       "      <td>0.301205</td>\n",
       "      <td>232</td>\n",
       "    </tr>\n",
       "    <tr>\n",
       "      <th>15</th>\n",
       "      <td>19</td>\n",
       "      <td>198</td>\n",
       "      <td>77.0</td>\n",
       "      <td>0.720000</td>\n",
       "      <td>0.280000</td>\n",
       "      <td>198</td>\n",
       "    </tr>\n",
       "    <tr>\n",
       "      <th>16</th>\n",
       "      <td>10</td>\n",
       "      <td>158</td>\n",
       "      <td>62.0</td>\n",
       "      <td>0.718182</td>\n",
       "      <td>0.281818</td>\n",
       "      <td>158</td>\n",
       "    </tr>\n",
       "    <tr>\n",
       "      <th>17</th>\n",
       "      <td>14</td>\n",
       "      <td>146</td>\n",
       "      <td>28.0</td>\n",
       "      <td>0.839080</td>\n",
       "      <td>0.160920</td>\n",
       "      <td>146</td>\n",
       "    </tr>\n",
       "    <tr>\n",
       "      <th>18</th>\n",
       "      <td>82</td>\n",
       "      <td>141</td>\n",
       "      <td>63.0</td>\n",
       "      <td>0.691176</td>\n",
       "      <td>0.308824</td>\n",
       "      <td>141</td>\n",
       "    </tr>\n",
       "    <tr>\n",
       "      <th>19</th>\n",
       "      <td>121</td>\n",
       "      <td>140</td>\n",
       "      <td>51.0</td>\n",
       "      <td>0.732984</td>\n",
       "      <td>0.267016</td>\n",
       "      <td>140</td>\n",
       "    </tr>\n",
       "    <tr>\n",
       "      <th>20</th>\n",
       "      <td>25</td>\n",
       "      <td>122</td>\n",
       "      <td>70.0</td>\n",
       "      <td>0.635417</td>\n",
       "      <td>0.364583</td>\n",
       "      <td>122</td>\n",
       "    </tr>\n",
       "    <tr>\n",
       "      <th>21</th>\n",
       "      <td>45</td>\n",
       "      <td>118</td>\n",
       "      <td>22.0</td>\n",
       "      <td>0.842857</td>\n",
       "      <td>0.157143</td>\n",
       "      <td>118</td>\n",
       "    </tr>\n",
       "    <tr>\n",
       "      <th>22</th>\n",
       "      <td>108</td>\n",
       "      <td>117</td>\n",
       "      <td>53.0</td>\n",
       "      <td>0.688235</td>\n",
       "      <td>0.311765</td>\n",
       "      <td>117</td>\n",
       "    </tr>\n",
       "    <tr>\n",
       "      <th>23</th>\n",
       "      <td>44</td>\n",
       "      <td>108</td>\n",
       "      <td>51.0</td>\n",
       "      <td>0.679245</td>\n",
       "      <td>0.320755</td>\n",
       "      <td>108</td>\n",
       "    </tr>\n",
       "    <tr>\n",
       "      <th>24</th>\n",
       "      <td>62</td>\n",
       "      <td>85</td>\n",
       "      <td>18.0</td>\n",
       "      <td>0.825243</td>\n",
       "      <td>0.174757</td>\n",
       "      <td>85</td>\n",
       "    </tr>\n",
       "    <tr>\n",
       "      <th>25</th>\n",
       "      <td>69</td>\n",
       "      <td>70</td>\n",
       "      <td>143.0</td>\n",
       "      <td>0.328638</td>\n",
       "      <td>0.671362</td>\n",
       "      <td>70</td>\n",
       "    </tr>\n",
       "    <tr>\n",
       "      <th>26</th>\n",
       "      <td>12</td>\n",
       "      <td>48</td>\n",
       "      <td>8.0</td>\n",
       "      <td>0.857143</td>\n",
       "      <td>0.142857</td>\n",
       "      <td>48</td>\n",
       "    </tr>\n",
       "    <tr>\n",
       "      <th>27</th>\n",
       "      <td>32</td>\n",
       "      <td>45</td>\n",
       "      <td>14.0</td>\n",
       "      <td>0.762712</td>\n",
       "      <td>0.237288</td>\n",
       "      <td>45</td>\n",
       "    </tr>\n",
       "    <tr>\n",
       "      <th>28</th>\n",
       "      <td>115</td>\n",
       "      <td>42</td>\n",
       "      <td>25.0</td>\n",
       "      <td>0.626866</td>\n",
       "      <td>0.373134</td>\n",
       "      <td>42</td>\n",
       "    </tr>\n",
       "    <tr>\n",
       "      <th>29</th>\n",
       "      <td>116</td>\n",
       "      <td>36</td>\n",
       "      <td>28.0</td>\n",
       "      <td>0.562500</td>\n",
       "      <td>0.437500</td>\n",
       "      <td>36</td>\n",
       "    </tr>\n",
       "    <tr>\n",
       "      <th>...</th>\n",
       "      <td>...</td>\n",
       "      <td>...</td>\n",
       "      <td>...</td>\n",
       "      <td>...</td>\n",
       "      <td>...</td>\n",
       "      <td>...</td>\n",
       "    </tr>\n",
       "    <tr>\n",
       "      <th>84</th>\n",
       "      <td>20</td>\n",
       "      <td>2</td>\n",
       "      <td>NaN</td>\n",
       "      <td>NaN</td>\n",
       "      <td>NaN</td>\n",
       "      <td>2</td>\n",
       "    </tr>\n",
       "    <tr>\n",
       "      <th>85</th>\n",
       "      <td>58</td>\n",
       "      <td>2</td>\n",
       "      <td>NaN</td>\n",
       "      <td>NaN</td>\n",
       "      <td>NaN</td>\n",
       "      <td>2</td>\n",
       "    </tr>\n",
       "    <tr>\n",
       "      <th>86</th>\n",
       "      <td>59</td>\n",
       "      <td>2</td>\n",
       "      <td>NaN</td>\n",
       "      <td>NaN</td>\n",
       "      <td>NaN</td>\n",
       "      <td>2</td>\n",
       "    </tr>\n",
       "    <tr>\n",
       "      <th>87</th>\n",
       "      <td>57</td>\n",
       "      <td>2</td>\n",
       "      <td>1.0</td>\n",
       "      <td>0.666667</td>\n",
       "      <td>0.333333</td>\n",
       "      <td>2</td>\n",
       "    </tr>\n",
       "    <tr>\n",
       "      <th>88</th>\n",
       "      <td>73</td>\n",
       "      <td>2</td>\n",
       "      <td>1.0</td>\n",
       "      <td>0.666667</td>\n",
       "      <td>0.333333</td>\n",
       "      <td>2</td>\n",
       "    </tr>\n",
       "    <tr>\n",
       "      <th>89</th>\n",
       "      <td>46</td>\n",
       "      <td>2</td>\n",
       "      <td>2.0</td>\n",
       "      <td>0.500000</td>\n",
       "      <td>0.500000</td>\n",
       "      <td>2</td>\n",
       "    </tr>\n",
       "    <tr>\n",
       "      <th>90</th>\n",
       "      <td>33</td>\n",
       "      <td>1</td>\n",
       "      <td>NaN</td>\n",
       "      <td>NaN</td>\n",
       "      <td>NaN</td>\n",
       "      <td>1</td>\n",
       "    </tr>\n",
       "    <tr>\n",
       "      <th>91</th>\n",
       "      <td>35</td>\n",
       "      <td>1</td>\n",
       "      <td>1.0</td>\n",
       "      <td>0.500000</td>\n",
       "      <td>0.500000</td>\n",
       "      <td>1</td>\n",
       "    </tr>\n",
       "    <tr>\n",
       "      <th>92</th>\n",
       "      <td>66</td>\n",
       "      <td>1</td>\n",
       "      <td>NaN</td>\n",
       "      <td>NaN</td>\n",
       "      <td>NaN</td>\n",
       "      <td>1</td>\n",
       "    </tr>\n",
       "    <tr>\n",
       "      <th>93</th>\n",
       "      <td>129</td>\n",
       "      <td>1</td>\n",
       "      <td>NaN</td>\n",
       "      <td>NaN</td>\n",
       "      <td>NaN</td>\n",
       "      <td>1</td>\n",
       "    </tr>\n",
       "    <tr>\n",
       "      <th>94</th>\n",
       "      <td>67</td>\n",
       "      <td>1</td>\n",
       "      <td>2.0</td>\n",
       "      <td>0.333333</td>\n",
       "      <td>0.666667</td>\n",
       "      <td>1</td>\n",
       "    </tr>\n",
       "    <tr>\n",
       "      <th>95</th>\n",
       "      <td>125</td>\n",
       "      <td>1</td>\n",
       "      <td>NaN</td>\n",
       "      <td>NaN</td>\n",
       "      <td>NaN</td>\n",
       "      <td>1</td>\n",
       "    </tr>\n",
       "    <tr>\n",
       "      <th>96</th>\n",
       "      <td>74</td>\n",
       "      <td>1</td>\n",
       "      <td>NaN</td>\n",
       "      <td>NaN</td>\n",
       "      <td>NaN</td>\n",
       "      <td>1</td>\n",
       "    </tr>\n",
       "    <tr>\n",
       "      <th>97</th>\n",
       "      <td>68</td>\n",
       "      <td>1</td>\n",
       "      <td>1.0</td>\n",
       "      <td>0.500000</td>\n",
       "      <td>0.500000</td>\n",
       "      <td>1</td>\n",
       "    </tr>\n",
       "    <tr>\n",
       "      <th>98</th>\n",
       "      <td>43</td>\n",
       "      <td>1</td>\n",
       "      <td>NaN</td>\n",
       "      <td>NaN</td>\n",
       "      <td>NaN</td>\n",
       "      <td>1</td>\n",
       "    </tr>\n",
       "    <tr>\n",
       "      <th>99</th>\n",
       "      <td>85</td>\n",
       "      <td>1</td>\n",
       "      <td>1.0</td>\n",
       "      <td>0.500000</td>\n",
       "      <td>0.500000</td>\n",
       "      <td>1</td>\n",
       "    </tr>\n",
       "    <tr>\n",
       "      <th>100</th>\n",
       "      <td>48</td>\n",
       "      <td>1</td>\n",
       "      <td>NaN</td>\n",
       "      <td>NaN</td>\n",
       "      <td>NaN</td>\n",
       "      <td>1</td>\n",
       "    </tr>\n",
       "    <tr>\n",
       "      <th>101</th>\n",
       "      <td>16</td>\n",
       "      <td>1</td>\n",
       "      <td>NaN</td>\n",
       "      <td>NaN</td>\n",
       "      <td>NaN</td>\n",
       "      <td>1</td>\n",
       "    </tr>\n",
       "    <tr>\n",
       "      <th>102</th>\n",
       "      <td>26</td>\n",
       "      <td>1</td>\n",
       "      <td>NaN</td>\n",
       "      <td>NaN</td>\n",
       "      <td>NaN</td>\n",
       "      <td>1</td>\n",
       "    </tr>\n",
       "    <tr>\n",
       "      <th>103</th>\n",
       "      <td>76</td>\n",
       "      <td>1</td>\n",
       "      <td>2.0</td>\n",
       "      <td>0.333333</td>\n",
       "      <td>0.666667</td>\n",
       "      <td>1</td>\n",
       "    </tr>\n",
       "    <tr>\n",
       "      <th>104</th>\n",
       "      <td>107</td>\n",
       "      <td>1</td>\n",
       "      <td>NaN</td>\n",
       "      <td>NaN</td>\n",
       "      <td>NaN</td>\n",
       "      <td>1</td>\n",
       "    </tr>\n",
       "    <tr>\n",
       "      <th>105</th>\n",
       "      <td>11</td>\n",
       "      <td>1</td>\n",
       "      <td>NaN</td>\n",
       "      <td>NaN</td>\n",
       "      <td>NaN</td>\n",
       "      <td>1</td>\n",
       "    </tr>\n",
       "    <tr>\n",
       "      <th>106</th>\n",
       "      <td>124</td>\n",
       "      <td>1</td>\n",
       "      <td>3.0</td>\n",
       "      <td>0.250000</td>\n",
       "      <td>0.750000</td>\n",
       "      <td>1</td>\n",
       "    </tr>\n",
       "    <tr>\n",
       "      <th>107</th>\n",
       "      <td>54</td>\n",
       "      <td>1</td>\n",
       "      <td>1.0</td>\n",
       "      <td>0.500000</td>\n",
       "      <td>0.500000</td>\n",
       "      <td>1</td>\n",
       "    </tr>\n",
       "    <tr>\n",
       "      <th>108</th>\n",
       "      <td>42</td>\n",
       "      <td>1</td>\n",
       "      <td>NaN</td>\n",
       "      <td>NaN</td>\n",
       "      <td>NaN</td>\n",
       "      <td>1</td>\n",
       "    </tr>\n",
       "    <tr>\n",
       "      <th>109</th>\n",
       "      <td>105</td>\n",
       "      <td>1</td>\n",
       "      <td>2.0</td>\n",
       "      <td>0.333333</td>\n",
       "      <td>0.666667</td>\n",
       "      <td>1</td>\n",
       "    </tr>\n",
       "    <tr>\n",
       "      <th>110</th>\n",
       "      <td>9</td>\n",
       "      <td>1</td>\n",
       "      <td>5.0</td>\n",
       "      <td>0.166667</td>\n",
       "      <td>0.833333</td>\n",
       "      <td>1</td>\n",
       "    </tr>\n",
       "    <tr>\n",
       "      <th>111</th>\n",
       "      <td>104</td>\n",
       "      <td>1</td>\n",
       "      <td>2.0</td>\n",
       "      <td>0.333333</td>\n",
       "      <td>0.666667</td>\n",
       "      <td>1</td>\n",
       "    </tr>\n",
       "    <tr>\n",
       "      <th>112</th>\n",
       "      <td>6</td>\n",
       "      <td>1</td>\n",
       "      <td>NaN</td>\n",
       "      <td>NaN</td>\n",
       "      <td>NaN</td>\n",
       "      <td>1</td>\n",
       "    </tr>\n",
       "    <tr>\n",
       "      <th>113</th>\n",
       "      <td>127</td>\n",
       "      <td>1</td>\n",
       "      <td>2.0</td>\n",
       "      <td>0.333333</td>\n",
       "      <td>0.666667</td>\n",
       "      <td>1</td>\n",
       "    </tr>\n",
       "  </tbody>\n",
       "</table>\n",
       "<p>114 rows × 6 columns</p>\n",
       "</div>"
      ],
      "text/plain": [
       "     brand  male_x  female   pctmale  pctfemale  male_y\n",
       "0       51   11382  5918.0  0.657919   0.342081   11382\n",
       "1       31    8716  4244.0  0.672531   0.327469    8716\n",
       "2       15    8238  5431.0  0.602678   0.397322    8238\n",
       "3      128    3396  1302.0  0.722861   0.277139    3396\n",
       "4        7    3212  2571.0  0.555421   0.444579    3212\n",
       "5       13    2986  2651.0  0.529714   0.470286    2986\n",
       "6      117    2260  1079.0  0.676849   0.323151    2260\n",
       "7      101    1798   893.0  0.668153   0.331847    1798\n",
       "8      120     721   402.0  0.642030   0.357970     721\n",
       "9        2     693   320.0  0.684107   0.315893     693\n",
       "10      18     632   229.0  0.734030   0.265970     632\n",
       "11      21     557   200.0  0.735799   0.264201     557\n",
       "12      96     486   229.0  0.679720   0.320280     486\n",
       "13      30     369   114.0  0.763975   0.236025     369\n",
       "14       3     232   100.0  0.698795   0.301205     232\n",
       "15      19     198    77.0  0.720000   0.280000     198\n",
       "16      10     158    62.0  0.718182   0.281818     158\n",
       "17      14     146    28.0  0.839080   0.160920     146\n",
       "18      82     141    63.0  0.691176   0.308824     141\n",
       "19     121     140    51.0  0.732984   0.267016     140\n",
       "20      25     122    70.0  0.635417   0.364583     122\n",
       "21      45     118    22.0  0.842857   0.157143     118\n",
       "22     108     117    53.0  0.688235   0.311765     117\n",
       "23      44     108    51.0  0.679245   0.320755     108\n",
       "24      62      85    18.0  0.825243   0.174757      85\n",
       "25      69      70   143.0  0.328638   0.671362      70\n",
       "26      12      48     8.0  0.857143   0.142857      48\n",
       "27      32      45    14.0  0.762712   0.237288      45\n",
       "28     115      42    25.0  0.626866   0.373134      42\n",
       "29     116      36    28.0  0.562500   0.437500      36\n",
       "..     ...     ...     ...       ...        ...     ...\n",
       "84      20       2     NaN       NaN        NaN       2\n",
       "85      58       2     NaN       NaN        NaN       2\n",
       "86      59       2     NaN       NaN        NaN       2\n",
       "87      57       2     1.0  0.666667   0.333333       2\n",
       "88      73       2     1.0  0.666667   0.333333       2\n",
       "89      46       2     2.0  0.500000   0.500000       2\n",
       "90      33       1     NaN       NaN        NaN       1\n",
       "91      35       1     1.0  0.500000   0.500000       1\n",
       "92      66       1     NaN       NaN        NaN       1\n",
       "93     129       1     NaN       NaN        NaN       1\n",
       "94      67       1     2.0  0.333333   0.666667       1\n",
       "95     125       1     NaN       NaN        NaN       1\n",
       "96      74       1     NaN       NaN        NaN       1\n",
       "97      68       1     1.0  0.500000   0.500000       1\n",
       "98      43       1     NaN       NaN        NaN       1\n",
       "99      85       1     1.0  0.500000   0.500000       1\n",
       "100     48       1     NaN       NaN        NaN       1\n",
       "101     16       1     NaN       NaN        NaN       1\n",
       "102     26       1     NaN       NaN        NaN       1\n",
       "103     76       1     2.0  0.333333   0.666667       1\n",
       "104    107       1     NaN       NaN        NaN       1\n",
       "105     11       1     NaN       NaN        NaN       1\n",
       "106    124       1     3.0  0.250000   0.750000       1\n",
       "107     54       1     1.0  0.500000   0.500000       1\n",
       "108     42       1     NaN       NaN        NaN       1\n",
       "109    105       1     2.0  0.333333   0.666667       1\n",
       "110      9       1     5.0  0.166667   0.833333       1\n",
       "111    104       1     2.0  0.333333   0.666667       1\n",
       "112      6       1     NaN       NaN        NaN       1\n",
       "113    127       1     2.0  0.333333   0.666667       1\n",
       "\n",
       "[114 rows x 6 columns]"
      ]
     },
     "execution_count": 718,
     "metadata": {},
     "output_type": "execute_result"
    }
   ],
   "source": []
  },
  {
   "cell_type": "code",
   "execution_count": 719,
   "metadata": {
    "collapsed": false
   },
   "outputs": [
    {
     "data": {
      "text/plain": [
       "114"
      ]
     },
     "execution_count": 719,
     "metadata": {},
     "output_type": "execute_result"
    }
   ],
   "source": [
    "len(genderbrandall2)"
   ]
  },
  {
   "cell_type": "code",
   "execution_count": 721,
   "metadata": {
    "collapsed": false
   },
   "outputs": [
    {
     "data": {
      "text/plain": [
       "38"
      ]
     },
     "execution_count": 721,
     "metadata": {},
     "output_type": "execute_result"
    }
   ],
   "source": [
    "len(genderbrandall2[genderbrandall2['pctfemale']>0.36].sort_values(by = 'pctfemale', ascending = False))"
   ]
  },
  {
   "cell_type": "code",
   "execution_count": 722,
   "metadata": {
    "collapsed": false
   },
   "outputs": [
    {
     "name": "stdout",
     "output_type": "stream",
     "text": [
      "only 38 out of hte unique phone models have % that is higher than 36 and besides 13 and 7 most of them have few units\n"
     ]
    }
   ],
   "source": [
    "print 'only 38 out of hte unique phone models have % that is higher than 36 and besides 13 and 7 most of them have few units'"
   ]
  },
  {
   "cell_type": "code",
   "execution_count": 725,
   "metadata": {
    "collapsed": false
   },
   "outputs": [
    {
     "data": {
      "text/html": [
       "<div>\n",
       "<table border=\"1\" class=\"dataframe\">\n",
       "  <thead>\n",
       "    <tr style=\"text-align: right;\">\n",
       "      <th></th>\n",
       "      <th>brand</th>\n",
       "      <th>male</th>\n",
       "      <th>female</th>\n",
       "      <th>pctmale</th>\n",
       "      <th>pctfemale</th>\n",
       "    </tr>\n",
       "  </thead>\n",
       "  <tbody>\n",
       "    <tr>\n",
       "      <th>0</th>\n",
       "      <td>51</td>\n",
       "      <td>11382</td>\n",
       "      <td>5918.0</td>\n",
       "      <td>0.657919</td>\n",
       "      <td>0.342081</td>\n",
       "    </tr>\n",
       "    <tr>\n",
       "      <th>1</th>\n",
       "      <td>31</td>\n",
       "      <td>8716</td>\n",
       "      <td>4244.0</td>\n",
       "      <td>0.672531</td>\n",
       "      <td>0.327469</td>\n",
       "    </tr>\n",
       "    <tr>\n",
       "      <th>2</th>\n",
       "      <td>15</td>\n",
       "      <td>8238</td>\n",
       "      <td>5431.0</td>\n",
       "      <td>0.602678</td>\n",
       "      <td>0.397322</td>\n",
       "    </tr>\n",
       "    <tr>\n",
       "      <th>3</th>\n",
       "      <td>128</td>\n",
       "      <td>3396</td>\n",
       "      <td>1302.0</td>\n",
       "      <td>0.722861</td>\n",
       "      <td>0.277139</td>\n",
       "    </tr>\n",
       "    <tr>\n",
       "      <th>4</th>\n",
       "      <td>7</td>\n",
       "      <td>3212</td>\n",
       "      <td>2571.0</td>\n",
       "      <td>0.555421</td>\n",
       "      <td>0.444579</td>\n",
       "    </tr>\n",
       "    <tr>\n",
       "      <th>5</th>\n",
       "      <td>13</td>\n",
       "      <td>2986</td>\n",
       "      <td>2651.0</td>\n",
       "      <td>0.529714</td>\n",
       "      <td>0.470286</td>\n",
       "    </tr>\n",
       "    <tr>\n",
       "      <th>6</th>\n",
       "      <td>117</td>\n",
       "      <td>2260</td>\n",
       "      <td>1079.0</td>\n",
       "      <td>0.676849</td>\n",
       "      <td>0.323151</td>\n",
       "    </tr>\n",
       "    <tr>\n",
       "      <th>7</th>\n",
       "      <td>101</td>\n",
       "      <td>1798</td>\n",
       "      <td>893.0</td>\n",
       "      <td>0.668153</td>\n",
       "      <td>0.331847</td>\n",
       "    </tr>\n",
       "    <tr>\n",
       "      <th>8</th>\n",
       "      <td>120</td>\n",
       "      <td>721</td>\n",
       "      <td>402.0</td>\n",
       "      <td>0.642030</td>\n",
       "      <td>0.357970</td>\n",
       "    </tr>\n",
       "    <tr>\n",
       "      <th>9</th>\n",
       "      <td>2</td>\n",
       "      <td>693</td>\n",
       "      <td>320.0</td>\n",
       "      <td>0.684107</td>\n",
       "      <td>0.315893</td>\n",
       "    </tr>\n",
       "    <tr>\n",
       "      <th>10</th>\n",
       "      <td>18</td>\n",
       "      <td>632</td>\n",
       "      <td>229.0</td>\n",
       "      <td>0.734030</td>\n",
       "      <td>0.265970</td>\n",
       "    </tr>\n",
       "    <tr>\n",
       "      <th>11</th>\n",
       "      <td>21</td>\n",
       "      <td>557</td>\n",
       "      <td>200.0</td>\n",
       "      <td>0.735799</td>\n",
       "      <td>0.264201</td>\n",
       "    </tr>\n",
       "    <tr>\n",
       "      <th>12</th>\n",
       "      <td>96</td>\n",
       "      <td>486</td>\n",
       "      <td>229.0</td>\n",
       "      <td>0.679720</td>\n",
       "      <td>0.320280</td>\n",
       "    </tr>\n",
       "    <tr>\n",
       "      <th>13</th>\n",
       "      <td>30</td>\n",
       "      <td>369</td>\n",
       "      <td>114.0</td>\n",
       "      <td>0.763975</td>\n",
       "      <td>0.236025</td>\n",
       "    </tr>\n",
       "    <tr>\n",
       "      <th>14</th>\n",
       "      <td>3</td>\n",
       "      <td>232</td>\n",
       "      <td>100.0</td>\n",
       "      <td>0.698795</td>\n",
       "      <td>0.301205</td>\n",
       "    </tr>\n",
       "    <tr>\n",
       "      <th>15</th>\n",
       "      <td>19</td>\n",
       "      <td>198</td>\n",
       "      <td>77.0</td>\n",
       "      <td>0.720000</td>\n",
       "      <td>0.280000</td>\n",
       "    </tr>\n",
       "    <tr>\n",
       "      <th>16</th>\n",
       "      <td>10</td>\n",
       "      <td>158</td>\n",
       "      <td>62.0</td>\n",
       "      <td>0.718182</td>\n",
       "      <td>0.281818</td>\n",
       "    </tr>\n",
       "    <tr>\n",
       "      <th>17</th>\n",
       "      <td>14</td>\n",
       "      <td>146</td>\n",
       "      <td>28.0</td>\n",
       "      <td>0.839080</td>\n",
       "      <td>0.160920</td>\n",
       "    </tr>\n",
       "    <tr>\n",
       "      <th>18</th>\n",
       "      <td>82</td>\n",
       "      <td>141</td>\n",
       "      <td>63.0</td>\n",
       "      <td>0.691176</td>\n",
       "      <td>0.308824</td>\n",
       "    </tr>\n",
       "    <tr>\n",
       "      <th>19</th>\n",
       "      <td>121</td>\n",
       "      <td>140</td>\n",
       "      <td>51.0</td>\n",
       "      <td>0.732984</td>\n",
       "      <td>0.267016</td>\n",
       "    </tr>\n",
       "    <tr>\n",
       "      <th>20</th>\n",
       "      <td>25</td>\n",
       "      <td>122</td>\n",
       "      <td>70.0</td>\n",
       "      <td>0.635417</td>\n",
       "      <td>0.364583</td>\n",
       "    </tr>\n",
       "    <tr>\n",
       "      <th>21</th>\n",
       "      <td>45</td>\n",
       "      <td>118</td>\n",
       "      <td>22.0</td>\n",
       "      <td>0.842857</td>\n",
       "      <td>0.157143</td>\n",
       "    </tr>\n",
       "    <tr>\n",
       "      <th>22</th>\n",
       "      <td>108</td>\n",
       "      <td>117</td>\n",
       "      <td>53.0</td>\n",
       "      <td>0.688235</td>\n",
       "      <td>0.311765</td>\n",
       "    </tr>\n",
       "    <tr>\n",
       "      <th>23</th>\n",
       "      <td>44</td>\n",
       "      <td>108</td>\n",
       "      <td>51.0</td>\n",
       "      <td>0.679245</td>\n",
       "      <td>0.320755</td>\n",
       "    </tr>\n",
       "    <tr>\n",
       "      <th>24</th>\n",
       "      <td>62</td>\n",
       "      <td>85</td>\n",
       "      <td>18.0</td>\n",
       "      <td>0.825243</td>\n",
       "      <td>0.174757</td>\n",
       "    </tr>\n",
       "    <tr>\n",
       "      <th>25</th>\n",
       "      <td>69</td>\n",
       "      <td>70</td>\n",
       "      <td>143.0</td>\n",
       "      <td>0.328638</td>\n",
       "      <td>0.671362</td>\n",
       "    </tr>\n",
       "    <tr>\n",
       "      <th>26</th>\n",
       "      <td>12</td>\n",
       "      <td>48</td>\n",
       "      <td>8.0</td>\n",
       "      <td>0.857143</td>\n",
       "      <td>0.142857</td>\n",
       "    </tr>\n",
       "    <tr>\n",
       "      <th>27</th>\n",
       "      <td>32</td>\n",
       "      <td>45</td>\n",
       "      <td>14.0</td>\n",
       "      <td>0.762712</td>\n",
       "      <td>0.237288</td>\n",
       "    </tr>\n",
       "    <tr>\n",
       "      <th>28</th>\n",
       "      <td>115</td>\n",
       "      <td>42</td>\n",
       "      <td>25.0</td>\n",
       "      <td>0.626866</td>\n",
       "      <td>0.373134</td>\n",
       "    </tr>\n",
       "    <tr>\n",
       "      <th>29</th>\n",
       "      <td>116</td>\n",
       "      <td>36</td>\n",
       "      <td>28.0</td>\n",
       "      <td>0.562500</td>\n",
       "      <td>0.437500</td>\n",
       "    </tr>\n",
       "    <tr>\n",
       "      <th>...</th>\n",
       "      <td>...</td>\n",
       "      <td>...</td>\n",
       "      <td>...</td>\n",
       "      <td>...</td>\n",
       "      <td>...</td>\n",
       "    </tr>\n",
       "    <tr>\n",
       "      <th>84</th>\n",
       "      <td>20</td>\n",
       "      <td>2</td>\n",
       "      <td>0.0</td>\n",
       "      <td>0.000000</td>\n",
       "      <td>0.000000</td>\n",
       "    </tr>\n",
       "    <tr>\n",
       "      <th>85</th>\n",
       "      <td>58</td>\n",
       "      <td>2</td>\n",
       "      <td>0.0</td>\n",
       "      <td>0.000000</td>\n",
       "      <td>0.000000</td>\n",
       "    </tr>\n",
       "    <tr>\n",
       "      <th>86</th>\n",
       "      <td>59</td>\n",
       "      <td>2</td>\n",
       "      <td>0.0</td>\n",
       "      <td>0.000000</td>\n",
       "      <td>0.000000</td>\n",
       "    </tr>\n",
       "    <tr>\n",
       "      <th>87</th>\n",
       "      <td>57</td>\n",
       "      <td>2</td>\n",
       "      <td>1.0</td>\n",
       "      <td>0.666667</td>\n",
       "      <td>0.333333</td>\n",
       "    </tr>\n",
       "    <tr>\n",
       "      <th>88</th>\n",
       "      <td>73</td>\n",
       "      <td>2</td>\n",
       "      <td>1.0</td>\n",
       "      <td>0.666667</td>\n",
       "      <td>0.333333</td>\n",
       "    </tr>\n",
       "    <tr>\n",
       "      <th>89</th>\n",
       "      <td>46</td>\n",
       "      <td>2</td>\n",
       "      <td>2.0</td>\n",
       "      <td>0.500000</td>\n",
       "      <td>0.500000</td>\n",
       "    </tr>\n",
       "    <tr>\n",
       "      <th>90</th>\n",
       "      <td>33</td>\n",
       "      <td>1</td>\n",
       "      <td>0.0</td>\n",
       "      <td>0.000000</td>\n",
       "      <td>0.000000</td>\n",
       "    </tr>\n",
       "    <tr>\n",
       "      <th>91</th>\n",
       "      <td>35</td>\n",
       "      <td>1</td>\n",
       "      <td>1.0</td>\n",
       "      <td>0.500000</td>\n",
       "      <td>0.500000</td>\n",
       "    </tr>\n",
       "    <tr>\n",
       "      <th>92</th>\n",
       "      <td>66</td>\n",
       "      <td>1</td>\n",
       "      <td>0.0</td>\n",
       "      <td>0.000000</td>\n",
       "      <td>0.000000</td>\n",
       "    </tr>\n",
       "    <tr>\n",
       "      <th>93</th>\n",
       "      <td>129</td>\n",
       "      <td>1</td>\n",
       "      <td>0.0</td>\n",
       "      <td>0.000000</td>\n",
       "      <td>0.000000</td>\n",
       "    </tr>\n",
       "    <tr>\n",
       "      <th>94</th>\n",
       "      <td>67</td>\n",
       "      <td>1</td>\n",
       "      <td>2.0</td>\n",
       "      <td>0.333333</td>\n",
       "      <td>0.666667</td>\n",
       "    </tr>\n",
       "    <tr>\n",
       "      <th>95</th>\n",
       "      <td>125</td>\n",
       "      <td>1</td>\n",
       "      <td>0.0</td>\n",
       "      <td>0.000000</td>\n",
       "      <td>0.000000</td>\n",
       "    </tr>\n",
       "    <tr>\n",
       "      <th>96</th>\n",
       "      <td>74</td>\n",
       "      <td>1</td>\n",
       "      <td>0.0</td>\n",
       "      <td>0.000000</td>\n",
       "      <td>0.000000</td>\n",
       "    </tr>\n",
       "    <tr>\n",
       "      <th>97</th>\n",
       "      <td>68</td>\n",
       "      <td>1</td>\n",
       "      <td>1.0</td>\n",
       "      <td>0.500000</td>\n",
       "      <td>0.500000</td>\n",
       "    </tr>\n",
       "    <tr>\n",
       "      <th>98</th>\n",
       "      <td>43</td>\n",
       "      <td>1</td>\n",
       "      <td>0.0</td>\n",
       "      <td>0.000000</td>\n",
       "      <td>0.000000</td>\n",
       "    </tr>\n",
       "    <tr>\n",
       "      <th>99</th>\n",
       "      <td>85</td>\n",
       "      <td>1</td>\n",
       "      <td>1.0</td>\n",
       "      <td>0.500000</td>\n",
       "      <td>0.500000</td>\n",
       "    </tr>\n",
       "    <tr>\n",
       "      <th>100</th>\n",
       "      <td>48</td>\n",
       "      <td>1</td>\n",
       "      <td>0.0</td>\n",
       "      <td>0.000000</td>\n",
       "      <td>0.000000</td>\n",
       "    </tr>\n",
       "    <tr>\n",
       "      <th>101</th>\n",
       "      <td>16</td>\n",
       "      <td>1</td>\n",
       "      <td>0.0</td>\n",
       "      <td>0.000000</td>\n",
       "      <td>0.000000</td>\n",
       "    </tr>\n",
       "    <tr>\n",
       "      <th>102</th>\n",
       "      <td>26</td>\n",
       "      <td>1</td>\n",
       "      <td>0.0</td>\n",
       "      <td>0.000000</td>\n",
       "      <td>0.000000</td>\n",
       "    </tr>\n",
       "    <tr>\n",
       "      <th>103</th>\n",
       "      <td>76</td>\n",
       "      <td>1</td>\n",
       "      <td>2.0</td>\n",
       "      <td>0.333333</td>\n",
       "      <td>0.666667</td>\n",
       "    </tr>\n",
       "    <tr>\n",
       "      <th>104</th>\n",
       "      <td>107</td>\n",
       "      <td>1</td>\n",
       "      <td>0.0</td>\n",
       "      <td>0.000000</td>\n",
       "      <td>0.000000</td>\n",
       "    </tr>\n",
       "    <tr>\n",
       "      <th>105</th>\n",
       "      <td>11</td>\n",
       "      <td>1</td>\n",
       "      <td>0.0</td>\n",
       "      <td>0.000000</td>\n",
       "      <td>0.000000</td>\n",
       "    </tr>\n",
       "    <tr>\n",
       "      <th>106</th>\n",
       "      <td>124</td>\n",
       "      <td>1</td>\n",
       "      <td>3.0</td>\n",
       "      <td>0.250000</td>\n",
       "      <td>0.750000</td>\n",
       "    </tr>\n",
       "    <tr>\n",
       "      <th>107</th>\n",
       "      <td>54</td>\n",
       "      <td>1</td>\n",
       "      <td>1.0</td>\n",
       "      <td>0.500000</td>\n",
       "      <td>0.500000</td>\n",
       "    </tr>\n",
       "    <tr>\n",
       "      <th>108</th>\n",
       "      <td>42</td>\n",
       "      <td>1</td>\n",
       "      <td>0.0</td>\n",
       "      <td>0.000000</td>\n",
       "      <td>0.000000</td>\n",
       "    </tr>\n",
       "    <tr>\n",
       "      <th>109</th>\n",
       "      <td>105</td>\n",
       "      <td>1</td>\n",
       "      <td>2.0</td>\n",
       "      <td>0.333333</td>\n",
       "      <td>0.666667</td>\n",
       "    </tr>\n",
       "    <tr>\n",
       "      <th>110</th>\n",
       "      <td>9</td>\n",
       "      <td>1</td>\n",
       "      <td>5.0</td>\n",
       "      <td>0.166667</td>\n",
       "      <td>0.833333</td>\n",
       "    </tr>\n",
       "    <tr>\n",
       "      <th>111</th>\n",
       "      <td>104</td>\n",
       "      <td>1</td>\n",
       "      <td>2.0</td>\n",
       "      <td>0.333333</td>\n",
       "      <td>0.666667</td>\n",
       "    </tr>\n",
       "    <tr>\n",
       "      <th>112</th>\n",
       "      <td>6</td>\n",
       "      <td>1</td>\n",
       "      <td>0.0</td>\n",
       "      <td>0.000000</td>\n",
       "      <td>0.000000</td>\n",
       "    </tr>\n",
       "    <tr>\n",
       "      <th>113</th>\n",
       "      <td>127</td>\n",
       "      <td>1</td>\n",
       "      <td>2.0</td>\n",
       "      <td>0.333333</td>\n",
       "      <td>0.666667</td>\n",
       "    </tr>\n",
       "  </tbody>\n",
       "</table>\n",
       "<p>114 rows × 5 columns</p>\n",
       "</div>"
      ],
      "text/plain": [
       "     brand   male  female   pctmale  pctfemale\n",
       "0       51  11382  5918.0  0.657919   0.342081\n",
       "1       31   8716  4244.0  0.672531   0.327469\n",
       "2       15   8238  5431.0  0.602678   0.397322\n",
       "3      128   3396  1302.0  0.722861   0.277139\n",
       "4        7   3212  2571.0  0.555421   0.444579\n",
       "5       13   2986  2651.0  0.529714   0.470286\n",
       "6      117   2260  1079.0  0.676849   0.323151\n",
       "7      101   1798   893.0  0.668153   0.331847\n",
       "8      120    721   402.0  0.642030   0.357970\n",
       "9        2    693   320.0  0.684107   0.315893\n",
       "10      18    632   229.0  0.734030   0.265970\n",
       "11      21    557   200.0  0.735799   0.264201\n",
       "12      96    486   229.0  0.679720   0.320280\n",
       "13      30    369   114.0  0.763975   0.236025\n",
       "14       3    232   100.0  0.698795   0.301205\n",
       "15      19    198    77.0  0.720000   0.280000\n",
       "16      10    158    62.0  0.718182   0.281818\n",
       "17      14    146    28.0  0.839080   0.160920\n",
       "18      82    141    63.0  0.691176   0.308824\n",
       "19     121    140    51.0  0.732984   0.267016\n",
       "20      25    122    70.0  0.635417   0.364583\n",
       "21      45    118    22.0  0.842857   0.157143\n",
       "22     108    117    53.0  0.688235   0.311765\n",
       "23      44    108    51.0  0.679245   0.320755\n",
       "24      62     85    18.0  0.825243   0.174757\n",
       "25      69     70   143.0  0.328638   0.671362\n",
       "26      12     48     8.0  0.857143   0.142857\n",
       "27      32     45    14.0  0.762712   0.237288\n",
       "28     115     42    25.0  0.626866   0.373134\n",
       "29     116     36    28.0  0.562500   0.437500\n",
       "..     ...    ...     ...       ...        ...\n",
       "84      20      2     0.0  0.000000   0.000000\n",
       "85      58      2     0.0  0.000000   0.000000\n",
       "86      59      2     0.0  0.000000   0.000000\n",
       "87      57      2     1.0  0.666667   0.333333\n",
       "88      73      2     1.0  0.666667   0.333333\n",
       "89      46      2     2.0  0.500000   0.500000\n",
       "90      33      1     0.0  0.000000   0.000000\n",
       "91      35      1     1.0  0.500000   0.500000\n",
       "92      66      1     0.0  0.000000   0.000000\n",
       "93     129      1     0.0  0.000000   0.000000\n",
       "94      67      1     2.0  0.333333   0.666667\n",
       "95     125      1     0.0  0.000000   0.000000\n",
       "96      74      1     0.0  0.000000   0.000000\n",
       "97      68      1     1.0  0.500000   0.500000\n",
       "98      43      1     0.0  0.000000   0.000000\n",
       "99      85      1     1.0  0.500000   0.500000\n",
       "100     48      1     0.0  0.000000   0.000000\n",
       "101     16      1     0.0  0.000000   0.000000\n",
       "102     26      1     0.0  0.000000   0.000000\n",
       "103     76      1     2.0  0.333333   0.666667\n",
       "104    107      1     0.0  0.000000   0.000000\n",
       "105     11      1     0.0  0.000000   0.000000\n",
       "106    124      1     3.0  0.250000   0.750000\n",
       "107     54      1     1.0  0.500000   0.500000\n",
       "108     42      1     0.0  0.000000   0.000000\n",
       "109    105      1     2.0  0.333333   0.666667\n",
       "110      9      1     5.0  0.166667   0.833333\n",
       "111    104      1     2.0  0.333333   0.666667\n",
       "112      6      1     0.0  0.000000   0.000000\n",
       "113    127      1     2.0  0.333333   0.666667\n",
       "\n",
       "[114 rows x 5 columns]"
      ]
     },
     "execution_count": 725,
     "metadata": {},
     "output_type": "execute_result"
    }
   ],
   "source": [
    "genderbrandall.fillna(0)"
   ]
  },
  {
   "cell_type": "code",
   "execution_count": null,
   "metadata": {
    "collapsed": true
   },
   "outputs": [],
   "source": []
  }
 ],
 "metadata": {
  "kernelspec": {
   "display_name": "Python 2",
   "language": "python",
   "name": "python2"
  },
  "language_info": {
   "codemirror_mode": {
    "name": "ipython",
    "version": 2
   },
   "file_extension": ".py",
   "mimetype": "text/x-python",
   "name": "python",
   "nbconvert_exporter": "python",
   "pygments_lexer": "ipython2",
   "version": "2.7.11"
  }
 },
 "nbformat": 4,
 "nbformat_minor": 0
}
